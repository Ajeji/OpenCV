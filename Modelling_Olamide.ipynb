{
  "nbformat": 4,
  "nbformat_minor": 0,
  "metadata": {
    "colab": {
      "provenance": [],
      "gpuType": "T4"
    },
    "kernelspec": {
      "name": "python3",
      "display_name": "Python 3"
    },
    "language_info": {
      "name": "python"
    },
    "accelerator": "GPU"
  },
  "cells": [
    {
      "cell_type": "markdown",
      "source": [
        "### **Install necessary Libraries**"
      ],
      "metadata": {
        "id": "oJMxzcE_0Clx"
      }
    },
    {
      "cell_type": "code",
      "source": [
        "!pip install tensorflow"
      ],
      "metadata": {
        "colab": {
          "base_uri": "https://localhost:8080/"
        },
        "id": "otcA2adoFzv9",
        "outputId": "554b5954-bb3f-4912-82c0-6eaabd719978"
      },
      "execution_count": 1,
      "outputs": [
        {
          "output_type": "stream",
          "name": "stdout",
          "text": [
            "Requirement already satisfied: tensorflow in /usr/local/lib/python3.10/dist-packages (2.12.0)\n",
            "Requirement already satisfied: absl-py>=1.0.0 in /usr/local/lib/python3.10/dist-packages (from tensorflow) (1.4.0)\n",
            "Requirement already satisfied: astunparse>=1.6.0 in /usr/local/lib/python3.10/dist-packages (from tensorflow) (1.6.3)\n",
            "Requirement already satisfied: flatbuffers>=2.0 in /usr/local/lib/python3.10/dist-packages (from tensorflow) (23.5.26)\n",
            "Requirement already satisfied: gast<=0.4.0,>=0.2.1 in /usr/local/lib/python3.10/dist-packages (from tensorflow) (0.4.0)\n",
            "Requirement already satisfied: google-pasta>=0.1.1 in /usr/local/lib/python3.10/dist-packages (from tensorflow) (0.2.0)\n",
            "Requirement already satisfied: grpcio<2.0,>=1.24.3 in /usr/local/lib/python3.10/dist-packages (from tensorflow) (1.56.2)\n",
            "Requirement already satisfied: h5py>=2.9.0 in /usr/local/lib/python3.10/dist-packages (from tensorflow) (3.8.0)\n",
            "Requirement already satisfied: jax>=0.3.15 in /usr/local/lib/python3.10/dist-packages (from tensorflow) (0.4.14)\n",
            "Requirement already satisfied: keras<2.13,>=2.12.0 in /usr/local/lib/python3.10/dist-packages (from tensorflow) (2.12.0)\n",
            "Requirement already satisfied: libclang>=13.0.0 in /usr/local/lib/python3.10/dist-packages (from tensorflow) (16.0.6)\n",
            "Requirement already satisfied: numpy<1.24,>=1.22 in /usr/local/lib/python3.10/dist-packages (from tensorflow) (1.23.5)\n",
            "Requirement already satisfied: opt-einsum>=2.3.2 in /usr/local/lib/python3.10/dist-packages (from tensorflow) (3.3.0)\n",
            "Requirement already satisfied: packaging in /usr/local/lib/python3.10/dist-packages (from tensorflow) (23.1)\n",
            "Requirement already satisfied: protobuf!=4.21.0,!=4.21.1,!=4.21.2,!=4.21.3,!=4.21.4,!=4.21.5,<5.0.0dev,>=3.20.3 in /usr/local/lib/python3.10/dist-packages (from tensorflow) (3.20.3)\n",
            "Requirement already satisfied: setuptools in /usr/local/lib/python3.10/dist-packages (from tensorflow) (67.7.2)\n",
            "Requirement already satisfied: six>=1.12.0 in /usr/local/lib/python3.10/dist-packages (from tensorflow) (1.16.0)\n",
            "Requirement already satisfied: tensorboard<2.13,>=2.12 in /usr/local/lib/python3.10/dist-packages (from tensorflow) (2.12.3)\n",
            "Requirement already satisfied: tensorflow-estimator<2.13,>=2.12.0 in /usr/local/lib/python3.10/dist-packages (from tensorflow) (2.12.0)\n",
            "Requirement already satisfied: termcolor>=1.1.0 in /usr/local/lib/python3.10/dist-packages (from tensorflow) (2.3.0)\n",
            "Requirement already satisfied: typing-extensions>=3.6.6 in /usr/local/lib/python3.10/dist-packages (from tensorflow) (4.7.1)\n",
            "Requirement already satisfied: wrapt<1.15,>=1.11.0 in /usr/local/lib/python3.10/dist-packages (from tensorflow) (1.14.1)\n",
            "Requirement already satisfied: tensorflow-io-gcs-filesystem>=0.23.1 in /usr/local/lib/python3.10/dist-packages (from tensorflow) (0.33.0)\n",
            "Requirement already satisfied: wheel<1.0,>=0.23.0 in /usr/local/lib/python3.10/dist-packages (from astunparse>=1.6.0->tensorflow) (0.41.0)\n",
            "Requirement already satisfied: ml-dtypes>=0.2.0 in /usr/local/lib/python3.10/dist-packages (from jax>=0.3.15->tensorflow) (0.2.0)\n",
            "Requirement already satisfied: scipy>=1.7 in /usr/local/lib/python3.10/dist-packages (from jax>=0.3.15->tensorflow) (1.10.1)\n",
            "Requirement already satisfied: google-auth<3,>=1.6.3 in /usr/local/lib/python3.10/dist-packages (from tensorboard<2.13,>=2.12->tensorflow) (2.17.3)\n",
            "Requirement already satisfied: google-auth-oauthlib<1.1,>=0.5 in /usr/local/lib/python3.10/dist-packages (from tensorboard<2.13,>=2.12->tensorflow) (1.0.0)\n",
            "Requirement already satisfied: markdown>=2.6.8 in /usr/local/lib/python3.10/dist-packages (from tensorboard<2.13,>=2.12->tensorflow) (3.4.4)\n",
            "Requirement already satisfied: requests<3,>=2.21.0 in /usr/local/lib/python3.10/dist-packages (from tensorboard<2.13,>=2.12->tensorflow) (2.31.0)\n",
            "Requirement already satisfied: tensorboard-data-server<0.8.0,>=0.7.0 in /usr/local/lib/python3.10/dist-packages (from tensorboard<2.13,>=2.12->tensorflow) (0.7.1)\n",
            "Requirement already satisfied: werkzeug>=1.0.1 in /usr/local/lib/python3.10/dist-packages (from tensorboard<2.13,>=2.12->tensorflow) (2.3.6)\n",
            "Requirement already satisfied: cachetools<6.0,>=2.0.0 in /usr/local/lib/python3.10/dist-packages (from google-auth<3,>=1.6.3->tensorboard<2.13,>=2.12->tensorflow) (5.3.1)\n",
            "Requirement already satisfied: pyasn1-modules>=0.2.1 in /usr/local/lib/python3.10/dist-packages (from google-auth<3,>=1.6.3->tensorboard<2.13,>=2.12->tensorflow) (0.3.0)\n",
            "Requirement already satisfied: rsa<5,>=3.1.4 in /usr/local/lib/python3.10/dist-packages (from google-auth<3,>=1.6.3->tensorboard<2.13,>=2.12->tensorflow) (4.9)\n",
            "Requirement already satisfied: requests-oauthlib>=0.7.0 in /usr/local/lib/python3.10/dist-packages (from google-auth-oauthlib<1.1,>=0.5->tensorboard<2.13,>=2.12->tensorflow) (1.3.1)\n",
            "Requirement already satisfied: charset-normalizer<4,>=2 in /usr/local/lib/python3.10/dist-packages (from requests<3,>=2.21.0->tensorboard<2.13,>=2.12->tensorflow) (3.2.0)\n",
            "Requirement already satisfied: idna<4,>=2.5 in /usr/local/lib/python3.10/dist-packages (from requests<3,>=2.21.0->tensorboard<2.13,>=2.12->tensorflow) (3.4)\n",
            "Requirement already satisfied: urllib3<3,>=1.21.1 in /usr/local/lib/python3.10/dist-packages (from requests<3,>=2.21.0->tensorboard<2.13,>=2.12->tensorflow) (1.26.16)\n",
            "Requirement already satisfied: certifi>=2017.4.17 in /usr/local/lib/python3.10/dist-packages (from requests<3,>=2.21.0->tensorboard<2.13,>=2.12->tensorflow) (2023.7.22)\n",
            "Requirement already satisfied: MarkupSafe>=2.1.1 in /usr/local/lib/python3.10/dist-packages (from werkzeug>=1.0.1->tensorboard<2.13,>=2.12->tensorflow) (2.1.3)\n",
            "Requirement already satisfied: pyasn1<0.6.0,>=0.4.6 in /usr/local/lib/python3.10/dist-packages (from pyasn1-modules>=0.2.1->google-auth<3,>=1.6.3->tensorboard<2.13,>=2.12->tensorflow) (0.5.0)\n",
            "Requirement already satisfied: oauthlib>=3.0.0 in /usr/local/lib/python3.10/dist-packages (from requests-oauthlib>=0.7.0->google-auth-oauthlib<1.1,>=0.5->tensorboard<2.13,>=2.12->tensorflow) (3.2.2)\n"
          ]
        }
      ]
    },
    {
      "cell_type": "code",
      "source": [
        "%matplotlib inline\n",
        "\n",
        "import os\n",
        "import matplotlib.pyplot as plt\n",
        "import matplotlib.image as mpimg\n",
        "import zipfile\n",
        "import shutil\n",
        "import numpy as np\n",
        "import tensorflow as tf\n",
        "from sklearn.model_selection import train_test_split"
      ],
      "metadata": {
        "id": "nijip5Ccwqu9"
      },
      "execution_count": 9,
      "outputs": []
    },
    {
      "cell_type": "markdown",
      "source": [
        "### **Mount drive to get access to image dataset**"
      ],
      "metadata": {
        "id": "mMKSoyRJlsh3"
      }
    },
    {
      "cell_type": "code",
      "execution_count": 3,
      "metadata": {
        "colab": {
          "base_uri": "https://localhost:8080/"
        },
        "id": "RfKl2jGMlvwr",
        "outputId": "4ace370b-01e3-41b0-eab1-5571a299b91f"
      },
      "outputs": [
        {
          "output_type": "stream",
          "name": "stdout",
          "text": [
            "Mounted at /content/drive\n"
          ]
        }
      ],
      "source": [
        "from google.colab import drive\n",
        "drive.mount('/content/drive')"
      ]
    },
    {
      "cell_type": "markdown",
      "source": [
        "### **Copy dataset from source in google drive to destination in colab environment**"
      ],
      "metadata": {
        "id": "czQOIlX0l_MH"
      }
    },
    {
      "cell_type": "code",
      "source": [
        "# Path to source directory on Google Drive\n",
        "source_directory = '/content/drive/MyDrive/IMAGE DATASET/raw'\n",
        "\n",
        "# Path to destination directory in Colab\n",
        "destination_directory = '/content_dataset/'\n",
        "\n",
        "# Copy dataset folders\n",
        "shutil.copytree(source_directory, destination_directory)\n"
      ],
      "metadata": {
        "colab": {
          "base_uri": "https://localhost:8080/",
          "height": 35
        },
        "id": "Zc_JJkas0O7N",
        "outputId": "6aeb7407-a2b0-4091-e903-ec23e880eb88"
      },
      "execution_count": 4,
      "outputs": [
        {
          "output_type": "execute_result",
          "data": {
            "text/plain": [
              "'/content_dataset/'"
            ],
            "application/vnd.google.colaboratory.intrinsic+json": {
              "type": "string"
            }
          },
          "metadata": {},
          "execution_count": 4
        }
      ]
    },
    {
      "cell_type": "markdown",
      "source": [
        "### **List out items in the dataset**"
      ],
      "metadata": {
        "id": "84gv5I6Jm9Fy"
      }
    },
    {
      "cell_type": "code",
      "source": [
        "# Get a list of items (files and subdirectories) in the directory\n",
        "items = os.listdir('/content_dataset/')\n",
        "\n",
        "# Print the list of items\n",
        "for item in items:\n",
        "    print(item)"
      ],
      "metadata": {
        "colab": {
          "base_uri": "https://localhost:8080/"
        },
        "id": "tQb7MMxA0Y59",
        "outputId": "cf2e1202-d298-4cb4-917a-657d7b81e627"
      },
      "execution_count": 5,
      "outputs": [
        {
          "output_type": "stream",
          "name": "stdout",
          "text": [
            "jaguar\n",
            "zebra\n",
            "elephant\n",
            "buffalo\n",
            "rhino\n",
            "fox\n",
            "cheetah\n",
            "panda\n",
            "leopard\n",
            "lion\n"
          ]
        }
      ]
    },
    {
      "cell_type": "markdown",
      "source": [
        "### **Combine all subfolders/classes into one dataset in an organized manner**"
      ],
      "metadata": {
        "id": "r_H_HszBnfN7"
      }
    },
    {
      "cell_type": "code",
      "source": [
        "import os\n",
        "import shutil\n",
        "\n",
        "# Specify source directory (containing subfolders)\n",
        "source_directory = '/content_dataset/'\n",
        "\n",
        "# Specify destination directory for the combined dataset\n",
        "combined_dataset_directory = '/content/combined_dataset/'\n",
        "\n",
        "# Create the destination directory if it doesn't exist\n",
        "os.makedirs(combined_dataset_directory, exist_ok=True)\n",
        "\n",
        "# Iterate through subfolders and copy images to the combined dataset directory\n",
        "for subfolder in os.listdir(source_directory):\n",
        "    subfolder_path = os.path.join(source_directory, subfolder)\n",
        "    if os.path.isdir(subfolder_path):\n",
        "        for file_name in os.listdir(subfolder_path):\n",
        "            file_path = os.path.join(subfolder_path, file_name)\n",
        "            if os.path.isfile(file_path):\n",
        "                # Create a subdirectory in the combined dataset for the class\n",
        "                class_directory = os.path.join(combined_dataset_directory, subfolder)\n",
        "                os.makedirs(class_directory, exist_ok=True)\n",
        "\n",
        "                # Copy the image to the class subdirectory\n",
        "                destination_path = os.path.join(class_directory, file_name)\n",
        "                shutil.copyfile(file_path, destination_path)\n",
        "\n",
        "print(\"Dataset combined successfully.\")"
      ],
      "metadata": {
        "colab": {
          "base_uri": "https://localhost:8080/"
        },
        "id": "qNei4te-DeI6",
        "outputId": "db453480-4173-4b8e-b961-376b0107f611"
      },
      "execution_count": 6,
      "outputs": [
        {
          "output_type": "stream",
          "name": "stdout",
          "text": [
            "Dataset combined successfully.\n"
          ]
        }
      ]
    },
    {
      "cell_type": "code",
      "source": [
        "# List the contents of the combined_dataset_directory\n",
        "combined_contents = os.listdir(combined_dataset_directory)\n",
        "print(\"Contents of combined dataset directory:\")\n",
        "print(combined_contents)\n",
        "\n",
        "# List the contents of the class subdirectories\n",
        "for subfolder in combined_contents:\n",
        "    subfolder_path = os.path.join(combined_dataset_directory, subfolder)\n",
        "    if os.path.isdir(subfolder_path):\n",
        "        subfolder_contents = os.listdir(subfolder_path)\n",
        "        print(f\"Contents of class subdirectory '{subfolder}':\")\n",
        "        print(subfolder_contents)\n"
      ],
      "metadata": {
        "colab": {
          "base_uri": "https://localhost:8080/"
        },
        "id": "Xnvfsr6ozEMp",
        "outputId": "0035de85-52a2-4904-f5c7-b5d5101b1424"
      },
      "execution_count": 7,
      "outputs": [
        {
          "output_type": "stream",
          "name": "stdout",
          "text": [
            "Contents of combined dataset directory:\n",
            "['jaguar', 'zebra', 'elephant', 'buffalo', 'rhino', 'fox', 'cheetah', 'panda', 'leopard', 'lion']\n",
            "Contents of class subdirectory 'jaguar':\n",
            "['00faed7a340a1101.jpg', 'd879bc987a5647b0.txt', 'd7a37993c69a9c06.txt', 'ab00771218f8d0b4.jpg', '28cd82b6ffaf4f82.txt', '05101fc57a1cddb9.jpg', '25c9037366f5d1fa.jpg', 'd555c6e7b78f0129.txt', '311ac95022868cce.txt', '2842be8d4362a102.jpg', '621554a236114e55.jpg', '025d25975e4275a2.txt', '00d9eb862ba3dfc6.jpg', '2d26feceab162643.txt', '298e72b6fc9e7cd8.txt', '12271a9ed07dc28e.txt', '292b2e92713b2b0e.jpg', '0107395b9550040b.jpg', '05369add5239d3db.txt', '4b13bd8892c5e377.jpg', '5bb7d055e317cffd.txt', '3cdad21202142dde.jpg', '0ff0dc652d533877.jpg', 'bb5cf06e0c97f373.jpg', '6752ad0ae33685f9.txt', '621554a236114e55.txt', '0107395b9550040b.txt', '12271a9ed07dc28e.jpg', 'd555c6e7b78f0129.jpg', 'db21d2f3774862b0.txt', 'ca2e9812a717b9b4.txt', 'c01556a0d0cd6f30.jpg', '00faed7a340a1101.txt', '5bb7d055e317cffd.jpg', 'bb5cf06e0c97f373.txt', '0d8bdffd0fa41b84.jpg', '387334f251867b5f.jpg', '025ee4909cb7e97e.jpg', '292b2e92713b2b0e.txt', '025ee4909cb7e97e.txt', '2a2315f9d23f97c5.txt', '9ce1cce41985b219.jpg', '05369add5239d3db.jpg', 'a8537e4f51d66e24.jpg', 'ab00771218f8d0b4.txt', 'ef7b8b92b0c801af.txt', '71063759c6247c81.jpg', '19ad96995792d1f4.txt', '17ae168666e01588.txt', '1111983278b100e8.txt', '481c1a8cb4b466df.txt', '455c78a26fc7ebf7.jpg', '2842be8d4362a102.txt', '839eeda355804ea0.txt', '4b13bd8892c5e377.txt', '6d613ea1b58411f1.txt', '33c9857d5feba986.jpg', '00d9eb862ba3dfc6.txt', '33c9857d5feba986.txt', '3debda828eb3cead.jpg', '77b39c20caa61c5a.txt', '2d9c29952b9e802b.jpg', '86d4292bc171f835.jpg', '166d6bfacff86039.txt', '1880576823018b60.txt', '8e6a3e3111dde317.txt', '0c04000699dd0436.jpg', '265896f3a94bd420.jpg', '3c77c451d3580d53.txt', '90c41ae2bb708b2b.jpg', '3462ae5639cf64b0.txt', '25c9037366f5d1fa.txt', 'f17c21d7591c770e.jpg', '8e6a3e3111dde317.jpg', '03de3c7807d59601.jpg', 'dc4d55d2094ca0e7.txt', '906a6d5d1128be13.txt', '0451a64b6d93c015.jpg', '455c78a26fc7ebf7.txt', '9f01fa5125c7d438.jpg', '56d472b72f750335.txt', 'ce863a4091dd5aed.txt', '0451a64b6d93c015.txt', '2d26feceab162643.jpg', '2fd43212cbd1eed9.jpg', '340335ba3759909f.jpg', '137e80a3d6afce59.txt', 'ef7b8b92b0c801af.jpg', 'a8537e4f51d66e24.txt', '9ce1cce41985b219.txt', '13f5e8d42c3995c1.jpg', '8525f4bace7c6046.jpg', '2229c90e6028e2e9.txt', '17ae168666e01588.jpg', '7b655b3121c633b4.txt', '839eeda355804ea0.jpg', '28cd82b6ffaf4f82.jpg', '4485c8a6009f67f0.txt', 'dc4d55d2094ca0e7.jpg', '1bea54a4c02d2829.txt', '03de3c7807d59601.txt', '298e72b6fc9e7cd8.jpg', 'd290e0d60662e297.jpg', 'd290e0d60662e297.txt', 'ca2e9812a717b9b4.jpg', '2256b389cf644faf.jpg', '7b655b3121c633b4.jpg', '2a8f717f2f54182e.jpg', '02213bb42b24841a.jpg', '2229c90e6028e2e9.jpg', '9f01fa5125c7d438.txt', '0ad924a66f5ea8b4.jpg', '9219f6177b44388f.txt', '2f7ad680ffebc691.jpg', '166d6bfacff86039.jpg', '6fc49bbc6acde1e9.txt', 'a33704d687da856f.jpg', '3cdad21202142dde.txt', '3c77c451d3580d53.jpg', '2f7ad680ffebc691.txt', '1b94c30d1407cc6c.jpg', 'a33704d687da856f.txt', '29bc7b1fdb3c048d.txt', '1bea54a4c02d2829.jpg', '2a2315f9d23f97c5.jpg', '82ce54b03fb131d8.txt', '6277d19ee874517e.jpg', '088d2b1af532f609.jpg', '06d29b1f55dffe75.txt', '0c04000699dd0436.txt', '0d8bdffd0fa41b84.txt', '02213bb42b24841a.txt', '71d9849a0117ebc7.txt', '06d29b1f55dffe75.jpg', '0ad924a66f5ea8b4.txt', '025d25975e4275a2.jpg', '088d2b1af532f609.txt', '875c88039ba6bcca.jpg', '8525f4bace7c6046.txt', '4485c8a6009f67f0.jpg', '1156515b1c0490fe.jpg', '71063759c6247c81.txt', '875c88039ba6bcca.txt', 'e45e8bcc137926d8.txt', '1880576823018b60.jpg', '3369155dac8f0dff.jpg', 'bb90a60f10aa66c8.txt', '71d9849a0117ebc7.jpg', '1d6cd967919e36aa.jpg', '265896f3a94bd420.txt', '1512b780c970baa7.jpg', '6d613ea1b58411f1.jpg', 'c01556a0d0cd6f30.txt', 'f17c21d7591c770e.txt', '906a6d5d1128be13.jpg', '6752ad0ae33685f9.jpg', '05101fc57a1cddb9.txt', '2fd43212cbd1eed9.txt', '29bc7b1fdb3c048d.jpg', '76dc66d32fe2f3d5.jpg', '77b39c20caa61c5a.jpg', 'ce863a4091dd5aed.jpg', '311ac95022868cce.jpg', 'd879bc987a5647b0.jpg', '56d472b72f750335.jpg', '13f5e8d42c3995c1.txt', '86d4292bc171f835.txt', '2a8f717f2f54182e.txt', 'bea43537fab96e66.jpg', '2256b389cf644faf.txt', '6fc49bbc6acde1e9.jpg', 'd7a37993c69a9c06.jpg', '1111983278b100e8.jpg', '2d9c29952b9e802b.txt', '76dc66d32fe2f3d5.txt', '1156515b1c0490fe.txt', '90c41ae2bb708b2b.txt', '3debda828eb3cead.txt', '481c1a8cb4b466df.jpg', '82ce54b03fb131d8.jpg', '1512b780c970baa7.txt', '387334f251867b5f.txt', 'bea43537fab96e66.txt', 'bb90a60f10aa66c8.jpg', '9219f6177b44388f.jpg', '3462ae5639cf64b0.jpg', 'e45e8bcc137926d8.jpg', '137e80a3d6afce59.jpg', 'f3475d169367ccbe.txt', '340335ba3759909f.txt', '6277d19ee874517e.txt', 'db21d2f3774862b0.jpg', '3369155dac8f0dff.txt', '1b0ce31951048765.jpg', '19ad96995792d1f4.jpg', 'f3475d169367ccbe.jpg', '1d6cd967919e36aa.txt', '1b0ce31951048765.txt', '1b94c30d1407cc6c.txt', '0ff0dc652d533877.txt']\n",
            "Contents of class subdirectory 'zebra':\n",
            "['110.jpg', '051.txt', '153.txt', '121.jpg', '293.txt', '270.jpg', '348.txt', '248.jpg', '256.txt', '205.txt', '215.jpg', '135.jpg', '210.txt', '370.jpg', '133.txt', '003.txt', '182.txt', '321.jpg', '072.txt', '045.jpg', '187.txt', '179.txt', '358.jpg', '046.txt', '178.jpg', '257.txt', '076.txt', '037.txt', '232.txt', '138.jpg', '106.jpg', '192.jpg', '059.jpg', '031.txt', '258.jpg', '370.txt', '335.jpg', '372.txt', '040.jpg', '152.jpg', '170.jpg', '253.jpg', '356.txt', '077.jpg', '315.txt', '375.txt', '129.txt', '302.txt', '065.jpg', '213.jpg', '303.txt', '205.jpg', '311.txt', '082.txt', '292.jpg', '155.jpg', '176.txt', '217.txt', '337.txt', '161.txt', '058.jpg', '211.txt', '216.txt', '379.jpg', '314.jpg', '264.txt', '152.txt', '120.txt', '066.jpg', '029.jpg', '218.jpg', '030.txt', '217.jpg', '033.jpg', '268.jpg', '065.txt', '133.jpg', '235.txt', '374.jpg', '342.jpg', '124.txt', '242.txt', '247.jpg', '030.jpg', '180.jpg', '161.jpg', '159.jpg', '074.txt', '080.txt', '357.txt', '018.jpg', '181.txt', '280.txt', '334.jpg', '077.txt', '044.jpg', '061.jpg', '123.jpg', '296.jpg', '263.jpg', '354.txt', '105.jpg', '290.txt', '192.txt', '309.jpg', '328.jpg', '288.txt', '084.jpg', '282.txt', '085.jpg', '272.jpg', '039.jpg', '315.jpg', '350.txt', '018.txt', '304.txt', '125.txt', '109.txt', '288.jpg', '147.txt', '204.txt', '128.txt', '054.txt', '260.txt', '241.jpg', '340.jpg', '316.txt', '276.txt', '102.txt', '125.jpg', '173.txt', '223.txt', '032.jpg', '026.jpg', '035.jpg', '087.txt', '206.txt', '235.jpg', '045.txt', '154.jpg', '260.jpg', '311.jpg', '253.txt', '295.txt', '031.jpg', '081.txt', '261.txt', '013.txt', '011.jpg', '271.jpg', '375.jpg', '305.txt', '246.jpg', '021.jpg', '131.jpg', '073.txt', '359.jpg', '206.jpg', '036.txt', '230.jpg', '102.jpg', '146.jpg', '193.jpg', '078.txt', '323.jpg', '347.txt', '140.txt', '011.txt', '276.jpg', '337.jpg', '143.jpg', '146.txt', '103.jpg', '128.jpg', '108.txt', '177.jpg', '364.txt', '380.txt', '239.jpg', '285.jpg', '296.txt', '179.jpg', '377.jpg', '141.txt', '326.jpg', '238.txt', '110.txt', '010.txt', '378.jpg', '130.jpg', '355.txt', '259.txt', '187.jpg', '312.jpg', '268.txt', '333.txt', '291.jpg', '166.txt', '373.jpg', '193.txt', '207.txt', '070.jpg', '344.jpg', '053.txt', '286.txt', '043.jpg', '144.jpg', '015.jpg', '374.txt', '201.txt', '346.jpg', '267.txt', '215.txt', '020.txt', '134.jpg', '043.txt', '261.jpg', '139.jpg', '104.txt', '322.txt', '190.jpg', '234.jpg', '095.txt', '168.jpg', '237.jpg', '318.txt', '273.txt', '038.jpg', '266.jpg', '228.jpg', '063.txt', '294.txt', '343.txt', '329.jpg', '100.jpg', '057.jpg', '209.txt', '186.jpg', '258.txt', '362.txt', '033.txt', '372.jpg', '123.txt', '327.txt', '100.txt', '081.jpg', '078.jpg', '093.jpg', '181.jpg', '149.txt', '114.txt', '149.jpg', '189.txt', '108.jpg', '025.txt', '039.txt', '313.jpg', '203.jpg', '079.txt', '034.txt', '170.txt', '309.txt', '318.jpg', '310.jpg', '183.txt', '008.jpg', '035.txt', '171.jpg', '002.txt', '317.txt', '001.jpg', '265.jpg', '356.jpg', '279.jpg', '299.txt', '132.jpg', '070.txt', '306.jpg', '185.jpg', '262.txt', '255.txt', '086.txt', '361.jpg', '264.jpg', '160.txt', '074.jpg', '231.txt', '249.txt', '050.jpg', '357.jpg', '096.txt', '186.txt', '330.jpg', '203.txt', '122.jpg', '278.jpg', '121.txt', '336.jpg', '107.txt', '079.jpg', '262.jpg', '172.jpg', '062.jpg', '294.jpg', '228.txt', '324.jpg', '118.jpg', '350.jpg', '069.txt', '060.jpg', '163.jpg', '347.jpg', '142.jpg', '174.jpg', '236.txt', '099.txt', '365.jpg', '246.txt', '301.jpg', '175.txt', '082.jpg', '019.jpg', '191.txt', '270.txt', '169.jpg', '207.jpg', '281.txt', '197.jpg', '212.txt', '013.jpg', '171.txt', '025.jpg', '338.jpg', '052.jpg', '167.txt', '198.txt', '325.txt', '195.txt', '319.jpg', '307.jpg', '158.jpg', '265.txt', '027.jpg', '062.txt', '041.jpg', '336.txt', '285.txt', '120.jpg', '174.txt', '023.txt', '020.jpg', '198.jpg', '308.txt', '320.txt', '284.jpg', '229.txt', '196.txt', '006.jpg', '085.txt', '189.jpg', '016.txt', '007.jpg', '208.txt', '364.jpg', '259.jpg', '282.jpg', '106.txt', '188.jpg', '101.txt', '212.jpg', '002.jpg', '021.txt', '308.jpg', '245.jpg', '289.jpg', '250.jpg', '252.txt', '088.txt', '226.txt', '305.jpg', '009.jpg', '346.txt', '061.txt', '122.txt', '371.jpg', '037.jpg', '075.txt', '024.txt', '279.txt', '148.txt', '105.txt', '004.jpg', '194.jpg', '050.txt', '297.jpg', '251.txt', '239.txt', '090.jpg', '380.jpg', '224.jpg', '064.jpg', '216.jpg', '091.jpg', '142.txt', '341.jpg', '273.jpg', '368.jpg', '071.txt', '275.txt', '277.txt', '316.jpg', '344.txt', '266.txt', '290.jpg', '227.txt', '150.jpg', '284.txt', '107.jpg', '210.jpg', '056.txt', '362.jpg', '091.txt', '145.txt', '330.txt', '225.jpg', '005.jpg', '218.txt', '292.txt', '254.jpg', '016.jpg', '274.txt', '169.txt', '229.jpg', '230.txt', '130.txt', '339.jpg', '321.txt', '145.jpg', '027.txt', '341.txt', '277.jpg', '263.txt', '012.txt', '234.txt', '363.txt', '224.txt', '141.jpg', '221.jpg', '303.jpg', '115.txt', '178.txt', '310.txt', '053.jpg', '204.jpg', '092.txt', '089.txt', '127.txt', '238.jpg', '075.jpg', '345.txt', '060.txt', '191.jpg', '136.jpg', '225.txt', '331.txt', '307.txt', '007.txt', '332.jpg', '023.jpg', '028.jpg', '291.txt', '058.txt', '359.txt', '046.jpg', '157.jpg', '131.txt', '248.txt', '244.jpg', '281.jpg', '360.txt', '119.jpg', '378.txt', '188.txt', '351.jpg', '019.txt', '185.txt', '008.txt', '202.jpg', '151.txt', '314.txt', '231.jpg', '164.txt', '111.jpg', '113.txt', '095.jpg', '269.txt', '001.txt', '200.txt', '222.jpg', '342.txt', '083.txt', '094.txt', '063.jpg', '304.jpg', '197.txt', '076.jpg', '326.txt', '151.jpg', '334.txt', '140.jpg', '219.txt', '295.jpg', '247.txt', '355.jpg', '158.txt', '134.txt', '072.jpg', '042.txt', '071.jpg', '126.jpg', '184.jpg', '283.jpg', '251.jpg', '214.jpg', '148.jpg', '190.txt', '269.jpg', '249.jpg', '306.txt', '349.jpg', '331.jpg', '175.jpg', '132.txt', '104.jpg', '138.txt', '325.jpg', '069.jpg', '329.txt', '343.jpg', '112.jpg', '297.txt', '080.jpg', '240.txt', '010.jpg', '160.jpg', '041.txt', '335.txt', '117.txt', '057.txt', '017.txt', '369.txt', '099.jpg', '067.jpg', '068.jpg', '017.jpg', '302.jpg', '049.jpg', '157.txt', '289.txt', '371.txt', '026.txt', '098.txt', '051.jpg', '367.jpg', '354.jpg', '283.txt', '257.jpg', '094.jpg', '340.txt', '173.jpg', '059.txt', '155.txt', '320.jpg', '223.jpg', '022.txt', '032.txt', '358.txt', '196.jpg', '162.jpg', '129.jpg', '088.jpg', '199.txt', '139.txt', '339.txt', '049.txt', '208.jpg', '219.jpg', '242.jpg', '220.txt', '116.txt', '036.jpg', '272.txt', '214.txt', '200.jpg', '014.txt', '240.jpg', '048.jpg', '227.jpg', '154.txt', '086.jpg', '150.txt', '177.txt', '255.jpg', '287.txt', '092.jpg', '366.jpg', '165.txt', '360.jpg', '093.txt', '162.txt', '083.jpg', '054.jpg', '124.jpg', '118.txt', '367.txt', '226.jpg', '353.jpg', '015.txt', '332.txt', '182.jpg', '087.jpg', '254.txt', '143.txt', '068.txt', '147.jpg', '237.txt', '098.jpg', '365.txt', '135.txt', '117.jpg', '322.jpg', '287.jpg', '245.txt', '352.txt', '047.txt', '029.txt', '199.jpg', '115.jpg', '351.txt', '164.jpg', '144.txt', '209.jpg', '109.jpg', '112.txt', '084.txt', '243.jpg', '202.txt', '267.jpg', '213.txt', '172.txt', '168.txt', '327.jpg', '024.jpg', '349.txt', '361.txt', '300.txt', '184.txt', '377.txt', '313.txt', '221.txt', '286.jpg', '195.jpg', '256.jpg', '194.txt', '153.jpg', '073.jpg', '097.txt', '004.txt', '119.txt', '101.jpg', '034.jpg', '047.jpg', '293.jpg', '028.txt', '333.jpg', '244.txt', '126.txt', '064.txt', '022.jpg', '111.txt', '165.jpg', '312.txt', '067.txt', '167.jpg', '183.jpg', '232.jpg', '352.jpg', '180.txt', '116.jpg', '271.txt', '328.txt', '009.txt', '348.jpg', '163.txt', '252.jpg', '113.jpg', '005.txt', '038.txt', '089.jpg', '156.jpg', '376.txt', '166.jpg', '044.txt', '301.txt', '368.txt', '127.jpg', '236.jpg', '319.txt', '176.jpg', '103.txt', '278.txt', '379.txt', '250.txt', '300.jpg', '052.txt', '136.txt', '324.txt', '014.jpg', '299.jpg', '243.txt', '376.jpg', '012.jpg', '201.jpg', '338.txt', '353.txt', '042.jpg', '366.txt', '066.txt', '275.jpg', '040.txt', '090.txt', '280.jpg', '373.txt', '159.txt', '274.jpg', '056.jpg', '345.jpg', '096.jpg', '241.txt', '323.txt', '211.jpg', '006.txt', '114.jpg', '363.jpg', '222.txt', '048.txt', '003.jpg', '220.jpg', '317.jpg', '097.jpg', '156.txt', '369.jpg']\n",
            "Contents of class subdirectory 'elephant':\n",
            "['110.jpg', '051.txt', '153.txt', '121.jpg', '293.txt', '270.jpg', '348.txt', '248.jpg', '256.txt', '205.txt', '215.jpg', '135.jpg', '210.txt', '370.jpg', '133.txt', '003.txt', '182.txt', '321.jpg', '072.txt', '045.jpg', '187.txt', '179.txt', '358.jpg', '046.txt', '178.jpg', '257.txt', '076.txt', '037.txt', '232.txt', '138.jpg', '106.jpg', '192.jpg', '059.jpg', '031.txt', '258.jpg', '370.txt', '335.jpg', '372.txt', '040.jpg', '152.jpg', '170.jpg', '253.jpg', '356.txt', '077.jpg', '315.txt', '375.txt', '137.txt', '129.txt', '302.txt', '065.jpg', '213.jpg', '303.txt', '205.jpg', '298.txt', '311.txt', '082.txt', '292.jpg', '155.jpg', '176.txt', '217.txt', '337.txt', '161.txt', '058.jpg', '211.txt', '216.txt', '314.jpg', '264.txt', '152.txt', '120.txt', '066.jpg', '029.jpg', '218.jpg', '030.txt', '217.jpg', '033.jpg', '268.jpg', '065.txt', '133.jpg', '235.txt', '374.jpg', '342.jpg', '124.txt', '242.txt', '247.jpg', '030.jpg', '180.jpg', '161.jpg', '159.jpg', '074.txt', '080.txt', '357.txt', '018.jpg', '181.txt', '280.txt', '334.jpg', '077.txt', '044.jpg', '061.jpg', '123.jpg', '296.jpg', '263.jpg', '354.txt', '105.jpg', '290.txt', '192.txt', '309.jpg', '328.jpg', '288.txt', '084.jpg', '282.txt', '085.jpg', '272.jpg', '039.jpg', '315.jpg', '350.txt', '018.txt', '304.txt', '125.txt', '109.txt', '288.jpg', '147.txt', '204.txt', '128.txt', '054.txt', '260.txt', '241.jpg', '340.jpg', '316.txt', '276.txt', '102.txt', '125.jpg', '173.txt', '223.txt', '032.jpg', '026.jpg', '035.jpg', '087.txt', '206.txt', '235.jpg', '045.txt', '154.jpg', '260.jpg', '311.jpg', '253.txt', '295.txt', '031.jpg', '081.txt', '261.txt', '013.txt', '011.jpg', '271.jpg', '375.jpg', '305.txt', '246.jpg', '021.jpg', '131.jpg', '073.txt', '359.jpg', '206.jpg', '036.txt', '230.jpg', '102.jpg', '146.jpg', '193.jpg', '078.txt', '323.jpg', '347.txt', '140.txt', '011.txt', '276.jpg', '337.jpg', '143.jpg', '146.txt', '103.jpg', '128.jpg', '108.txt', '177.jpg', '364.txt', '239.jpg', '285.jpg', '296.txt', '179.jpg', '377.jpg', '141.txt', '326.jpg', '238.txt', '110.txt', '010.txt', '130.jpg', '355.txt', '259.txt', '055.txt', '187.jpg', '312.jpg', '268.txt', '333.txt', '291.jpg', '166.txt', '373.jpg', '193.txt', '207.txt', '070.jpg', '344.jpg', '053.txt', '286.txt', '043.jpg', '144.jpg', '015.jpg', '374.txt', '201.txt', '346.jpg', '267.txt', '215.txt', '020.txt', '134.jpg', '043.txt', '261.jpg', '139.jpg', '104.txt', '190.jpg', '234.jpg', '095.txt', '168.jpg', '237.jpg', '318.txt', '273.txt', '038.jpg', '266.jpg', '228.jpg', '063.txt', '294.txt', '343.txt', '329.jpg', '100.jpg', '057.jpg', '209.txt', '186.jpg', '258.txt', '362.txt', '033.txt', '372.jpg', '123.txt', '327.txt', '100.txt', '081.jpg', '078.jpg', '093.jpg', '181.jpg', '149.txt', '114.txt', '149.jpg', '189.txt', '108.jpg', '025.txt', '055.jpg', '039.txt', '313.jpg', '203.jpg', '079.txt', '034.txt', '170.txt', '309.txt', '318.jpg', '310.jpg', '183.txt', '008.jpg', '035.txt', '171.jpg', '002.txt', '317.txt', '001.jpg', '265.jpg', '356.jpg', '279.jpg', '299.txt', '132.jpg', '070.txt', '306.jpg', '185.jpg', '262.txt', '255.txt', '086.txt', '361.jpg', '264.jpg', '160.txt', '074.jpg', '231.txt', '249.txt', '050.jpg', '357.jpg', '096.txt', '186.txt', '330.jpg', '203.txt', '122.jpg', '278.jpg', '121.txt', '336.jpg', '107.txt', '079.jpg', '262.jpg', '172.jpg', '062.jpg', '294.jpg', '228.txt', '324.jpg', '118.jpg', '350.jpg', '069.txt', '060.jpg', '163.jpg', '347.jpg', '142.jpg', '174.jpg', '236.txt', '099.txt', '365.jpg', '246.txt', '301.jpg', '175.txt', '082.jpg', '019.jpg', '191.txt', '270.txt', '169.jpg', '207.jpg', '281.txt', '197.jpg', '212.txt', '013.jpg', '171.txt', '025.jpg', '338.jpg', '052.jpg', '167.txt', '198.txt', '325.txt', '195.txt', '319.jpg', '307.jpg', '158.jpg', '265.txt', '027.jpg', '062.txt', '041.jpg', '336.txt', '285.txt', '120.jpg', '174.txt', '023.txt', '020.jpg', '198.jpg', '308.txt', '320.txt', '284.jpg', '229.txt', '196.txt', '006.jpg', '085.txt', '189.jpg', '016.txt', '007.jpg', '208.txt', '364.jpg', '259.jpg', '282.jpg', '106.txt', '188.jpg', '101.txt', '212.jpg', '002.jpg', '021.txt', '308.jpg', '245.jpg', '289.jpg', '250.jpg', '252.txt', '088.txt', '226.txt', '305.jpg', '009.jpg', '346.txt', '061.txt', '122.txt', '371.jpg', '037.jpg', '075.txt', '024.txt', '279.txt', '148.txt', '105.txt', '004.jpg', '194.jpg', '298.jpg', '050.txt', '297.jpg', '251.txt', '239.txt', '090.jpg', '224.jpg', '064.jpg', '091.jpg', '142.txt', '341.jpg', '273.jpg', '368.jpg', '071.txt', '275.txt', '277.txt', '316.jpg', '344.txt', '266.txt', '290.jpg', '227.txt', '150.jpg', '284.txt', '107.jpg', '210.jpg', '056.txt', '362.jpg', '091.txt', '145.txt', '330.txt', '225.jpg', '005.jpg', '218.txt', '292.txt', '254.jpg', '016.jpg', '274.txt', '169.txt', '229.jpg', '230.txt', '130.txt', '339.jpg', '321.txt', '145.jpg', '233.txt', '027.txt', '137.jpg', '341.txt', '277.jpg', '263.txt', '012.txt', '234.txt', '363.txt', '224.txt', '141.jpg', '221.jpg', '303.jpg', '115.txt', '178.txt', '310.txt', '053.jpg', '204.jpg', '092.txt', '089.txt', '127.txt', '238.jpg', '075.jpg', '345.txt', '060.txt', '191.jpg', '136.jpg', '225.txt', '331.txt', '307.txt', '233.jpg', '007.txt', '332.jpg', '023.jpg', '028.jpg', '291.txt', '058.txt', '359.txt', '046.jpg', '157.jpg', '131.txt', '248.txt', '244.jpg', '281.jpg', '360.txt', '119.jpg', '188.txt', '351.jpg', '019.txt', '185.txt', '008.txt', '202.jpg', '151.txt', '314.txt', '231.jpg', '164.txt', '111.jpg', '216.JPG', '113.txt', '095.jpg', '269.txt', '001.txt', '200.txt', '222.jpg', '342.txt', '083.txt', '094.txt', '063.jpg', '304.jpg', '197.txt', '076.jpg', '326.txt', '151.jpg', '334.txt', '140.jpg', '219.txt', '295.jpg', '247.txt', '355.jpg', '158.txt', '134.txt', '072.jpg', '042.txt', '071.jpg', '126.jpg', '184.jpg', '283.jpg', '251.jpg', '214.jpg', '148.jpg', '190.txt', '269.jpg', '249.jpg', '306.txt', '349.jpg', '331.jpg', '175.jpg', '132.txt', '104.jpg', '138.txt', '325.jpg', '069.jpg', '329.txt', '343.jpg', '112.jpg', '297.txt', '080.jpg', '240.txt', '010.jpg', '160.jpg', '041.txt', '335.txt', '117.txt', '057.txt', '017.txt', '369.txt', '099.jpg', '067.jpg', '068.jpg', '017.jpg', '302.jpg', '049.jpg', '157.txt', '289.txt', '371.txt', '026.txt', '098.txt', '051.jpg', '367.jpg', '354.jpg', '283.txt', '257.jpg', '094.jpg', '340.txt', '173.jpg', '059.txt', '155.txt', '320.jpg', '223.jpg', '022.txt', '032.txt', '358.txt', '196.jpg', '162.jpg', '129.jpg', '088.jpg', '199.txt', '139.txt', '339.txt', '049.txt', '208.jpg', '219.jpg', '242.jpg', '220.txt', '116.txt', '036.jpg', '272.txt', '214.txt', '200.jpg', '014.txt', '240.jpg', '048.jpg', '227.jpg', '154.txt', '086.jpg', '150.txt', '177.txt', '255.jpg', '287.txt', '092.jpg', '366.jpg', '165.txt', '360.jpg', '093.txt', '162.txt', '083.jpg', '054.jpg', '124.jpg', '118.txt', '367.txt', '226.jpg', '353.jpg', '015.txt', '332.txt', '182.jpg', '087.jpg', '254.txt', '143.txt', '068.txt', '147.jpg', '237.txt', '098.jpg', '365.txt', '135.txt', '117.jpg', '287.jpg', '245.txt', '352.txt', '047.txt', '029.txt', '199.jpg', '115.jpg', '351.txt', '164.jpg', '144.txt', '209.jpg', '109.jpg', '112.txt', '084.txt', '243.jpg', '202.txt', '267.jpg', '213.txt', '172.txt', '168.txt', '327.jpg', '024.jpg', '349.txt', '361.txt', '300.txt', '184.txt', '377.txt', '313.txt', '221.txt', '286.jpg', '195.jpg', '256.jpg', '194.txt', '153.jpg', '073.jpg', '097.txt', '004.txt', '119.txt', '101.jpg', '034.jpg', '047.jpg', '293.jpg', '028.txt', '333.jpg', '244.txt', '126.txt', '064.txt', '022.jpg', '111.txt', '165.jpg', '312.txt', '067.txt', '167.jpg', '183.jpg', '232.jpg', '352.jpg', '180.txt', '116.jpg', '271.txt', '328.txt', '009.txt', '348.jpg', '163.txt', '252.jpg', '113.jpg', '005.txt', '038.txt', '089.jpg', '156.jpg', '376.txt', '166.jpg', '044.txt', '301.txt', '368.txt', '127.jpg', '236.jpg', '319.txt', '176.jpg', '103.txt', '278.txt', '250.txt', '300.jpg', '052.txt', '136.txt', '324.txt', '014.jpg', '299.jpg', '243.txt', '376.jpg', '012.jpg', '201.jpg', '338.txt', '353.txt', '042.jpg', '366.txt', '066.txt', '275.jpg', '040.txt', '090.txt', '280.jpg', '373.txt', '159.txt', '274.jpg', '056.jpg', '345.jpg', '096.jpg', '241.txt', '323.txt', '211.jpg', '006.txt', '114.jpg', '363.jpg', '222.txt', '048.txt', '003.jpg', '220.jpg', '317.jpg', '097.jpg', '156.txt', '369.jpg']\n",
            "Contents of class subdirectory 'buffalo':\n",
            "['110.jpg', '051.txt', '153.txt', '121.jpg', '293.txt', '270.jpg', '348.txt', '248.jpg', '256.txt', '205.txt', '215.jpg', '135.jpg', '210.txt', '370.jpg', '133.txt', '003.txt', '182.txt', '321.jpg', '072.txt', '045.jpg', '187.txt', '179.txt', '358.jpg', '046.txt', '178.jpg', '257.txt', '076.txt', '037.txt', '232.txt', '138.jpg', '106.jpg', '192.jpg', '059.jpg', '031.txt', '258.jpg', '370.txt', '335.jpg', '372.txt', '040.jpg', '152.jpg', '170.jpg', '253.jpg', '356.txt', '077.jpg', '315.txt', '375.txt', '137.txt', '129.txt', '302.txt', '065.jpg', '213.jpg', '303.txt', '205.jpg', '298.txt', '311.txt', '082.txt', '292.jpg', '155.jpg', '176.txt', '217.txt', '337.txt', '161.txt', '058.jpg', '211.txt', '216.txt', '314.jpg', '264.txt', '152.txt', '120.txt', '066.jpg', '029.jpg', '218.jpg', '030.txt', '217.jpg', '033.jpg', '268.jpg', '065.txt', '133.jpg', '235.txt', '374.jpg', '342.jpg', '124.txt', '242.txt', '247.jpg', '030.jpg', '180.jpg', '161.jpg', '159.jpg', '074.txt', '080.txt', '357.txt', '018.jpg', '181.txt', '280.txt', '334.jpg', '077.txt', '044.jpg', '061.jpg', '123.jpg', '296.jpg', '263.jpg', '354.txt', '105.jpg', '290.txt', '192.txt', '309.jpg', '328.jpg', '288.txt', '084.jpg', '282.txt', '085.jpg', '272.jpg', '039.jpg', '315.jpg', '350.txt', '018.txt', '304.txt', '125.txt', '109.txt', '288.jpg', '147.txt', '204.txt', '128.txt', '054.txt', '260.txt', '241.jpg', '340.jpg', '316.txt', '276.txt', '102.txt', '125.jpg', '173.txt', '223.txt', '032.jpg', '026.jpg', '035.jpg', '087.txt', '206.txt', '235.jpg', '045.txt', '154.jpg', '260.jpg', '311.jpg', '253.txt', '295.txt', '031.jpg', '081.txt', '261.txt', '013.txt', '011.jpg', '271.jpg', '375.jpg', '305.txt', '246.jpg', '021.jpg', '131.jpg', '073.txt', '359.jpg', '206.jpg', '036.txt', '230.jpg', '102.jpg', '146.jpg', '193.jpg', '078.txt', '323.jpg', '347.txt', '140.txt', '011.txt', '276.jpg', '337.jpg', '143.jpg', '146.txt', '103.jpg', '128.jpg', '108.txt', '177.jpg', '364.txt', '239.jpg', '285.jpg', '296.txt', '179.jpg', '377.jpg', '141.txt', '326.jpg', '238.txt', '110.txt', '010.txt', '130.jpg', '355.txt', '259.txt', '055.txt', '187.jpg', '312.jpg', '268.txt', '333.txt', '291.jpg', '166.txt', '373.jpg', '193.txt', '207.txt', '070.jpg', '344.jpg', '053.txt', '043.jpg', '144.jpg', '015.jpg', '374.txt', '201.txt', '346.jpg', '267.txt', '215.txt', '020.txt', '134.jpg', '043.txt', '261.jpg', '139.jpg', '104.txt', '322.txt', '190.jpg', '234.jpg', '095.txt', '168.jpg', '237.jpg', '318.txt', '273.txt', '038.jpg', '266.jpg', '228.jpg', '063.txt', '294.txt', '343.txt', '329.jpg', '100.jpg', '057.jpg', '209.txt', '186.jpg', '258.txt', '362.txt', '033.txt', '372.jpg', '123.txt', '327.txt', '100.txt', '081.jpg', '078.jpg', '093.jpg', '181.jpg', '149.txt', '114.txt', '149.jpg', '189.txt', '108.jpg', '025.txt', '055.jpg', '039.txt', '313.jpg', '203.jpg', '079.txt', '034.txt', '170.txt', '309.txt', '318.jpg', '310.jpg', '183.txt', '008.jpg', '035.txt', '171.jpg', '002.txt', '317.txt', '001.jpg', '265.jpg', '356.jpg', '279.jpg', '299.txt', '132.jpg', '070.txt', '306.jpg', '185.jpg', '262.txt', '255.txt', '086.txt', '361.jpg', '264.jpg', '160.txt', '074.jpg', '231.txt', '249.txt', '050.jpg', '357.jpg', '096.txt', '186.txt', '330.jpg', '203.txt', '122.jpg', '278.jpg', '121.txt', '336.jpg', '107.txt', '079.jpg', '262.jpg', '172.jpg', '062.jpg', '294.jpg', '228.txt', '324.jpg', '118.jpg', '350.jpg', '069.txt', '060.jpg', '163.jpg', '347.jpg', '142.jpg', '174.jpg', '236.txt', '099.txt', '365.jpg', '246.txt', '301.jpg', '175.txt', '082.jpg', '019.jpg', '191.txt', '270.txt', '169.jpg', '207.jpg', '281.txt', '197.jpg', '212.txt', '013.jpg', '171.txt', '025.jpg', '338.jpg', '052.jpg', '167.txt', '198.txt', '325.txt', '195.txt', '319.jpg', '307.jpg', '158.jpg', '265.txt', '027.jpg', '062.txt', '041.jpg', '336.txt', '285.txt', '120.jpg', '174.txt', '023.txt', '020.jpg', '198.jpg', '308.txt', '320.txt', '284.jpg', '229.txt', '196.txt', '006.jpg', '085.txt', '189.jpg', '016.txt', '007.jpg', '208.txt', '364.jpg', '259.jpg', '282.jpg', '106.txt', '188.jpg', '101.txt', '212.jpg', '002.jpg', '021.txt', '308.jpg', '245.jpg', '289.jpg', '250.jpg', '252.txt', '088.txt', '226.txt', '305.jpg', '009.jpg', '346.txt', '061.txt', '122.txt', '371.jpg', '037.jpg', '075.txt', '024.txt', '279.txt', '148.txt', '105.txt', '004.jpg', '194.jpg', '298.jpg', '050.txt', '297.jpg', '251.txt', '239.txt', '090.jpg', '224.jpg', '064.jpg', '216.jpg', '091.jpg', '142.txt', '341.jpg', '273.jpg', '368.jpg', '071.txt', '275.txt', '277.txt', '316.jpg', '344.txt', '266.txt', '290.jpg', '227.txt', '150.jpg', '284.txt', '107.jpg', '210.jpg', '056.txt', '362.jpg', '091.txt', '145.txt', '330.txt', '225.jpg', '005.jpg', '218.txt', '292.txt', '254.jpg', '016.jpg', '274.txt', '169.txt', '229.jpg', '230.txt', '130.txt', '339.jpg', '321.txt', '145.jpg', '233.txt', '027.txt', '137.jpg', '341.txt', '277.jpg', '263.txt', '012.txt', '234.txt', '363.txt', '224.txt', '141.jpg', '221.jpg', '303.jpg', '115.txt', '178.txt', '310.txt', '053.jpg', '204.jpg', '092.txt', '089.txt', '127.txt', '238.jpg', '075.jpg', '345.txt', '060.txt', '191.jpg', '136.jpg', '225.txt', '331.txt', '307.txt', '233.jpg', '007.txt', '332.jpg', '023.jpg', '028.jpg', '291.txt', '058.txt', '359.txt', '046.jpg', '157.jpg', '131.txt', '248.txt', '244.jpg', '281.jpg', '360.txt', '119.jpg', '188.txt', '351.jpg', '019.txt', '185.txt', '008.txt', '202.jpg', '151.txt', '314.txt', '231.jpg', '164.txt', '111.jpg', '113.txt', '095.jpg', '269.txt', '001.txt', '200.txt', '222.jpg', '342.txt', '083.txt', '094.txt', '063.jpg', '304.jpg', '197.txt', '076.jpg', '326.txt', '151.jpg', '334.txt', '140.jpg', '219.txt', '295.jpg', '247.txt', '355.jpg', '158.txt', '134.txt', '072.jpg', '042.txt', '071.jpg', '126.jpg', '184.jpg', '283.jpg', '251.jpg', '214.jpg', '148.jpg', '190.txt', '269.jpg', '249.jpg', '306.txt', '349.jpg', '331.jpg', '175.jpg', '132.txt', '104.jpg', '138.txt', '325.jpg', '069.jpg', '329.txt', '343.jpg', '112.jpg', '297.txt', '080.jpg', '240.txt', '010.jpg', '160.jpg', '041.txt', '335.txt', '117.txt', '057.txt', '017.txt', '369.txt', '099.jpg', '067.jpg', '068.jpg', '017.jpg', '302.jpg', '049.jpg', '157.txt', '289.txt', '371.txt', '026.txt', '098.txt', '051.jpg', '367.jpg', '354.jpg', '283.txt', '257.jpg', '094.jpg', '340.txt', '173.jpg', '059.txt', '155.txt', '320.jpg', '182.JPG', '223.jpg', '022.txt', '032.txt', '358.txt', '196.jpg', '162.jpg', '129.jpg', '088.jpg', '199.txt', '139.txt', '339.txt', '049.txt', '208.jpg', '219.jpg', '242.jpg', '220.txt', '116.txt', '036.jpg', '272.txt', '214.txt', '200.jpg', '014.txt', '240.jpg', '048.jpg', '227.jpg', '154.txt', '086.jpg', '150.txt', '177.txt', '255.jpg', '287.txt', '092.jpg', '366.jpg', '165.txt', '360.jpg', '093.txt', '162.txt', '083.jpg', '054.jpg', '124.jpg', '118.txt', '367.txt', '226.jpg', '353.jpg', '015.txt', '332.txt', '087.jpg', '254.txt', '143.txt', '068.txt', '147.jpg', '237.txt', '098.jpg', '365.txt', '135.txt', '117.jpg', '322.jpg', '287.jpg', '245.txt', '352.txt', '047.txt', '029.txt', '199.jpg', '115.jpg', '351.txt', '164.jpg', '144.txt', '209.jpg', '109.jpg', '112.txt', '084.txt', '243.jpg', '202.txt', '267.jpg', '213.txt', '172.txt', '168.txt', '327.jpg', '024.jpg', '349.txt', '361.txt', '300.txt', '184.txt', '377.txt', '313.txt', '221.txt', '195.jpg', '256.jpg', '194.txt', '153.jpg', '073.jpg', '097.txt', '004.txt', '119.txt', '101.jpg', '034.jpg', '047.jpg', '293.jpg', '028.txt', '333.jpg', '244.txt', '126.txt', '064.txt', '022.jpg', '111.txt', '165.jpg', '312.txt', '067.txt', '167.jpg', '183.jpg', '232.jpg', '352.jpg', '180.txt', '116.jpg', '271.txt', '328.txt', '009.txt', '348.jpg', '163.txt', '252.jpg', '113.jpg', '005.txt', '038.txt', '089.jpg', '156.jpg', '376.txt', '166.jpg', '044.txt', '301.txt', '368.txt', '127.jpg', '236.jpg', '319.txt', '176.jpg', '103.txt', '278.txt', '250.txt', '300.jpg', '052.txt', '136.txt', '324.txt', '014.jpg', '299.jpg', '243.txt', '376.jpg', '012.jpg', '201.jpg', '338.txt', '353.txt', '042.jpg', '366.txt', '066.txt', '275.jpg', '040.txt', '090.txt', '280.jpg', '373.txt', '159.txt', '274.jpg', '056.jpg', '345.jpg', '096.jpg', '241.txt', '323.txt', '211.jpg', '006.txt', '114.jpg', '363.jpg', '222.txt', '048.txt', '003.jpg', '220.jpg', '317.jpg', '097.jpg', '156.txt', '369.jpg']\n",
            "Contents of class subdirectory 'rhino':\n",
            "['110.jpg', '051.txt', '153.txt', '121.jpg', '293.txt', '270.jpg', '348.txt', '248.jpg', '256.txt', '205.txt', '215.jpg', '135.jpg', '210.txt', '370.jpg', '133.txt', '003.txt', '182.txt', '321.jpg', '072.txt', '045.jpg', '187.txt', '179.txt', '358.jpg', '046.txt', '178.jpg', '257.txt', '076.txt', '037.txt', '232.txt', '138.jpg', '106.jpg', '192.jpg', '059.jpg', '031.txt', '258.jpg', '370.txt', '335.jpg', '372.txt', '040.jpg', '152.jpg', '170.jpg', '253.jpg', '356.txt', '077.jpg', '315.txt', '375.txt', '137.txt', '129.txt', '302.txt', '065.jpg', '213.jpg', '303.txt', '205.jpg', '298.txt', '311.txt', '082.txt', '292.jpg', '155.jpg', '176.txt', '217.txt', '337.txt', '161.txt', '058.jpg', '211.txt', '216.txt', '379.jpg', '314.jpg', '264.txt', '152.txt', '120.txt', '066.jpg', '029.jpg', '218.jpg', '030.txt', '217.jpg', '033.jpg', '268.jpg', '065.txt', '133.jpg', '235.txt', '374.jpg', '342.jpg', '124.txt', '242.txt', '247.jpg', '030.jpg', '180.jpg', '161.jpg', '159.jpg', '074.txt', '080.txt', '357.txt', '018.jpg', '181.txt', '280.txt', '334.jpg', '077.txt', '044.jpg', '061.jpg', '123.jpg', '296.jpg', '263.jpg', '354.txt', '105.jpg', '290.txt', '192.txt', '309.jpg', '328.jpg', '288.txt', '084.jpg', '282.txt', '085.jpg', '272.jpg', '039.jpg', '315.jpg', '350.txt', '018.txt', '304.txt', '125.txt', '109.txt', '288.jpg', '204.txt', '128.txt', '054.txt', '260.txt', '241.jpg', '340.jpg', '316.txt', '276.txt', '102.txt', '125.jpg', '173.txt', '223.txt', '032.jpg', '026.jpg', '035.jpg', '087.txt', '206.txt', '235.jpg', '045.txt', '154.jpg', '260.jpg', '311.jpg', '253.txt', '295.txt', '031.jpg', '081.txt', '261.txt', '013.txt', '011.jpg', '271.jpg', '375.jpg', '305.txt', '246.jpg', '021.jpg', '131.jpg', '073.txt', '359.jpg', '206.jpg', '036.txt', '230.jpg', '102.jpg', '146.jpg', '193.jpg', '078.txt', '323.jpg', '347.txt', '140.txt', '011.txt', '276.jpg', '337.jpg', '143.jpg', '146.txt', '103.jpg', '128.jpg', '108.txt', '177.jpg', '364.txt', '380.txt', '239.jpg', '285.jpg', '296.txt', '179.jpg', '377.jpg', '141.txt', '326.jpg', '238.txt', '110.txt', '010.txt', '378.jpg', '130.jpg', '355.txt', '259.txt', '055.txt', '187.jpg', '312.jpg', '268.txt', '333.txt', '291.jpg', '166.txt', '373.jpg', '193.txt', '207.txt', '344.jpg', '053.txt', '286.txt', '043.jpg', '144.jpg', '015.jpg', '374.txt', '201.txt', '346.jpg', '267.txt', '215.txt', '020.txt', '134.jpg', '043.txt', '261.jpg', '139.jpg', '104.txt', '322.txt', '190.jpg', '234.jpg', '095.txt', '168.jpg', '237.jpg', '318.txt', '273.txt', '038.jpg', '266.jpg', '228.jpg', '063.txt', '294.txt', '343.txt', '329.jpg', '100.jpg', '057.jpg', '209.txt', '186.jpg', '258.txt', '362.txt', '033.txt', '372.jpg', '123.txt', '327.txt', '100.txt', '081.jpg', '078.jpg', '093.jpg', '181.jpg', '149.txt', '149.jpg', '189.txt', '108.jpg', '025.txt', '055.jpg', '039.txt', '313.jpg', '203.jpg', '079.txt', '034.txt', '170.txt', '309.txt', '318.jpg', '310.jpg', '183.txt', '008.jpg', '035.txt', '171.jpg', '002.txt', '317.txt', '001.jpg', '265.jpg', '356.jpg', '279.jpg', '299.txt', '132.jpg', '306.jpg', '185.jpg', '262.txt', '255.txt', '086.txt', '361.jpg', '264.jpg', '160.txt', '074.jpg', '231.txt', '249.txt', '050.jpg', '357.jpg', '096.txt', '186.txt', '330.jpg', '203.txt', '122.jpg', '278.jpg', '121.txt', '336.jpg', '079.jpg', '262.jpg', '172.jpg', '062.jpg', '294.jpg', '228.txt', '324.jpg', '118.jpg', '350.jpg', '069.txt', '060.jpg', '163.jpg', '347.jpg', '142.jpg', '174.jpg', '236.txt', '099.txt', '365.jpg', '246.txt', '301.jpg', '175.txt', '082.jpg', '019.jpg', '191.txt', '270.txt', '169.jpg', '207.jpg', '281.txt', '197.jpg', '212.txt', '013.jpg', '171.txt', '025.jpg', '338.jpg', '052.jpg', '167.txt', '198.txt', '325.txt', '195.txt', '319.jpg', '307.jpg', '158.jpg', '265.txt', '027.jpg', '062.txt', '041.jpg', '336.txt', '285.txt', '120.jpg', '174.txt', '023.txt', '020.jpg', '198.jpg', '308.txt', '320.txt', '284.jpg', '229.txt', '196.txt', '006.jpg', '085.txt', '189.jpg', '016.txt', '007.jpg', '208.txt', '364.jpg', '259.jpg', '282.jpg', '106.txt', '188.jpg', '101.txt', '212.jpg', '002.jpg', '021.txt', '308.jpg', '245.jpg', '289.jpg', '250.jpg', '252.txt', '088.txt', '226.txt', '305.jpg', '009.jpg', '346.txt', '061.txt', '122.txt', '371.jpg', '037.jpg', '075.txt', '024.txt', '279.txt', '148.txt', '105.txt', '004.jpg', '194.jpg', '298.jpg', '050.txt', '297.jpg', '251.txt', '239.txt', '090.jpg', '380.jpg', '224.jpg', '064.jpg', '216.jpg', '091.jpg', '142.txt', '341.jpg', '273.jpg', '368.jpg', '071.txt', '275.txt', '277.txt', '316.jpg', '344.txt', '266.txt', '290.jpg', '227.txt', '150.jpg', '284.txt', '210.jpg', '056.txt', '362.jpg', '091.txt', '145.txt', '330.txt', '225.jpg', '005.jpg', '218.txt', '292.txt', '254.jpg', '016.jpg', '274.txt', '169.txt', '229.jpg', '230.txt', '130.txt', '339.jpg', '321.txt', '145.jpg', '233.txt', '027.txt', '137.jpg', '341.txt', '277.jpg', '263.txt', '012.txt', '234.txt', '363.txt', '224.txt', '141.jpg', '221.jpg', '303.jpg', '115.txt', '178.txt', '310.txt', '053.jpg', '204.jpg', '092.txt', '089.txt', '127.txt', '238.jpg', '075.jpg', '345.txt', '060.txt', '191.jpg', '136.jpg', '225.txt', '331.txt', '307.txt', '233.jpg', '007.txt', '332.jpg', '023.jpg', '028.jpg', '291.txt', '058.txt', '359.txt', '046.jpg', '157.jpg', '131.txt', '248.txt', '244.jpg', '281.jpg', '360.txt', '119.jpg', '378.txt', '188.txt', '351.jpg', '019.txt', '185.txt', '008.txt', '202.jpg', '151.txt', '314.txt', '231.jpg', '164.txt', '111.jpg', '113.txt', '095.jpg', '269.txt', '001.txt', '200.txt', '222.jpg', '342.txt', '083.txt', '094.txt', '063.jpg', '304.jpg', '197.txt', '076.jpg', '326.txt', '151.jpg', '334.txt', '140.jpg', '219.txt', '295.jpg', '247.txt', '355.jpg', '158.txt', '134.txt', '072.jpg', '042.txt', '071.jpg', '126.jpg', '184.jpg', '283.jpg', '251.jpg', '214.jpg', '148.jpg', '190.txt', '269.jpg', '249.jpg', '306.txt', '349.jpg', '331.jpg', '175.jpg', '132.txt', '104.jpg', '138.txt', '325.jpg', '069.jpg', '329.txt', '343.jpg', '112.jpg', '297.txt', '080.jpg', '240.txt', '010.jpg', '160.jpg', '041.txt', '335.txt', '117.txt', '057.txt', '017.txt', '369.txt', '099.jpg', '067.jpg', '068.jpg', '017.jpg', '302.jpg', '049.jpg', '157.txt', '289.txt', '371.txt', '026.txt', '098.txt', '051.jpg', '367.jpg', '354.jpg', '283.txt', '257.jpg', '094.jpg', '340.txt', '173.jpg', '059.txt', '155.txt', '320.jpg', '223.jpg', '022.txt', '032.txt', '358.txt', '196.jpg', '162.jpg', '129.jpg', '088.jpg', '199.txt', '139.txt', '339.txt', '049.txt', '208.jpg', '219.jpg', '242.jpg', '220.txt', '116.txt', '036.jpg', '272.txt', '214.txt', '200.jpg', '014.txt', '240.jpg', '048.jpg', '227.jpg', '154.txt', '086.jpg', '150.txt', '177.txt', '255.jpg', '287.txt', '092.jpg', '366.jpg', '165.txt', '360.jpg', '093.txt', '162.txt', '083.jpg', '054.jpg', '124.jpg', '118.txt', '367.txt', '226.jpg', '353.jpg', '015.txt', '332.txt', '182.jpg', '087.jpg', '254.txt', '143.txt', '068.txt', '237.txt', '098.jpg', '365.txt', '135.txt', '117.jpg', '322.jpg', '287.jpg', '245.txt', '352.txt', '047.txt', '029.txt', '199.jpg', '115.jpg', '351.txt', '164.jpg', '144.txt', '209.jpg', '109.jpg', '112.txt', '084.txt', '243.jpg', '202.txt', '267.jpg', '213.txt', '172.txt', '168.txt', '327.jpg', '024.jpg', '349.txt', '361.txt', '300.txt', '184.txt', '377.txt', '313.txt', '221.txt', '286.jpg', '195.jpg', '256.jpg', '194.txt', '153.jpg', '073.jpg', '097.txt', '004.txt', '119.txt', '101.jpg', '034.jpg', '047.jpg', '293.jpg', '028.txt', '333.jpg', '244.txt', '126.txt', '064.txt', '022.jpg', '111.txt', '165.jpg', '312.txt', '067.txt', '167.jpg', '183.jpg', '232.jpg', '352.jpg', '180.txt', '116.jpg', '271.txt', '328.txt', '009.txt', '348.jpg', '163.txt', '252.jpg', '113.jpg', '005.txt', '038.txt', '089.jpg', '156.jpg', '376.txt', '166.jpg', '044.txt', '301.txt', '368.txt', '127.jpg', '236.jpg', '319.txt', '176.jpg', '103.txt', '278.txt', '379.txt', '250.txt', '300.jpg', '052.txt', '136.txt', '324.txt', '014.jpg', '299.jpg', '243.txt', '376.jpg', '012.jpg', '201.jpg', '338.txt', '353.txt', '042.jpg', '366.txt', '066.txt', '275.jpg', '040.txt', '090.txt', '280.jpg', '373.txt', '159.txt', '274.jpg', '056.jpg', '345.jpg', '096.jpg', '241.txt', '323.txt', '211.jpg', '006.txt', '363.jpg', '222.txt', '048.txt', '003.jpg', '220.jpg', '317.jpg', '097.jpg', '156.txt', '369.jpg']\n",
            "Contents of class subdirectory 'fox':\n",
            "['79111051ba7d88e0.txt', 'ffaa7d8efdd5c1ab.jpg', '04f2e94630149f49.jpg', '3129bf59d6643fbf.jpg', '3976a0fca6a4de39.txt', 'b0cd451010d43b90.jpg', 'a1ad89492bf8700a.jpg', '4b30409e41c31af2.txt', 'b054ab01400d4408.txt', '3976a0fca6a4de39.jpg', '1454a7fc3badd3fd.jpg', 'a7497925fe5d3486.txt', '3508fdec04083611.txt', '8feee55ee104e104.jpg', 'e73a5a7ccc6dabc2.txt', '541335b9143e98f4.txt', '36129f654de6062c.txt', 'fdd5e08e405e7c6c.txt', '06dcda7babea0933 (1).txt', '103275c3fcab798b.jpg', '43aedb2e3ed47455.jpg', '6c6bb98215a5ce09.txt', '1267d3c852be7c92.txt', '27e4f9a67e4fa891.jpg', '12fefec53102f09d.jpg', 'cb20372f7e9d2685.jpg', 'dca0f0ea5f8a19b7.txt', '232c2f188334d1c6.jpg', '92013993df228010.txt', '59e9ba12ec2a3880.txt', '6ec7b53d4b3c4f83.jpg', '775e4eca5bb1bce0.jpg', '40052ba90561859c.txt', '5442dd27219ac830.txt', '5b5e5159b5e864ff.txt', '08a1788d24291fab.jpg', 'f214eefbef46540b.txt', '3207fb3bde6c052e.txt', '4ca0ee00171a412f.txt', '78dd4a0f87c0f0d1.jpg', '4778d6e36b69da30.jpg', '163f1c0a581912de.jpg', '5cfb24efddb8f128.jpg', 'a01745580639855b.txt', '1b6d227ad90e8cd6.txt', '1d107fdeea8391c5.jpg', '4c2edfd1dfd41d93.txt', 'b8958f0a225e96eb.jpg', '13a31709e8983549.txt', 'bca1432f686a3d5b.jpg', '7309b815652a40ab.jpg', '5442dd27219ac830.jpg', '25c22693e8a11e24.jpg', 'a9ffd082c1ad25e2.txt', 'e73a5a7ccc6dabc2.jpg', '18134ce84f55ed8b.txt', '40052ba90561859c.jpg', '1e55c4fdb3772553.jpg', 'b84c8973b98a26c8.txt', '24652f390adab0ff.jpg', '75384cd42032da1a.txt', '9c61e50af3f69b55.jpg', '2c718da44c519994.jpg', 'a15c1bcf98371640.jpg', 'a33160cd0a212150.txt', '3f7d60ed22a5a51e (1).txt', '5ac9218afd5760c5.txt', '3e2ed8b93429719a.jpg', '103275c3fcab798b.txt', '9f5bcb49bcff3a0a.txt', 'e8ef1439ffcfd8cd.txt', '5a9e27aaab884347.jpg', '82465e937da4a870.txt', 'df584ccafd95a94a.txt', '510b1fe2e0d4546c.jpg', '13a31709e8983549.jpg', '7d42e37d956e122c.txt', '775e4eca5bb1bce0.txt', 'e81b747184fa3c98.txt', '21c0c22e54c7f094.txt', '5435606cde026ff9.jpg', '36896eecec061850.txt', 'a9ffd082c1ad25e2.jpg', 'a01745580639855b.jpg', '3f7d60ed22a5a51e.jpg', '18134ce84f55ed8b.jpg', '1b5c5738a2fb347a.jpg', '25c22693e8a11e24.txt', '58476265ecb12139.txt', 'f214eefbef46540b.jpg', '578741b44dd6ea7e.jpg', '9d83dd5d0772de02.jpg', 'c419f58cf6385c9e.txt', '7fdaa14e4e93fccc.jpg', '78dd4a0f87c0f0d1.txt', '24652f390adab0ff.txt', 'ea3322eed72c9ff8.jpg', '5ac9218afd5760c5.jpg', '0c0f86df062d0f8a.txt', '163f1c0a581912de.txt', '9a2b4ce0d4313281.jpg', '02d15ac09621d501.txt', '6c6bb98215a5ce09.jpg', 'cca59d41f113061b.txt', '1080588cdddc227f.txt', '12fbf8ce7ea1cb96.jpg', '34fcd80156feebfd.jpg', '5cfb24efddb8f128.txt', 'ffaa7d8efdd5c1ab.txt', '4778d6e36b69da30.txt', '55fe4ed1e3c2924e.txt', '018223ca6996812d.jpg', '0b390c2d8076d17c.jpg', 'b2bbcde1abeb72dd.txt', '21c0c22e54c7f094.jpg', '87a9a6bb8d1f4fbd.txt', 'c025f3b1c622b0e7.txt', '2caefabba9f6c41b.jpg', '6e03b6877fe37c55.txt', 'd10f8fd0134f39ac.txt', '2e56a51ee4071905.jpg', '89fad3ed34ca13a1.txt', '79111051ba7d88e0.jpg', '96ea7863c4b54b65.jpg', '7fdaa14e4e93fccc.txt', '5e7936dca6b7ea7e.jpg', '81a4d8c2d353ebe8.txt', 'eb1a09e4fba530ee.jpg', '9f5bcb49bcff3a0a.jpg', 'fcbc4674b5f3b6f2.jpg', 'c2dc45ffe5523b68.txt', '1e55c4fdb3772553.txt', '04f2e94630149f49.txt', '113553de38ba6d5b.jpg', '330a73c8c1799ab2.txt', '40e358d0754018f6.txt', '7ed93938033a2ec8.jpg', '92013993df228010.jpg', 'cca59d41f113061b.jpg', '79c0f1446a52595f.jpg', '5435606cde026ff9.txt', '018223ca6996812d.txt', '55f64fd939f53d63.jpg', '03972182d0eec651.jpg', '2c718da44c519994.txt', 'c419f58cf6385c9e.jpg', '1b5c5738a2fb347a.txt', '9c61e50af3f69b55 (1).jpg', '30e83beb302bb5f7.jpg', 'c2dc45ffe5523b68.jpg', 'b8958f0a225e96eb.txt', '0012bf34ebf62477.jpg', 'eb1a09e4fba530ee.txt', '510b1fe2e0d4546c.txt', 'd1115e74b7be05ba.txt', '275ea265517c84ae.txt', '262379cfa939367e.jpg', '0016a719395bc945.jpg', '7c7e166e5e622906.jpg', '6df1c79a88237d15.jpg', '520691ae11dbc566.jpg', 'a33160cd0a212150.jpg', '7c7e166e5e622906.txt', '02d15ac09621d501.jpg', '6d120677214a4ec1.jpg', 'a15c1bcf98371640.txt', '68dedbe44dd432ae.txt', '3508fdec04083611.jpg', '166e3f519156b424.txt', '4c2edfd1dfd41d93.jpg', '26ae461d5ad0afd8.txt', '68dedbe44dd432ae.jpg', '0115391778aeca25.jpg', '25221a1eb60aaf34.jpg', 'a7497925fe5d3486.jpg', '113553de38ba6d5b.txt', '1381bc8603611e7d.txt', '8feee55ee104e104.txt', '30e83beb302bb5f7.txt', 'e8ef1439ffcfd8cd.jpg', '3c4abd936a84d152.txt', '58476265ecb12139.jpg', '2caefabba9f6c41b.txt', '03972182d0eec651.txt', '26ae461d5ad0afd8.jpg', '3af7d8df82136987.txt', '5a9e27aaab884347.txt', '81a4d8c2d353ebe8.jpg', '09cfaa15f74d8f42.jpg', '6df1c79a88237d15.txt', '82465e937da4a870.jpg', 'b84c8973b98a26c8.jpg', 'ea3322eed72c9ff8.txt', 'fdd5e08e405e7c6c.jpg', '96ea7863c4b54b65.txt', '1080588cdddc227f.jpg', '6e03b6877fe37c55.jpg', '36129f654de6062c.jpg', '95f8281f7c093fae.jpg', '5b5e5159b5e864ff.jpg', '578741b44dd6ea7e.txt', '55fe4ed1e3c2924e.jpg', 'c025f3b1c622b0e7.jpg', '34fcd80156feebfd.txt', 'dca0f0ea5f8a19b7.jpg', '23acd8c211502b38.txt', '27e4f9a67e4fa891.txt', '2508f841a0a2ecdb.jpg', '2932d668f9aec8d1.txt', '0c0f86df062d0f8a.jpg', '43aedb2e3ed47455.txt', '166e3f519156b424.jpg', '79c0f1446a52595f.txt', '40e358d0754018f6.jpg', '3c4abd936a84d152.jpg', '0a2a1e75ff15aaa9.txt', 'cb20372f7e9d2685.txt', '59e9ba12ec2a3880.jpg', 'ea7745d3092e03bf.txt', '8333c287adcdb146.jpg', '3af7d8df82136987.jpg', '9c61e50af3f69b55.txt', '232c2f188334d1c6.txt', '7d42e37d956e122c.jpg', '4b30409e41c31af2.jpg', 'e81b747184fa3c98.jpg', '55f64fd939f53d63.txt', '7ed93938033a2ec8.txt', '08a1788d24291fab.txt', '9a2b4ce0d4313281.txt', '87a9a6bb8d1f4fbd.jpg', '3129bf59d6643fbf.txt', '0a2a1e75ff15aaa9.jpg', '8bc441f926d75177.jpg', '89fad3ed34ca13a1.jpg', '38361a7e1e93eb18.jpg', '12fefec53102f09d.txt', '70719fa332ec3417.txt', '36896eecec061850.jpg', 'ea7745d3092e03bf.jpg', '8feee55ee104e104 (1).jpg', '5e7936dca6b7ea7e.txt', '4ca0ee00171a412f.jpg', '0b390c2d8076d17c.txt', '330a73c8c1799ab2.jpg', '6ec7b53d4b3c4f83.txt', '211b6e578ede94a8.jpg', '38361a7e1e93eb18.txt', '2e56a51ee4071905.txt', '95f8281f7c093fae.txt', '8bc441f926d75177.txt', '6d120677214a4ec1.txt', '275ea265517c84ae.jpg', '541335b9143e98f4.jpg', '4345eca6d91ab4a9.jpg', '12fbf8ce7ea1cb96.txt', '520691ae11dbc566.txt', '1267d3c852be7c92.jpg', 'bca1432f686a3d5b.txt', '0016a719395bc945.txt', '2508f841a0a2ecdb.txt', '262379cfa939367e.txt', '1b6d227ad90e8cd6.jpg', '3f7d60ed22a5a51e.txt', 'e265873cd2557e94.jpg', 'efdfdbf3b3218d77.jpg', '75384cd42032da1a.jpg', 'b054ab01400d4408.jpg', '2932d668f9aec8d1.jpg', '06dcda7babea0933.jpg', '06dcda7babea0933.txt', '3e2ed8b93429719a.txt', '8333c287adcdb146.txt', '1454a7fc3badd3fd.txt', '0115391778aeca25.txt', 'b100a4d4270029e0.jpg', 'd1115e74b7be05ba.jpg', '1d107fdeea8391c5.txt', '23acd8c211502b38.jpg', '2e56a51ee4071905 (1).txt', '70719fa332ec3417.jpg', 'fcbc4674b5f3b6f2.txt', '211b6e578ede94a8.txt', 'b100a4d4270029e0.txt', 'e265873cd2557e94.txt', 'b2bbcde1abeb72dd.jpg', '350caadb9ac1d1f9.txt', '4345eca6d91ab4a9.txt', 'b0cd451010d43b90.txt', 'efdfdbf3b3218d77.txt', 'a1ad89492bf8700a.txt', 'df584ccafd95a94a.jpg', '1381bc8603611e7d.jpg', '09cfaa15f74d8f42.txt', 'd10f8fd0134f39ac.jpg', '25221a1eb60aaf34.txt', '3207fb3bde6c052e.jpg', '9d83dd5d0772de02.txt', '7309b815652a40ab.txt', '0012bf34ebf62477.txt', '350caadb9ac1d1f9.jpg']\n",
            "Contents of class subdirectory 'cheetah':\n",
            "['1599c48eeeb65904.txt', '1b6ab3cff653562d.txt', 'fff9461861633cd1.txt', '27b0093ca752cb4f.jpg', '42346dd76ba1d1bc.jpg', '728665ece1fd4d01.txt', 'ab00771218f8d0b4.jpg', '79af4885670c9a67.txt', 'd555c6e7b78f0129.txt', '44159a4b6bd9fb2c.jpg', 'fff9461861633cd1.jpg', '3def6a9a7846708b.jpg', '35f3735eb1d3126d.txt', '621554a236114e55.jpg', '9a4898004791b3c8.txt', '601c4f42bfb9c50d.jpg', '7e44e17e9e9d3a44.txt', '025d25975e4275a2.txt', '4e5711ae48fc9508.jpg', '15b157fcf5d37105.txt', '247e18d19e86be52.txt', '09bd2505b02e1965.txt', '3df29b974a3f12fa.jpg', '185b2bcae2100951.jpg', '79af4885670c9a67.jpg', 'fc807dd27003f87e.txt', '1996d28edc1900b3.txt', 'bce8878dfdedef09.txt', '23906848789da991.txt', 'ffdc67c279ec0334.jpg', '13b142587e89049b.jpg', '42346dd76ba1d1bc.txt', '0ff0dc652d533877.jpg', 'bb5cf06e0c97f373.jpg', '0e0a2946dcb38b5a.jpg', '7e44e17e9e9d3a44.jpg', '2c1cbb8f2c865476.jpg', '4d761adbd302cf5c.txt', '621554a236114e55.txt', 'e785f386fabbe438.txt', '073811ad87a0c731.jpg', '59b51fe320539005.txt', '09b1e0cade519f22.txt', 'd555c6e7b78f0129.jpg', 'db21d2f3774862b0.txt', 'ca2e9812a717b9b4.txt', '46a2080eee37447b.jpg', 'bb5cf06e0c97f373.txt', '40f446161cec9d35.txt', 'ccd025f3c0bef0da.txt', '44864f39e6c33b93.jpg', '23ab0e17849b7d7d.txt', '025ee4909cb7e97e.jpg', '481116056d6fabe8.jpg', '1dbb2ef2eca3e8cb.txt', '447b7cf25577653c.txt', '447b7cf25577653c.jpg', '113fbf2203ccef57.jpg', '702e415b0ebea3e2.jpg', '025ee4909cb7e97e.txt', '2a2315f9d23f97c5.txt', 'fc807dd27003f87e.jpg', '9ce1cce41985b219.jpg', '12f82917d830a426.jpg', '19171da8690e4a2d.txt', '1dbb2ef2eca3e8cb.jpg', '0f09e298d7ca270a.jpg', 'a8537e4f51d66e24.jpg', 'ab00771218f8d0b4.txt', '4ca2281f4ba41701.txt', '0e8cae40d9ecc314.jpg', '71063759c6247c81.jpg', '2974f192a7f94688.txt', '3ef239f28d081d84.jpg', '702e415b0ebea3e2.txt', '185b2bcae2100951.txt', '13ede5647e775953.txt', '3054d68c25d49d54.jpg', '35480622ab5e9403.jpg', '2c7fe6edd3fe4f35.jpg', '6d613ea1b58411f1.txt', '27ea0de3a73e1598.txt', '59b51fe320539005.jpg', '8f34ab7a9b7a8f9b.jpg', '2c1cbb8f2c865476.txt', '8f34ab7a9b7a8f9b.txt', '3debda828eb3cead.jpg', '77b39c20caa61c5a.txt', '27b0093ca752cb4f.txt', '460f69bfeacdcd72.jpg', '6582b89aa15e36f1.jpg', 'cef3be621dab7306.txt', '86d4292bc171f835.jpg', 'b3505d83a2993d2d.jpg', '2974f192a7f94688.jpg', '23ab0e17849b7d7d.jpg', '0e8cae40d9ecc314.txt', 'bfe7c1e338f6acb0.txt', '320ab39486917b11.txt', '2de570eeb2cdf36b.txt', '2ec1dfad9f6098a3.txt', '247e18d19e86be52.jpg', '930776d994d92a33.txt', '2546b57e18682a68.txt', '930776d994d92a33.jpg', '747fd65e44aa6699.jpg', '3ef239f28d081d84.txt', 'b62a17684dae6a25.jpg', '4e5711ae48fc9508.txt', '46a2080eee37447b.txt', 'f17c21d7591c770e.jpg', '38c1d2600f9866ab.txt', '44864f39e6c33b93.txt', '7fab36c20841cfbf.txt', 'dc4d55d2094ca0e7.txt', '906a6d5d1128be13.txt', '1599c48eeeb65904.jpg', '37f6763d2ffd85df.txt', '9f01fa5125c7d438.jpg', '56d472b72f750335.txt', '2fb193752edf45d4.txt', '2d3b81d6001c2bfd.jpg', '320ab39486917b11.jpg', '19171da8690e4a2d.jpg', '340335ba3759909f.jpg', '524a61748187f69c.txt', 'a8537e4f51d66e24.txt', '9ce1cce41985b219.txt', '0c61b8d86a3e0889.jpg', '16c1cdce1c3f5b8e.txt', '460f69bfeacdcd72.txt', '44159a4b6bd9fb2c.txt', '0f09e298d7ca270a.txt', '26b36696f1585cfb.txt', '13b142587e89049b.txt', 'f223bea6dedb3d16.jpg', '3d24f759035d8244.jpg', '4485c8a6009f67f0.txt', '481116056d6fabe8.txt', 'dc4d55d2094ca0e7.jpg', 'f223bea6dedb3d16.txt', 'a8b4069d7050935c.jpg', '16c1cdce1c3f5b8e.jpg', '27ea0de3a73e1598.jpg', '073811ad87a0c731.txt', 'd290e0d60662e297.jpg', 'd290e0d60662e297.txt', 'ca2e9812a717b9b4.jpg', '23906848789da991.jpg', '37f6763d2ffd85df.jpg', 'eac093db0bf03905.jpg', 'd9da9bc2a3d4c64d.txt', '16c513ba4f27ae10.txt', 'bce8878dfdedef09.jpg', '1af84ed743fb84c8.txt', '50690d29d4d3c0fa.txt', '35f3735eb1d3126d.jpg', '9f01fa5125c7d438.txt', 'b3505d83a2993d2d.txt', '113fbf2203ccef57.txt', '2a782f57d7ce6efc.txt', 'a33704d687da856f.jpg', 'd6be17a9ed4f9aec.txt', '1ed5a16de1865541.jpg', 'a33704d687da856f.txt', 'ed4833a67b7cf93c.jpg', 'eac093db0bf03905.txt', '2a2315f9d23f97c5.jpg', '1db0cfaa068127cf.txt', '728665ece1fd4d01.jpg', '2ec1dfad9f6098a3.jpg', 'd6be17a9ed4f9aec.jpg', '22c6ce1e55f0eb79.txt', '0f24843420382116.txt', 'b62a17684dae6a25.txt', '40f446161cec9d35.jpg', '59b63a6cf1aca63d.txt', '025d25975e4275a2.jpg', '29f4113cd18b49b2.txt', '1b6ab3cff653562d.jpg', '4485c8a6009f67f0.jpg', '09b1e0cade519f22.jpg', '1156515b1c0490fe.jpg', '2a782f57d7ce6efc.jpg', '71063759c6247c81.txt', '15b157fcf5d37105.jpg', '59b63a6cf1aca63d.jpg', '09bd2505b02e1965.jpg', '3df29b974a3f12fa.txt', '31ba617f121fba57.jpg', '1ed5a16de1865541.txt', 'e45e8bcc137926d8.txt', '3054d68c25d49d54.txt', '1db0cfaa068127cf.jpg', '1727fd355b8cef8d.jpg', '340a4cac16de6621.jpg', '29f4113cd18b49b2.jpg', '12f82917d830a426.txt', 'bb90a60f10aa66c8.txt', '10002ceda87bb08b.txt', '3583fa31dc2c2aa5.jpg', '1727fd355b8cef8d.txt', '1d6cd967919e36aa.jpg', '524a61748187f69c.jpg', '2fb193752edf45d4.jpg', '0f24843420382116.jpg', '31ba617f121fba57.txt', '2546b57e18682a68.jpg', '6d613ea1b58411f1.jpg', '2de570eeb2cdf36b.jpg', 'f17c21d7591c770e.txt', '601c4f42bfb9c50d.txt', '35480622ab5e9403.txt', '906a6d5d1128be13.jpg', '16c513ba4f27ae10.jpg', 'b8b23161298c7166.jpg', '3def6a9a7846708b.txt', '3583fa31dc2c2aa5.txt', '350dd2f070b6f1be.jpg', '10002ceda87bb08b.jpg', '77b39c20caa61c5a.jpg', '22c6ce1e55f0eb79.jpg', '56d472b72f750335.jpg', '168ce61fda9fca67.txt', '86d4292bc171f835.txt', 'b8b23161298c7166.txt', 'bfe7c1e338f6acb0.jpg', '26b36696f1585cfb.jpg', '38c1d2600f9866ab.jpg', '4ca2281f4ba41701.jpg', '1af84ed743fb84c8.jpg', '340a4cac16de6621.txt', '747fd65e44aa6699.txt', '3d24f759035d8244.txt', '13ede5647e775953.jpg', 'd9da9bc2a3d4c64d.jpg', '1156515b1c0490fe.txt', '0c61b8d86a3e0889.txt', '0e0a2946dcb38b5a.txt', 'ed4833a67b7cf93c.txt', '3debda828eb3cead.txt', 'a8b4069d7050935c.txt', '9a4898004791b3c8.jpg', '334e9b6d91f6b739.txt', 'ccd025f3c0bef0da.jpg', 'bb90a60f10aa66c8.jpg', 'cef3be621dab7306.jpg', 'e45e8bcc137926d8.jpg', '4d761adbd302cf5c.jpg', '168ce61fda9fca67.jpg', '340335ba3759909f.txt', 'db21d2f3774862b0.jpg', '1996d28edc1900b3.jpg', '2d3b81d6001c2bfd.txt', '50690d29d4d3c0fa.jpg', 'e785f386fabbe438.jpg', '2c7fe6edd3fe4f35.txt', '1d6cd967919e36aa.txt', '350dd2f070b6f1be.txt', '334e9b6d91f6b739.jpg', '7fab36c20841cfbf.jpg', 'ffdc67c279ec0334.txt', '6582b89aa15e36f1.txt', '0ff0dc652d533877.txt']\n",
            "Contents of class subdirectory 'panda':\n",
            "['39635cc4c974dd0d.jpg', '2d7df7446e1bd567.jpg', '335d62ce56f29ae9.txt', '46d8cb30363697e0.txt', '26555c219e5d00d0.txt', '16cdc1b3e26248de.txt', '20088c16a13b51eb.jpg', '0d2f18b7f1e839cb.txt', 'cd0896a472af46ba.txt', '4abfd312b8419083.txt', '2f4d94aafe7750be.jpg', '0d7fc41f77afdce5.jpg', '2f0be90790ec6040.txt', '2dac30baedc552a5.jpg', '7830799614904d9b.jpg', '21de5476cf37aa29.jpg', '57c11f90ff9f99c1.jpg', '51ef3051578cf8cd.jpg', '0bfeadb0b0f595b5.txt', '41267921b81e812b.jpg', '33469bb022d73484.txt', '0d2f18b7f1e839cb.jpg', '220e959f70f7ee42.txt', '73d046c375a365f6.txt', '381589ddb43267b4.jpg', '75b6e322e96ffad1.txt', '26ad376721501843.jpg', 'a9ab9f4b6ebf29f3.jpg', '388ba2fa4f24e85a.jpg', '2175d4716c0f398c.txt', '4c037274209d1ef0.jpg', '05d29f47032331e5.txt', '6981de13be71b835.txt', '651e8652b4beb13f.jpg', '2b0ded11e595e977.jpg', 'cf253c37b50e1761.jpg', '90aedfc1142745de.txt', '46d8cb30363697e0.jpg', '3160e04474c70f8a.txt', '3d0f95eb50b9c111.txt', '05f0e6085a0273ae.jpg', '14f62fc04de6278c.txt', '1ae3039f27c35b39.txt', '21de5476cf37aa29.txt', '34a6aa17016e3188.jpg', 'a84b362ed2b321a3.txt', 'ce868c6c7ced1eca.jpg', '14f62fc04de6278c.jpg', '4c037274209d1ef0.txt', '29e888bb0ac22057.jpg', '99d485a4552b7db6.txt', '57db2339f805e610.txt', '115d3bed5c09ed7c.txt', '581c582be5e65de2.txt', '17d731570922312a.jpg', '3160e04474c70f8a.jpg', '0528b5167b282ba3.jpg', '220e959f70f7ee42.jpg', '5767a871e3155cfc.jpg', '09a1d6c384764e27.txt', '6292263f55022c02.jpg', '777ae6cc886b90a3.jpg', '2848c9625c6a0b8d.txt', '2f0be90790ec6040.jpg', '5767a871e3155cfc.txt', '4068da142957cb67.txt', 'cfa3b8aa26063205.txt', '05f0e6085a0273ae.txt', '17fa66aecbce11c8.txt', '0b711a34ac396fdc.jpg', '19f7775221f9c133.txt', '3d0f95eb50b9c111.jpg', '6981de13be71b835.jpg', '581c582be5e65de2.jpg', '4490521c3f7ef37d.jpg', '57c11f90ff9f99c1.txt', '880430b303ea7f5b.txt', '601bc5f390660779.txt', 'cf253c37b50e1761.txt', 'a84b362ed2b321a3.jpg', '4a319a188ec8fa31.jpg', '4490521c3f7ef37d.txt', '6292263f55022c02.txt', '02351e9a24ecae6a.txt', 'ba4377304841121f.txt', '39635cc4c974dd0d.txt', 'ead2c521f71148fd.txt', '2b0ded11e595e977.txt', '2175d4716c0f398c.jpg', '5de3c49b6417ad52.txt', '1be46a4f335ea899.jpg', '70ba56ed2453d93d.jpg', '0d7fc41f77afdce5.txt', '5f084ca54d8310b0.jpg', '73d046c375a365f6.jpg', '2848c9625c6a0b8d.jpg', '99d485a4552b7db6.jpg', '63566ad7285d1766.txt', '2d7df7446e1bd567.txt', '2dac30baedc552a5.txt', 'ead2c521f71148fd.jpg', '399d658f48371240.txt', 'cfa3b8aa26063205.jpg', '17d731570922312a.txt', '4d02ce7329e32b51.txt', '403e73e37bf29a58.txt', 'cd0896a472af46ba.jpg', '9d53b742cf42f077.txt', 'ca794bbe9ec2881b.jpg', 'ba4377304841121f.jpg', '1ae3039f27c35b39.jpg', '0c6aab44f32c0e16.txt', 'ca794bbe9ec2881b.txt', '173a992d5facc22b.jpg', '0c6aab44f32c0e16.jpg', '3cb97364576b0f6c.jpg', '41267921b81e812b.txt', '70ba56ed2453d93d.txt', 'cd07135c6679e33a.txt', '26ad376721501843.txt', 'cd07135c6679e33a.jpg', '51ef3051578cf8cd.txt', '02351e9a24ecae6a.jpg', '70579c7c6f9efc55.txt', '3d84a70a3567130a.jpg', '75b6e322e96ffad1.jpg', '05d29f47032331e5.jpg', '09a1d6c384764e27.jpg', '1be46a4f335ea899.txt', '3ede1ca37581558b.txt', '3b5fe0cca6de6ffa.jpg', 'e2bb2528342ab2da.txt', 'ce868c6c7ced1eca.txt', 'e2bb2528342ab2da.jpg', '4068da142957cb67.jpg', '399d658f48371240.jpg', '88b3531a29e223f6.txt', '403e73e37bf29a58.jpg', '0528b5167b282ba3.txt', '2ed17d4aa0d663e4.txt', '70579c7c6f9efc55.jpg', '3b5fe0cca6de6ffa.txt', '16cdc1b3e26248de.jpg', '2ed17d4aa0d663e4.jpg', '559ae825bce5d349.jpg', '9d53b742cf42f077.jpg', '7b60ee87e20a351f.txt', '173a992d5facc22b.txt', '26555c219e5d00d0.jpg', '17fa66aecbce11c8.jpg', '29e888bb0ac22057.txt', '777ae6cc886b90a3.txt', '88b3531a29e223f6.jpg', '90aedfc1142745de.jpg', '4a319a188ec8fa31.txt', '381589ddb43267b4.txt', '63566ad7285d1766.jpg', '57db2339f805e610.jpg', '601bc5f390660779.jpg', '3d84a70a3567130a.txt', '115d3bed5c09ed7c.jpg', '4abfd312b8419083.jpg', '7830799614904d9b.txt', '0b711a34ac396fdc.txt', '2f4d94aafe7750be.txt', '388ba2fa4f24e85a.txt', '34a6aa17016e3188.txt', '4d02ce7329e32b51.jpg', '335d62ce56f29ae9.jpg', '33469bb022d73484.jpg', '20088c16a13b51eb.txt', '3ede1ca37581558b.jpg', '5f084ca54d8310b0.txt', '0bfeadb0b0f595b5.jpg', '19f7775221f9c133.jpg', '880430b303ea7f5b.jpg', '651e8652b4beb13f.txt', 'a9ab9f4b6ebf29f3.txt', '559ae825bce5d349.txt', '3cb97364576b0f6c.txt', '7b60ee87e20a351f.jpg', '5de3c49b6417ad52.jpg']\n",
            "Contents of class subdirectory 'leopard':\n",
            "['2478080c7c749c9b.jpg', '00faed7a340a1101.jpg', 'fff9461861633cd1.txt', '42346dd76ba1d1bc.jpg', '05101fc57a1cddb9.jpg', '100984ad300bc000.jpg', '2478080c7c749c9b.txt', '25c9037366f5d1fa.jpg', 'd555c6e7b78f0129.txt', '311ac95022868cce.txt', 'fff9461861633cd1.jpg', '621554a236114e55.jpg', '9a4898004791b3c8.txt', 'd2906b26acd16403.jpg', '025d25975e4275a2.txt', '2c2f98616415b3e0.txt', '15b157fcf5d37105.txt', '2d26feceab162643.txt', '298e72b6fc9e7cd8.txt', '8c236a93ecc7b7bc.txt', 'fc807dd27003f87e.txt', '28ec6cefeefad269.jpg', '296f53daf6526815.jpg', '0107395b9550040b.jpg', '05369add5239d3db.txt', '2f04cd2d0ba3331c.txt', '8c865b6117fca262.txt', '2904389a67411e1c.txt', '3cdad21202142dde.jpg', '0c9b1234e6efeaed.jpg', '42346dd76ba1d1bc.txt', 'bb5cf06e0c97f373.jpg', '62fb73bc19d54285.jpg', '4d761adbd302cf5c.txt', '621554a236114e55.txt', '0107395b9550040b.txt', '9e3c759ccfcc43d5.jpg', 'd555c6e7b78f0129.jpg', '4bab8b398dd5005b.txt', 'db21d2f3774862b0.txt', '07642e275bb2b869.jpg', 'ca2e9812a717b9b4.txt', '00faed7a340a1101.txt', 'bb5cf06e0c97f373.txt', '0d8bdffd0fa41b84.jpg', 'ccd025f3c0bef0da.txt', '0c91224924f49890.jpg', '025ee4909cb7e97e.jpg', '4237db4b8998195e.jpg', '113fbf2203ccef57.jpg', '32d174e016d8c38b.txt', '702e415b0ebea3e2.jpg', '025ee4909cb7e97e.txt', '2a2315f9d23f97c5.txt', 'fc807dd27003f87e.jpg', '5200e411a72d11b4.txt', '9ce1cce41985b219.jpg', '05369add5239d3db.jpg', 'a8537e4f51d66e24.jpg', 'c9f055f4eda92d9b.jpg', '4ca2281f4ba41701.txt', '0e8cae40d9ecc314.jpg', '71063759c6247c81.jpg', '7be555acd7fc9cce.jpg', '17ae168666e01588.txt', '1848d8b3366aafe8.txt', '0371627add32994f.jpg', '1111983278b100e8.txt', '702e415b0ebea3e2.txt', '1e76a6bc203153ba.txt', '455c78a26fc7ebf7.jpg', '91bc93f59d417392.txt', 'c7f7d02a28d3969f.jpg', '3054d68c25d49d54.jpg', '839eeda355804ea0.txt', '62fb73bc19d54285.txt', '6d613ea1b58411f1.txt', '8ceaf15db3d6bf34.txt', '5f0f107f01f6a656.jpg', '0c9b1234e6efeaed.txt', '3debda828eb3cead.jpg', '77b39c20caa61c5a.txt', 'cef3be621dab7306.txt', '4c4fe5b0e6fcfc79.jpg', '86d4292bc171f835.jpg', 'b3505d83a2993d2d.jpg', '166d6bfacff86039.txt', '26e13ce3a97ee449.jpg', '10c2d9eed23378c5.txt', '0e8cae40d9ecc314.txt', '8c236a93ecc7b7bc.jpg', '265896f3a94bd420.jpg', '930776d994d92a33.txt', '2c2f98616415b3e0.jpg', '2546b57e18682a68.txt', '930776d994d92a33.jpg', '01efa3d259d95396.txt', '3462ae5639cf64b0.txt', '16619f94dec8010c.txt', '25c9037366f5d1fa.txt', 'f17c21d7591c770e.jpg', '16619f94dec8010c.jpg', '03de3c7807d59601.jpg', 'dc4d55d2094ca0e7.txt', '906a6d5d1128be13.txt', '8ceaf15db3d6bf34.jpg', '5a7792b552448774.txt', '455c78a26fc7ebf7.txt', '9f01fa5125c7d438.jpg', '56d472b72f750335.txt', '2d26feceab162643.jpg', '340335ba3759909f.jpg', '8c865b6117fca262.jpg', '137e80a3d6afce59.txt', '524a61748187f69c.txt', '1e76a6bc203153ba.jpg', 'a8537e4f51d66e24.txt', '9ce1cce41985b219.txt', '13f5e8d42c3995c1.jpg', '17ae168666e01588.jpg', '07642e275bb2b869.txt', '839eeda355804ea0.jpg', '4485c8a6009f67f0.txt', 'dc4d55d2094ca0e7.jpg', '4237db4b8998195e.txt', '03de3c7807d59601.txt', 'a8b4069d7050935c.jpg', '24577575fe3a68d2.txt', '298e72b6fc9e7cd8.jpg', 'd290e0d60662e297.jpg', '7be555acd7fc9cce.txt', 'd290e0d60662e297.txt', 'ca2e9812a717b9b4.jpg', 'eac093db0bf03905.jpg', 'f4d0a87ee9a33a70.jpg', '296f53daf6526815.txt', '5f0f107f01f6a656.txt', '26e13ce3a97ee449.txt', '50690d29d4d3c0fa.txt', '02213bb42b24841a.jpg', '24577575fe3a68d2.jpg', '9f01fa5125c7d438.txt', '5a7792b552448774.jpg', 'b3505d83a2993d2d.txt', '113fbf2203ccef57.txt', '2f7ad680ffebc691.jpg', '166d6bfacff86039.jpg', 'a33704d687da856f.jpg', '3cdad21202142dde.txt', 'd6be17a9ed4f9aec.txt', '2f7ad680ffebc691.txt', '1b94c30d1407cc6c.jpg', 'a33704d687da856f.txt', 'ed4833a67b7cf93c.jpg', '29bc7b1fdb3c048d.txt', 'eac093db0bf03905.txt', '2a2315f9d23f97c5.jpg', '5200e411a72d11b4.jpg', '088d2b1af532f609.jpg', '5afdf571d2c32e9a.jpg', '06d29b1f55dffe75.txt', '0d8bdffd0fa41b84.txt', '100984ad300bc000.txt', '02213bb42b24841a.txt', 'd6be17a9ed4f9aec.jpg', 'd2906b26acd16403.txt', '71d9849a0117ebc7.txt', '59b63a6cf1aca63d.txt', '06d29b1f55dffe75.jpg', '025d25975e4275a2.jpg', '088d2b1af532f609.txt', '87cf0c8d25441f2d.txt', '4485c8a6009f67f0.jpg', '02f3eff22241f28d.jpg', '1156515b1c0490fe.jpg', '71063759c6247c81.txt', '15b157fcf5d37105.jpg', '59b63a6cf1aca63d.jpg', '26567c3c02e3feff.txt', 'e45e8bcc137926d8.txt', '3054d68c25d49d54.txt', '01efa3d259d95396.jpg', '10c2d9eed23378c5.jpg', 'bb90a60f10aa66c8.txt', '71d9849a0117ebc7.jpg', '3583fa31dc2c2aa5.jpg', '524a61748187f69c.jpg', 'c7f7d02a28d3969f.txt', '02f3eff22241f28d.txt', '265896f3a94bd420.txt', '1512b780c970baa7.jpg', '2546b57e18682a68.jpg', '6d613ea1b58411f1.jpg', 'f17c21d7591c770e.txt', '906a6d5d1128be13.jpg', '05101fc57a1cddb9.txt', '3583fa31dc2c2aa5.txt', '29bc7b1fdb3c048d.jpg', '2f04cd2d0ba3331c.jpg', '26567c3c02e3feff.jpg', '76dc66d32fe2f3d5.jpg', '23edc1fa74c892b7.txt', '77b39c20caa61c5a.jpg', '311ac95022868cce.jpg', '9e3c759ccfcc43d5.txt', '56d472b72f750335.jpg', '13f5e8d42c3995c1.txt', '87cf0c8d25441f2d.jpg', '86d4292bc171f835.txt', '5afdf571d2c32e9a.txt', 'c9f055f4eda92d9b.txt', '4ca2281f4ba41701.jpg', '0371627add32994f.txt', '1111983278b100e8.jpg', '76dc66d32fe2f3d5.txt', '4bab8b398dd5005b.jpg', '28ec6cefeefad269.txt', '1156515b1c0490fe.txt', '2904389a67411e1c.jpg', 'ed4833a67b7cf93c.txt', '3debda828eb3cead.txt', '32d174e016d8c38b.jpg', 'a8b4069d7050935c.txt', '91bc93f59d417392.jpg', '9a4898004791b3c8.jpg', '23edc1fa74c892b7.jpg', '4c4fe5b0e6fcfc79.txt', '0e37579ded599075.txt', '1512b780c970baa7.txt', 'ccd025f3c0bef0da.jpg', 'bb90a60f10aa66c8.jpg', '3462ae5639cf64b0.jpg', 'cef3be621dab7306.jpg', 'e45e8bcc137926d8.jpg', '137e80a3d6afce59.jpg', '4d761adbd302cf5c.jpg', 'f3475d169367ccbe.txt', '340335ba3759909f.txt', 'db21d2f3774862b0.jpg', '50690d29d4d3c0fa.jpg', 'f3475d169367ccbe.jpg', '0e37579ded599075.jpg', '1848d8b3366aafe8.jpg', '0c91224924f49890.txt', 'f4d0a87ee9a33a70.txt', '1b94c30d1407cc6c.txt']\n",
            "Contents of class subdirectory 'lion':\n",
            "['c44260d7bafc2611.txt', '098c23f32454963c.jpg', '098cb06f0f93fb88.txt', '18322c4182d99007.jpg', '07c8fb7eaa941e5e.txt', '30205d32a2cd4a84.jpg', 'f8958a678cb30004.txt', 'ebb7d0a95dbbfb00.jpg', '347af01f8aa006db.jpg', '8564e2649c55b440.txt', '0863c6bfef85e9fe.txt', '0157735f84d4d99e.txt', '71a68976ca7e3433.jpg', '25ffea09a9cedae4.txt', '9b91ad0cc4a42193.jpg', '800226a3e0572c7b.jpg', '20738bb8a148b057.txt', '527335f58c844fd3.txt', 'c3e12fd239f1dd27.jpg', '068176c4e97d104e.jpg', '3b07cda8cd836f5b.jpg', '8a8552bf352aee91.txt', '33771fd78487ecda.txt', 'aa9509bf594383aa.jpg', 'f25f55d9bd349346.txt', '2dee44fd0d6b1d73.jpg', '2cee62d0fea905a1.txt', 'e98fb2c868c8230e.jpg', 'aa9509bf594383aa.txt', 'd3c9fe77be89db14.txt', '2147f3806e733bd0.txt', '1e3814bddd5b608b.txt', 'aedcb7ef574e86e2.jpg', 'adaa5c69e722ba93.txt', '0c024331927586b8.txt', '2ba28139e3d4fffa.txt', 'c23e59ab608e0b02.jpg', '099db382ee656b0b.txt', 'dbbb5e7403b108aa.txt', '8ad59f2c652c6b38.txt', '0db4a8ed83630516.txt', '2a7925254920c310.jpg', '71c089897dd1d228.txt', '9c6cfd97da85dac5.jpg', '30205d32a2cd4a84.txt', '064239485278de34.txt', 'd35eb436350a6c04.jpg', '71cca3441f253ee6.txt', 'da92557dfa854a1d.jpg', 'e98fb2c868c8230e.txt', '26510203406ffbce.txt', '0ce4501e079b24a4.jpg', 'b01bcbbe99f06226.txt', 'fdd9b8c93053e3e3.jpg', '75d89f93d826bd3d.txt', 'd686a08f0473b54b.txt', 'b0b13bfefd0dfece.txt', '6970ecd80b471527.jpg', '9a9ca8e8056b57d8.jpg', '8c6732c7f442a546.txt', '96cbe99c0f39c169.jpg', '9e31076aebdbb41a.jpg', '6a394f99c5373382.jpg', '00a1538999a95b9c.jpg', '800226a3e0572c7b.txt', '2cee62d0fea905a1.jpg', '0b42c367365139bb.jpg', 'bb5987b5c7e16f33.txt', 'd93c44ab770c8a8e.txt', 'eb4efa667d9e90a2.txt', '0e51e1ff2ade5cef.jpg', '2766c231ef864dfd.jpg', 'af61da026aaf1098.txt', '295fa8cbdc30ba10.txt', '2af605cc696a8f6c.jpg', '09708a3c4d623287.jpg', '0d591d95858ab0d2.txt', '6a394f99c5373382.txt', '01b930ce596d2d26.txt', '04216cd29e3d237b.jpg', 'b709b1910c8f6add.txt', 'c2fcff4080b046dc.txt', '0157735f84d4d99e.jpg', '26d8d961177e64e3.txt', '75d89f93d826bd3d.jpg', '4913adb6b6702acf.jpg', '2aa5485b5d4b7246.txt', '07c3f5589a2cc1cb.txt', '4f2d6d4e31fc9882.txt', 'a8bb4c3f04d2ab6c.jpg', '78b5c9395085c8b7.txt', 'f363ae57a09abc0f.jpg', 'a0aad606deaf3287.txt', '7b142d609115f196.jpg', '796faf52ae180751.jpg', 'cb19f0a1e56318ef.jpg', 'be44e8f9640eb11d.jpg', '6b508006e0328d01.jpg', '0be063b8640fa283.txt', '0d52ad71c5f0ffaf.txt', 'd6cfb19aa348001d.txt', '8ee06a8365716a74.jpg', '1b755120ca2f6cba.txt', 'e850548308a8fd87.txt', '9444fb32f8871ce7.txt', '099db382ee656b0b.jpg', '563cc1ff9fa87527.jpg', '21c79fbb40a92ee6.txt', '99ffb2c7946b3451.jpg', '0a9c5544f0457035.txt', '12b5606107c34487.jpg', '0b15b97523854fb3.txt', '155d39f66c0ec625.jpg', '5dd04b310b66a573.jpg', 'd55ec652e4f7925f.jpg', '082dc957e408ba17.txt', '70c3207a88f2674e.jpg', '04216cd29e3d237b.txt', '33771fd78487ecda.jpg', '0e84faa486313dbd.jpg', '26510203406ffbce.jpg', '428f25c369928b45.jpg', '02a8e1aca466e37a.jpg', '20164b17379fe7ee.jpg', 'f8510f8a5075d5d6.jpg', 'dd8daeae6a020016.txt', 'fc7dbfdc577eaf2b.txt', '0eaf3634d66224b6.jpg', '01dddc577890595e.jpg', '9d7a94f426c575d3.jpg', '09b0e805c5c0e0fe.jpg', 'f8510f8a5075d5d6.txt', '8485d6b6eba84a9c.txt', '0e977e8ab5d64dfb.txt', '0418adfd3302ea9b.txt', '09067b8a7f051b6c.txt', '9acf8612cc316ff0.jpg', '0eaf3634d66224b6.txt', '0c4da71df4265f84.jpg', '09234765a02cf4c4.txt', '8d59972da962568c.jpg', '2af605cc696a8f6c.txt', '26216d42d11efe2f.txt', '3a831a9f7c0e5b36.txt', '0c4da71df4265f84.txt', '20738bb8a148b057.jpg', '8945595e8024ad0c.txt', '082dc957e408ba17.jpg', '6e3020cda7151b28.jpg', '026f6d3fc145e32c.txt', '96cbe99c0f39c169.txt', '2dee44fd0d6b1d73.txt', '5d64b7049f061098.jpg', '0afa7272984b9360.txt', 'b513d4c5f0962cfd.txt', 'a8bb4c3f04d2ab6c.txt', '21447b07f7ca3fe7.jpg', '3b07cda8cd836f5b.txt', '4e7c0a3195e84876.txt', '8b397691cf410b7f.txt', '1b755120ca2f6cba.jpg', '55541fe803db7ab3.jpg', '65d5ccc5497d84dc.txt', '09d7d59a9e0698d3.jpg', '7f3690fab214041f.txt', 'ddbf88190c2cbb61.txt', 'f18af006a18395de.txt', '09b1a1ce05216138.jpg', '064239485278de34.jpg', '155d39f66c0ec625.txt', 'c15c37719ad24fe6.txt', 'afa74569c531e51b.txt', '0e977e8ab5d64dfb.jpg', '053571f01a938ed8.txt', '18322c4182d99007.txt', 'c095280912201de6.jpg', '3a831a9f7c0e5b36.jpg', 'f0e6c6a1d092d0bb.jpg', 'db019e320fea2ba6.txt', '5a926b59b9d0a004.txt', '4e7c0a3195e84876.jpg', '098cb06f0f93fb88.jpg', '71a68976ca7e3433.txt', '1fd25da4b02238b5.txt', '902e0b14ba5188b2.txt', '527335f58c844fd3.jpg', '055dbbcca8626dbb.jpg', '810d708dfad94600.txt', '1fd25da4b02238b5.jpg', '2aa5485b5d4b7246.jpg', 'b709b1910c8f6add.jpg', '01b930ce596d2d26.jpg', 'c2fcff4080b046dc.jpg', '8ee06a8365716a74.txt', '6ad2530bc3af701a.txt', 'b7f8736256b10a02.txt', 'a5fade4847f797e4.txt', '09b1a1ce05216138.txt', '0c74b1b659bbea89.txt', 'dd50e839ad6d2d64.txt', '07c8fb7eaa941e5e.jpg', '623044d664835e5e.jpg', '99ffb2c7946b3451.txt', '2a7925254920c310.txt', '0418adfd3302ea9b.jpg', '4f2d6d4e31fc9882.jpg', '0ce4501e079b24a4.txt', 'd0f5a856bf7a0f89.txt', '39c2e8ff892ca637.txt', 'd0f5a856bf7a0f89.jpg', '053571f01a938ed8.jpg', '4ae92c638a9d43cd.jpg', '04c53baf87261b78.txt', '029ffe8ecba41fb7.txt', '55541fe803db7ab3.txt', '02e64b6705221e1b.jpg', '1f8d770f32fe53c4.txt', '079b73569c008296.jpg', '9e31076aebdbb41a.txt', 'da92557dfa854a1d.txt', '003f0ccb3f0b3d62.jpg', '0c74b1b659bbea89.jpg', '42a18653551c6e99.txt', '854f4419a52611f0.txt', '1f8d770f32fe53c4.jpg', '26d8d961177e64e3.jpg', '126bcf98d1afa9bd.jpg', '78b5c9395085c8b7.jpg', '0c024331927586b8.jpg', 'f25f55d9bd349346.jpg', 'b984f42c96fe547a.jpg', '05359f92559e737b.jpg', '7f3690fab214041f.jpg', 'f8958a678cb30004.jpg', '068176c4e97d104e.txt', '623044d664835e5e.txt', 'b0b13bfefd0dfece.jpg', '09234765a02cf4c4.jpg', 'f0e6c6a1d092d0bb.txt', 'a7c5d9649a48cd94.txt', 'dec4b0cbe0a75702.txt', '0db4a8ed83630516.jpg', 'fc7dbfdc577eaf2b.jpg', 'e52b50353fd22aa5.jpg', 'bb5987b5c7e16f33.jpg', '09d00a0cef553be2.jpg', '5d64b7049f061098.txt', 'adaa5c69e722ba93.jpg', '02e64b6705221e1b.txt', '25ffea09a9cedae4.jpg', 'eb4efa667d9e90a2.jpg', 'e850548308a8fd87.jpg', '94c8e39f59cf35c2.txt', '82e594c43d28d7b4.txt', 'd73b58b8407a31ca.txt', 'b231997d3dd023ab.jpg', '7b142d609115f196.txt', 'dd8daeae6a020016.jpg', 'f363ae57a09abc0f.txt', 'f2737bc835e4ae1e.jpg', 'd93c44ab770c8a8e.jpg', '6ad2530bc3af701a.jpg', 'd73b58b8407a31ca.jpg', '3492d46e38fced2a.txt', '70c3207a88f2674e.txt', '035fa76128ceb891.jpg', '0be063b8640fa283.jpg', 'a5fade4847f797e4.jpg', 'd686a08f0473b54b.jpg', '0e51e1ff2ade5cef.txt', 'd3c9fe77be89db14.jpg', '0526d550b528fab3.txt', '796faf52ae180751.txt', '9fed4d3692211cd0.txt', 'fdd9b8c93053e3e3.txt', '07c3f5589a2cc1cb.jpg', '0d52ad71c5f0ffaf.jpg', '01dddc577890595e.txt', '8d59972da962568c.txt', 'b231997d3dd023ab.txt', '885c69bf834c0290.jpg', '428f25c369928b45.txt', '21c79fbb40a92ee6.jpg', '0863c6bfef85e9fe.jpg', '4913adb6b6702acf.txt', '1be4a5ec407fc045.jpg', 'd605da7159eed840.txt', '09d7d59a9e0698d3.txt', 'd605da7159eed840.jpg', '38367cd6c0c25d96.jpg', 'ddbf88190c2cbb61.jpg', '885c69bf834c0290.txt', '02a8e1aca466e37a.txt', '042e46ae1c186e8a.txt', 'f18af006a18395de.jpg', '9fed4d3692211cd0.jpg', '94c8e39f59cf35c2.jpg', '20164b17379fe7ee.txt', 'e52b50353fd22aa5.txt', '6b508006e0328d01.txt', '7e10c855e8d4ca29.jpg', '25300e394f9aeea3.jpg', 'f233e1c3df985bd1.jpg', 'c15c37719ad24fe6.jpg', 'f9c2432b6b85b84c.txt', 'c095280912201de6.txt', '029ffe8ecba41fb7.jpg', '902e0b14ba5188b2.jpg', '9ebcecc7e71d894f.txt', '1e3814bddd5b608b.jpg', '0b42c367365139bb.txt', 'aedcb7ef574e86e2.txt', '522c3a491e68d3cd.txt', 'd55ec652e4f7925f.txt', '9444fb32f8871ce7.jpg', '65d5ccc5497d84dc.jpg', '0a9c5544f0457035.jpg', '0d591d95858ab0d2.jpg', 'b984f42c96fe547a.txt', '2766c231ef864dfd.txt', '26216d42d11efe2f.jpg', 'dfe97db153d065b0.txt', '079b73569c008296.txt', '003f0ccb3f0b3d62.txt', 'c3e12fd239f1dd27.txt', 'b7f8736256b10a02.jpg', '6e3020cda7151b28.txt', '3492d46e38fced2a.jpg', '9acf8612cc316ff0.txt', '810d708dfad94600.jpg', '45bf7a113287685b.txt', 'afa74569c531e51b.jpg', 'f233e1c3df985bd1.txt', '9d7a94f426c575d3.txt', '9ebcecc7e71d894f.jpg', '2ba28139e3d4fffa.jpg', '09d00a0cef553be2.txt', '4ae92c638a9d43cd.txt', '09067b8a7f051b6c.jpg', '026f6d3fc145e32c.jpg', '5dd04b310b66a573.txt', '0128e812329ef3c4.txt', '563cc1ff9fa87527.txt', 'b01bcbbe99f06226.jpg', '026259ac70a1702d.jpg', '098c23f32454963c.txt', '055dbbcca8626dbb.txt', 'dfe97db153d065b0.jpg', '09708a3c4d623287.txt', '8564e2649c55b440.jpg', '39c2e8ff892ca637.jpg', '0920d7dbdc425032.jpg', '347af01f8aa006db.txt', '1be4a5ec407fc045.txt', '0afa7272984b9360.jpg', '71cca3441f253ee6.jpg', 'af61da026aaf1098.jpg', '0128e812329ef3c4.jpg', '0526d550b528fab3.jpg', 'be44e8f9640eb11d.txt', '522c3a491e68d3cd.jpg', 'ebb7d0a95dbbfb00.txt', '25300e394f9aeea3.txt', '074ca8a9fb5073b1.txt', '9a9ca8e8056b57d8.txt', 'dec4b0cbe0a75702.jpg', '00a1538999a95b9c.txt', '026259ac70a1702d.txt', '124f18f16a8902af.txt', '042e46ae1c186e8a.jpg', '04c53baf87261b78.jpg', '0e84faa486313dbd.txt', '12b5606107c34487.txt', '5a926b59b9d0a004.jpg', 'c23e59ab608e0b02.txt', '295fa8cbdc30ba10.jpg', '71c089897dd1d228.jpg', 'f2737bc835e4ae1e.txt', 'f9c2432b6b85b84c.jpg', '854f4419a52611f0.jpg', '6970ecd80b471527.txt', 'a7c5d9649a48cd94.jpg', 'd35eb436350a6c04.txt', '0b15b97523854fb3.jpg', '124f18f16a8902af.jpg', '074ca8a9fb5073b1.jpg', '8b397691cf410b7f.jpg', '126bcf98d1afa9bd.txt', '05359f92559e737b.txt', 'b513d4c5f0962cfd.jpg', '82e594c43d28d7b4.jpg', '9c6cfd97da85dac5.txt', 'd6cfb19aa348001d.jpg', 'cb19f0a1e56318ef.txt', 'c44260d7bafc2611.jpg', '09b0e805c5c0e0fe.txt', 'dd50e839ad6d2d64.jpg', '03a0ceb0342e6ef9.jpg', '2147f3806e733bd0.jpg', '035fa76128ceb891.txt', '0920d7dbdc425032.txt', 'db019e320fea2ba6.jpg', '42a18653551c6e99.jpg', 'a0aad606deaf3287.jpg', 'dbbb5e7403b108aa.jpg', '8945595e8024ad0c.jpg', '8c6732c7f442a546.jpg', '8485d6b6eba84a9c.jpg', '8ad59f2c652c6b38.jpg', '8a8552bf352aee91.jpg', '03a0ceb0342e6ef9.txt', '9b91ad0cc4a42193.txt', '7e10c855e8d4ca29.txt', '21447b07f7ca3fe7.txt', '45bf7a113287685b.jpg', '38367cd6c0c25d96.txt']\n"
          ]
        }
      ]
    },
    {
      "cell_type": "markdown",
      "source": [
        "### **Class distribution**"
      ],
      "metadata": {
        "id": "Wh4Jb4dDpstS"
      }
    },
    {
      "cell_type": "code",
      "source": [
        "# Specify the directory path containing the combined dataset\n",
        "combined_dataset_directory = '/content/combined_dataset/'\n",
        "\n",
        "# Get a list of subdirectories (classes) in the combined dataset directory\n",
        "classes = [d for d in os.listdir(combined_dataset_directory) if os.path.isdir(os.path.join(combined_dataset_directory, d))]\n",
        "\n",
        "# Initialize dictionaries to store class counts\n",
        "class_counts = {cls: 0 for cls in classes}\n",
        "\n",
        "# Count the number of images per class\n",
        "for cls in classes:\n",
        "    class_dir = os.path.join(combined_dataset_directory, cls)\n",
        "    class_counts[cls] = len([f for f in os.listdir(class_dir) if f.endswith('.jpg')])\n",
        "\n",
        "# Display statistics\n",
        "print(\"Number of classes:\", len(classes))\n",
        "print(\"Total number of images:\", sum(class_counts.values()))\n",
        "\n",
        "# Plot distribution of classes\n",
        "plt.figure(figsize=(8, 6))\n",
        "plt.bar(class_counts.keys(), class_counts.values())\n",
        "plt.xlabel(\"Classes\")\n",
        "plt.ylabel(\"Number of Images\")\n",
        "plt.title(\"Distribution of Classes\")\n",
        "plt.xticks(rotation=45)\n",
        "plt.tight_layout()\n",
        "plt.show()\n"
      ],
      "metadata": {
        "colab": {
          "base_uri": "https://localhost:8080/",
          "height": 642
        },
        "id": "x4QidhXuAeHh",
        "outputId": "98797b61-c756-41a0-d56b-b6e9ac1dfbf2"
      },
      "execution_count": 10,
      "outputs": [
        {
          "output_type": "stream",
          "name": "stdout",
          "text": [
            "Number of classes: 10\n",
            "Total number of images: 2306\n"
          ]
        },
        {
          "output_type": "display_data",
          "data": {
            "text/plain": [
              "<Figure size 800x600 with 1 Axes>"
            ],
            "image/png": "[encoded data removed]"
          },
          "metadata": {}
        }
      ]
    },
    {
      "cell_type": "markdown",
      "source": [
        "### **Split the combined dataset into Training, Validation, and Test sets**"
      ],
      "metadata": {
        "id": "rgSCUoQmqiIo"
      }
    },
    {
      "cell_type": "code",
      "source": [
        "# Specify the directory containing combined dataset\n",
        "combined_dataset_directory = '/content/combined_dataset/'\n",
        "\n",
        "# Specify the directories for training, validation, and test sets\n",
        "train_directory = '/content/train_set/'\n",
        "valid_directory = '/content/validation_set/'\n",
        "test_directory = '/content/test_set/'\n",
        "\n",
        "# List all class subdirectories in the combined dataset directory\n",
        "class_subdirectories = [subfolder for subfolder in os.listdir(combined_dataset_directory)\n",
        "                        if os.path.isdir(os.path.join(combined_dataset_directory, subfolder))]\n",
        "\n",
        "# Loop through each class subdirectory\n",
        "for class_subdirectory in class_subdirectories:\n",
        "    class_directory = os.path.join(combined_dataset_directory, class_subdirectory)\n",
        "    image_files = [f for f in os.listdir(class_directory) if f.endswith('.jpg')]\n",
        "\n",
        "    # Create subdirectories in training, validation, and test sets\n",
        "    train_class_directory = os.path.join(train_directory, class_subdirectory)\n",
        "    valid_class_directory = os.path.join(valid_directory, class_subdirectory)\n",
        "    test_class_directory = os.path.join(test_directory, class_subdirectory)\n",
        "    os.makedirs(train_class_directory, exist_ok=True)\n",
        "    os.makedirs(valid_class_directory, exist_ok=True)\n",
        "    os.makedirs(test_class_directory, exist_ok=True)\n",
        "\n",
        "    # Split images into training, validation, and test sets\n",
        "    train_files, test_files = train_test_split(image_files, test_size=0.2, random_state=42)\n",
        "    valid_files, test_files = train_test_split(test_files, test_size=0.5, random_state=42)\n",
        "\n",
        "    # Move files to respective directories\n",
        "    for file in train_files:\n",
        "        src_path = os.path.join(class_directory, file)\n",
        "        dst_path = os.path.join(train_class_directory, file)\n",
        "        shutil.copyfile(src_path, dst_path)\n",
        "\n",
        "    for file in valid_files:\n",
        "        src_path = os.path.join(class_directory, file)\n",
        "        dst_path = os.path.join(valid_class_directory, file)\n",
        "        shutil.copyfile(src_path, dst_path)\n",
        "\n",
        "    for file in test_files:\n",
        "        src_path = os.path.join(class_directory, file)\n",
        "        dst_path = os.path.join(test_class_directory, file)\n",
        "        shutil.copyfile(src_path, dst_path)\n",
        "\n",
        "print(\"Combined dataset split into training, validation, and test sets.\")\n"
      ],
      "metadata": {
        "colab": {
          "base_uri": "https://localhost:8080/"
        },
        "id": "GVscDda32CvC",
        "outputId": "2bb57029-2921-44ea-bc64-3bd9d67d189f"
      },
      "execution_count": 11,
      "outputs": [
        {
          "output_type": "stream",
          "name": "stdout",
          "text": [
            "Combined dataset split into training, validation, and test sets.\n"
          ]
        }
      ]
    },
    {
      "cell_type": "markdown",
      "source": [
        "\n",
        "\n",
        "```\n",
        "\n",
        "# **Modeling**\n",
        "\n",
        "\n",
        "The code snippet below is used to clone the \"darknet\" repository from GitHub, navigate into the cloned directory, and then compile the \"darknet\" framework using the provided Makefile. This is typically done when you want to set up and use the \"darknet\" framework for tasks like object detection using neural networks."
      ],
      "metadata": {
        "id": "oQmFaG6jq_b-"
      }
    },
    {
      "cell_type": "code",
      "source": [
        "# clone darknet repository and build\n",
        "!git clone https://github.com/AlexeyAB/darknet.git\n",
        "%cd darknet\n",
        "!make"
      ],
      "metadata": {
        "colab": {
          "base_uri": "https://localhost:8080/"
        },
        "id": "ilol5no2NFy-",
        "outputId": "a13f9996-017d-40dc-8631-0ad7c6043fec"
      },
      "execution_count": 12,
      "outputs": [
        {
          "output_type": "stream",
          "name": "stdout",
          "text": [
            "Cloning into 'darknet'...\n",
            "remote: Enumerating objects: 15549, done.\u001b[K\n",
            "remote: Counting objects: 100% (35/35), done.\u001b[K\n",
            "remote: Compressing objects: 100% (29/29), done.\u001b[K\n",
            "remote: Total 15549 (delta 10), reused 27 (delta 6), pack-reused 15514\u001b[K\n",
            "Receiving objects: 100% (15549/15549), 14.24 MiB | 9.18 MiB/s, done.\n",
            "Resolving deltas: 100% (10422/10422), done.\n",
            "/content/darknet\n",
            "mkdir -p ./obj/\n",
            "mkdir -p backup\n",
            "chmod +x *.sh\n",
            "g++ -std=c++11 -std=c++11 -Iinclude/ -I3rdparty/stb/include -Wall -Wfatal-errors -Wno-unused-result -Wno-unknown-pragmas -fPIC -rdynamic -Ofast -c ./src/image_opencv.cpp -o obj/image_opencv.o\n",
            "g++ -std=c++11 -std=c++11 -Iinclude/ -I3rdparty/stb/include -Wall -Wfatal-errors -Wno-unused-result -Wno-unknown-pragmas -fPIC -rdynamic -Ofast -c ./src/http_stream.cpp -o obj/http_stream.o\n",
            "\u001b[01m\u001b[K./src/http_stream.cpp:\u001b[m\u001b[K In member function ‘\u001b[01m\u001b[Kbool JSON_sender::write(const char*)\u001b[m\u001b[K’:\n",
            "\u001b[01m\u001b[K./src/http_stream.cpp:253:21:\u001b[m\u001b[K \u001b[01;35m\u001b[Kwarning: \u001b[m\u001b[Kunused variable ‘\u001b[01m\u001b[Kn\u001b[m\u001b[K’ [\u001b[01;35m\u001b[K\u001b]8;;https://gcc.gnu.org/onlinedocs/gcc/Warning-Options.html#index-Wunused-variable\u0007-Wunused-variable\u001b]8;;\u0007\u001b[m\u001b[K]\n",
            "  253 |                 int \u001b[01;35m\u001b[Kn\u001b[m\u001b[K = _write(client, outputbuf, outlen);\n",
            "      |                     \u001b[01;35m\u001b[K^\u001b[m\u001b[K\n",
            "\u001b[01m\u001b[K./src/http_stream.cpp:\u001b[m\u001b[K In function ‘\u001b[01m\u001b[Kvoid set_track_id(detection*, int, float, float, float, int, int, int)\u001b[m\u001b[K’:\n",
            "\u001b[01m\u001b[K./src/http_stream.cpp:867:27:\u001b[m\u001b[K \u001b[01;35m\u001b[Kwarning: \u001b[m\u001b[Kcomparison of integer expressions of different signedness: ‘\u001b[01m\u001b[Kint\u001b[m\u001b[K’ and ‘\u001b[01m\u001b[Kstd::vector<detection_t>::size_type\u001b[m\u001b[K’ {aka ‘\u001b[01m\u001b[Klong unsigned int\u001b[m\u001b[K’} [\u001b[01;35m\u001b[K\u001b]8;;https://gcc.gnu.org/onlinedocs/gcc/Warning-Options.html#index-Wsign-compare\u0007-Wsign-compare\u001b]8;;\u0007\u001b[m\u001b[K]\n",
            "  867 |         for (int i = 0; \u001b[01;35m\u001b[Ki < v.size()\u001b[m\u001b[K; ++i) {\n",
            "      |                         \u001b[01;35m\u001b[K~~^~~~~~~~~~\u001b[m\u001b[K\n",
            "\u001b[01m\u001b[K./src/http_stream.cpp:875:33:\u001b[m\u001b[K \u001b[01;35m\u001b[Kwarning: \u001b[m\u001b[Kcomparison of integer expressions of different signedness: ‘\u001b[01m\u001b[Kint\u001b[m\u001b[K’ and ‘\u001b[01m\u001b[Kstd::vector<detection_t>::size_type\u001b[m\u001b[K’ {aka ‘\u001b[01m\u001b[Klong unsigned int\u001b[m\u001b[K’} [\u001b[01;35m\u001b[K\u001b]8;;https://gcc.gnu.org/onlinedocs/gcc/Warning-Options.html#index-Wsign-compare\u0007-Wsign-compare\u001b]8;;\u0007\u001b[m\u001b[K]\n",
            "  875 |     for (int old_id = 0; \u001b[01;35m\u001b[Kold_id < old_dets.size()\u001b[m\u001b[K; ++old_id) {\n",
            "      |                          \u001b[01;35m\u001b[K~~~~~~~^~~~~~~~~~~~~~~~~\u001b[m\u001b[K\n",
            "\u001b[01m\u001b[K./src/http_stream.cpp:894:31:\u001b[m\u001b[K \u001b[01;35m\u001b[Kwarning: \u001b[m\u001b[Kcomparison of integer expressions of different signedness: ‘\u001b[01m\u001b[Kint\u001b[m\u001b[K’ and ‘\u001b[01m\u001b[Kstd::vector<detection_t>::size_type\u001b[m\u001b[K’ {aka ‘\u001b[01m\u001b[Klong unsigned int\u001b[m\u001b[K’} [\u001b[01;35m\u001b[K\u001b]8;;https://gcc.gnu.org/onlinedocs/gcc/Warning-Options.html#index-Wsign-compare\u0007-Wsign-compare\u001b]8;;\u0007\u001b[m\u001b[K]\n",
            "  894 |     for (int index = 0; \u001b[01;35m\u001b[Kindex < new_dets_num*old_dets.size()\u001b[m\u001b[K; ++index) {\n",
            "      |                         \u001b[01;35m\u001b[K~~~~~~^~~~~~~~~~~~~~~~~~~~~~~~~~~~~~\u001b[m\u001b[K\n",
            "\u001b[01m\u001b[K./src/http_stream.cpp:930:28:\u001b[m\u001b[K \u001b[01;35m\u001b[Kwarning: \u001b[m\u001b[Kcomparison of integer expressions of different signedness: ‘\u001b[01m\u001b[Kstd::deque<std::vector<detection_t> >::size_type\u001b[m\u001b[K’ {aka ‘\u001b[01m\u001b[Klong unsigned int\u001b[m\u001b[K’} and ‘\u001b[01m\u001b[Kint\u001b[m\u001b[K’ [\u001b[01;35m\u001b[K\u001b]8;;https://gcc.gnu.org/onlinedocs/gcc/Warning-Options.html#index-Wsign-compare\u0007-Wsign-compare\u001b]8;;\u0007\u001b[m\u001b[K]\n",
            "  930 |     if (\u001b[01;35m\u001b[Kold_dets_dq.size() > deque_size\u001b[m\u001b[K) old_dets_dq.pop_front();\n",
            "      |         \u001b[01;35m\u001b[K~~~~~~~~~~~~~~~~~~~^~~~~~~~~~~~\u001b[m\u001b[K\n",
            "gcc -Iinclude/ -I3rdparty/stb/include -Wall -Wfatal-errors -Wno-unused-result -Wno-unknown-pragmas -fPIC -rdynamic -Ofast -c ./src/gemm.c -o obj/gemm.o\n",
            "\u001b[01m\u001b[K./src/gemm.c:\u001b[m\u001b[K In function ‘\u001b[01m\u001b[Kconvolution_2d\u001b[m\u001b[K’:\n",
            "\u001b[01m\u001b[K./src/gemm.c:2044:15:\u001b[m\u001b[K \u001b[01;35m\u001b[Kwarning: \u001b[m\u001b[Kunused variable ‘\u001b[01m\u001b[Kout_w\u001b[m\u001b[K’ [\u001b[01;35m\u001b[K\u001b]8;;https://gcc.gnu.org/onlinedocs/gcc/Warning-Options.html#index-Wunused-variable\u0007-Wunused-variable\u001b]8;;\u0007\u001b[m\u001b[K]\n",
            " 2044 |     const int \u001b[01;35m\u001b[Kout_w\u001b[m\u001b[K = (w + 2 * pad - ksize) / stride + 1;    // output_width=input_width for stride=1 and pad=1\n",
            "      |               \u001b[01;35m\u001b[K^~~~~\u001b[m\u001b[K\n",
            "\u001b[01m\u001b[K./src/gemm.c:2043:15:\u001b[m\u001b[K \u001b[01;35m\u001b[Kwarning: \u001b[m\u001b[Kunused variable ‘\u001b[01m\u001b[Kout_h\u001b[m\u001b[K’ [\u001b[01;35m\u001b[K\u001b]8;;https://gcc.gnu.org/onlinedocs/gcc/Warning-Options.html#index-Wunused-variable\u0007-Wunused-variable\u001b]8;;\u0007\u001b[m\u001b[K]\n",
            " 2043 |     const int \u001b[01;35m\u001b[Kout_h\u001b[m\u001b[K = (h + 2 * pad - ksize) / stride + 1;    // output_height=input_height for stride=1 and pad=1\n",
            "      |               \u001b[01;35m\u001b[K^~~~~\u001b[m\u001b[K\n",
            "gcc -Iinclude/ -I3rdparty/stb/include -Wall -Wfatal-errors -Wno-unused-result -Wno-unknown-pragmas -fPIC -rdynamic -Ofast -c ./src/utils.c -o obj/utils.o\n",
            "\u001b[01m\u001b[K./src/utils.c:\u001b[m\u001b[K In function ‘\u001b[01m\u001b[Kcustom_hash\u001b[m\u001b[K’:\n",
            "\u001b[01m\u001b[K./src/utils.c:1082:12:\u001b[m\u001b[K \u001b[01;35m\u001b[Kwarning: \u001b[m\u001b[Ksuggest parentheses around assignment used as truth value [\u001b[01;35m\u001b[K\u001b]8;;https://gcc.gnu.org/onlinedocs/gcc/Warning-Options.html#index-Wparentheses\u0007-Wparentheses\u001b]8;;\u0007\u001b[m\u001b[K]\n",
            " 1082 |     while (\u001b[01;35m\u001b[Kc\u001b[m\u001b[K = *str++)\n",
            "      |            \u001b[01;35m\u001b[K^\u001b[m\u001b[K\n",
            "In file included from \u001b[01m\u001b[K/usr/include/string.h:535\u001b[m\u001b[K,\n",
            "                 from \u001b[01m\u001b[Kinclude/darknet.h:14\u001b[m\u001b[K,\n",
            "                 from \u001b[01m\u001b[K./src/utils.h:3\u001b[m\u001b[K,\n",
            "                 from \u001b[01m\u001b[K./src/utils.c:4\u001b[m\u001b[K:\n",
            "In function ‘\u001b[01m\u001b[Kstrncpy\u001b[m\u001b[K’,\n",
            "    inlined from ‘\u001b[01m\u001b[Kcopy_string\u001b[m\u001b[K’ at \u001b[01m\u001b[K./src/utils.c:552:5\u001b[m\u001b[K:\n",
            "\u001b[01m\u001b[K/usr/include/x86_64-linux-gnu/bits/string_fortified.h:95:10:\u001b[m\u001b[K \u001b[01;35m\u001b[Kwarning: \u001b[m\u001b[K‘\u001b[01m\u001b[K__builtin_strncpy\u001b[m\u001b[K’ specified bound depends on the length of the source argument [\u001b[01;35m\u001b[K\u001b]8;;https://gcc.gnu.org/onlinedocs/gcc/Warning-Options.html#index-Wstringop-truncation\u0007-Wstringop-truncation\u001b]8;;\u0007\u001b[m\u001b[K]\n",
            "   95 |   return \u001b[01;35m\u001b[K__builtin___strncpy_chk (__dest, __src, __len,\u001b[m\u001b[K\n",
            "      |          \u001b[01;35m\u001b[K^~~~~~~~~~~~~~~~~~~~~~~~~~~~~~~~~~~~~~~~~~~~~~\u001b[m\u001b[K\n",
            "   96 | \u001b[01;35m\u001b[K                                  __glibc_objsize (__dest))\u001b[m\u001b[K;\n",
            "      |                                   \u001b[01;35m\u001b[K~~~~~~~~~~~~~~~~~~~~~~~~~\u001b[m\u001b[K\n",
            "\u001b[01m\u001b[K./src/utils.c:\u001b[m\u001b[K In function ‘\u001b[01m\u001b[Kcopy_string\u001b[m\u001b[K’:\n",
            "\u001b[01m\u001b[K./src/utils.c:552:22:\u001b[m\u001b[K \u001b[01;36m\u001b[Knote: \u001b[m\u001b[Klength computed here\n",
            "  552 |     strncpy(copy, s, \u001b[01;36m\u001b[Kstrlen(s)\u001b[m\u001b[K+1);\n",
            "      |                      \u001b[01;36m\u001b[K^~~~~~~~~\u001b[m\u001b[K\n",
            "gcc -Iinclude/ -I3rdparty/stb/include -Wall -Wfatal-errors -Wno-unused-result -Wno-unknown-pragmas -fPIC -rdynamic -Ofast -c ./src/dark_cuda.c -o obj/dark_cuda.o\n",
            "gcc -Iinclude/ -I3rdparty/stb/include -Wall -Wfatal-errors -Wno-unused-result -Wno-unknown-pragmas -fPIC -rdynamic -Ofast -c ./src/convolutional_layer.c -o obj/convolutional_layer.o\n",
            "\u001b[01m\u001b[K./src/convolutional_layer.c:\u001b[m\u001b[K In function ‘\u001b[01m\u001b[Kresize_convolutional_layer\u001b[m\u001b[K’:\n",
            "\u001b[01m\u001b[K./src/convolutional_layer.c:898:9:\u001b[m\u001b[K \u001b[01;35m\u001b[Kwarning: \u001b[m\u001b[Kunused variable ‘\u001b[01m\u001b[Kold_h\u001b[m\u001b[K’ [\u001b[01;35m\u001b[K\u001b]8;;https://gcc.gnu.org/onlinedocs/gcc/Warning-Options.html#index-Wunused-variable\u0007-Wunused-variable\u001b]8;;\u0007\u001b[m\u001b[K]\n",
            "  898 |     int \u001b[01;35m\u001b[Kold_h\u001b[m\u001b[K = l->h;\n",
            "      |         \u001b[01;35m\u001b[K^~~~~\u001b[m\u001b[K\n",
            "\u001b[01m\u001b[K./src/convolutional_layer.c:897:9:\u001b[m\u001b[K \u001b[01;35m\u001b[Kwarning: \u001b[m\u001b[Kunused variable ‘\u001b[01m\u001b[Kold_w\u001b[m\u001b[K’ [\u001b[01;35m\u001b[K\u001b]8;;https://gcc.gnu.org/onlinedocs/gcc/Warning-Options.html#index-Wunused-variable\u0007-Wunused-variable\u001b]8;;\u0007\u001b[m\u001b[K]\n",
            "  897 |     int \u001b[01;35m\u001b[Kold_w\u001b[m\u001b[K = l->w;\n",
            "      |         \u001b[01;35m\u001b[K^~~~~\u001b[m\u001b[K\n",
            "\u001b[01m\u001b[K./src/convolutional_layer.c:\u001b[m\u001b[K In function ‘\u001b[01m\u001b[Kforward_convolutional_layer\u001b[m\u001b[K’:\n",
            "\u001b[01m\u001b[K./src/convolutional_layer.c:1342:32:\u001b[m\u001b[K \u001b[01;35m\u001b[Kwarning: \u001b[m\u001b[Kunused variable ‘\u001b[01m\u001b[Kt_intput_size\u001b[m\u001b[K’ [\u001b[01;35m\u001b[K\u001b]8;;https://gcc.gnu.org/onlinedocs/gcc/Warning-Options.html#index-Wunused-variable\u0007-Wunused-variable\u001b]8;;\u0007\u001b[m\u001b[K]\n",
            " 1342 |                         size_t \u001b[01;35m\u001b[Kt_intput_size\u001b[m\u001b[K = binary_transpose_align_input(k, n, state.workspace, &l.t_bit_input, ldb_align, l.bit_align);\n",
            "      |                                \u001b[01;35m\u001b[K^~~~~~~~~~~~~\u001b[m\u001b[K\n",
            "gcc -Iinclude/ -I3rdparty/stb/include -Wall -Wfatal-errors -Wno-unused-result -Wno-unknown-pragmas -fPIC -rdynamic -Ofast -c ./src/list.c -o obj/list.o\n",
            "gcc -Iinclude/ -I3rdparty/stb/include -Wall -Wfatal-errors -Wno-unused-result -Wno-unknown-pragmas -fPIC -rdynamic -Ofast -c ./src/image.c -o obj/image.o\n",
            "gcc -Iinclude/ -I3rdparty/stb/include -Wall -Wfatal-errors -Wno-unused-result -Wno-unknown-pragmas -fPIC -rdynamic -Ofast -c ./src/activations.c -o obj/activations.o\n",
            "\u001b[01m\u001b[K./src/activations.c:\u001b[m\u001b[K In function ‘\u001b[01m\u001b[Kactivate\u001b[m\u001b[K’:\n",
            "\u001b[01m\u001b[K./src/activations.c:79:5:\u001b[m\u001b[K \u001b[01;35m\u001b[Kwarning: \u001b[m\u001b[Kenumeration value ‘\u001b[01m\u001b[KRELU6\u001b[m\u001b[K’ not handled in switch [\u001b[01;35m\u001b[K\u001b]8;;https://gcc.gnu.org/onlinedocs/gcc/Warning-Options.html#index-Wswitch\u0007-Wswitch\u001b]8;;\u0007\u001b[m\u001b[K]\n",
            "   79 |     \u001b[01;35m\u001b[Kswitch\u001b[m\u001b[K(a){\n",
            "      |     \u001b[01;35m\u001b[K^~~~~~\u001b[m\u001b[K\n",
            "\u001b[01m\u001b[K./src/activations.c:79:5:\u001b[m\u001b[K \u001b[01;35m\u001b[Kwarning: \u001b[m\u001b[Kenumeration value ‘\u001b[01m\u001b[KSWISH\u001b[m\u001b[K’ not handled in switch [\u001b[01;35m\u001b[K\u001b]8;;https://gcc.gnu.org/onlinedocs/gcc/Warning-Options.html#index-Wswitch\u0007-Wswitch\u001b]8;;\u0007\u001b[m\u001b[K]\n",
            "\u001b[01m\u001b[K./src/activations.c:79:5:\u001b[m\u001b[K \u001b[01;35m\u001b[Kwarning: \u001b[m\u001b[Kenumeration value ‘\u001b[01m\u001b[KMISH\u001b[m\u001b[K’ not handled in switch [\u001b[01;35m\u001b[K\u001b]8;;https://gcc.gnu.org/onlinedocs/gcc/Warning-Options.html#index-Wswitch\u0007-Wswitch\u001b]8;;\u0007\u001b[m\u001b[K]\n",
            "\u001b[01m\u001b[K./src/activations.c:79:5:\u001b[m\u001b[K \u001b[01;35m\u001b[Kwarning: \u001b[m\u001b[Kenumeration value ‘\u001b[01m\u001b[KHARD_MISH\u001b[m\u001b[K’ not handled in switch [\u001b[01;35m\u001b[K\u001b]8;;https://gcc.gnu.org/onlinedocs/gcc/Warning-Options.html#index-Wswitch\u0007-Wswitch\u001b]8;;\u0007\u001b[m\u001b[K]\n",
            "\u001b[01m\u001b[K./src/activations.c:79:5:\u001b[m\u001b[K \u001b[01;35m\u001b[Kwarning: \u001b[m\u001b[Kenumeration value ‘\u001b[01m\u001b[KNORM_CHAN\u001b[m\u001b[K’ not handled in switch [\u001b[01;35m\u001b[K\u001b]8;;https://gcc.gnu.org/onlinedocs/gcc/Warning-Options.html#index-Wswitch\u0007-Wswitch\u001b]8;;\u0007\u001b[m\u001b[K]\n",
            "\u001b[01m\u001b[K./src/activations.c:79:5:\u001b[m\u001b[K \u001b[01;35m\u001b[Kwarning: \u001b[m\u001b[Kenumeration value ‘\u001b[01m\u001b[KNORM_CHAN_SOFTMAX\u001b[m\u001b[K’ not handled in switch [\u001b[01;35m\u001b[K\u001b]8;;https://gcc.gnu.org/onlinedocs/gcc/Warning-Options.html#index-Wswitch\u0007-Wswitch\u001b]8;;\u0007\u001b[m\u001b[K]\n",
            "\u001b[01m\u001b[K./src/activations.c:79:5:\u001b[m\u001b[K \u001b[01;35m\u001b[Kwarning: \u001b[m\u001b[Kenumeration value ‘\u001b[01m\u001b[KNORM_CHAN_SOFTMAX_MAXVAL\u001b[m\u001b[K’ not handled in switch [\u001b[01;35m\u001b[K\u001b]8;;https://gcc.gnu.org/onlinedocs/gcc/Warning-Options.html#index-Wswitch\u0007-Wswitch\u001b]8;;\u0007\u001b[m\u001b[K]\n",
            "\u001b[01m\u001b[K./src/activations.c:\u001b[m\u001b[K In function ‘\u001b[01m\u001b[Kgradient\u001b[m\u001b[K’:\n",
            "\u001b[01m\u001b[K./src/activations.c:310:5:\u001b[m\u001b[K \u001b[01;35m\u001b[Kwarning: \u001b[m\u001b[Kenumeration value ‘\u001b[01m\u001b[KSWISH\u001b[m\u001b[K’ not handled in switch [\u001b[01;35m\u001b[K\u001b]8;;https://gcc.gnu.org/onlinedocs/gcc/Warning-Options.html#index-Wswitch\u0007-Wswitch\u001b]8;;\u0007\u001b[m\u001b[K]\n",
            "  310 |     \u001b[01;35m\u001b[Kswitch\u001b[m\u001b[K(a){\n",
            "      |     \u001b[01;35m\u001b[K^~~~~~\u001b[m\u001b[K\n",
            "\u001b[01m\u001b[K./src/activations.c:310:5:\u001b[m\u001b[K \u001b[01;35m\u001b[Kwarning: \u001b[m\u001b[Kenumeration value ‘\u001b[01m\u001b[KMISH\u001b[m\u001b[K’ not handled in switch [\u001b[01;35m\u001b[K\u001b]8;;https://gcc.gnu.org/onlinedocs/gcc/Warning-Options.html#index-Wswitch\u0007-Wswitch\u001b]8;;\u0007\u001b[m\u001b[K]\n",
            "\u001b[01m\u001b[K./src/activations.c:310:5:\u001b[m\u001b[K \u001b[01;35m\u001b[Kwarning: \u001b[m\u001b[Kenumeration value ‘\u001b[01m\u001b[KHARD_MISH\u001b[m\u001b[K’ not handled in switch [\u001b[01;35m\u001b[K\u001b]8;;https://gcc.gnu.org/onlinedocs/gcc/Warning-Options.html#index-Wswitch\u0007-Wswitch\u001b]8;;\u0007\u001b[m\u001b[K]\n",
            "gcc -Iinclude/ -I3rdparty/stb/include -Wall -Wfatal-errors -Wno-unused-result -Wno-unknown-pragmas -fPIC -rdynamic -Ofast -c ./src/im2col.c -o obj/im2col.o\n",
            "gcc -Iinclude/ -I3rdparty/stb/include -Wall -Wfatal-errors -Wno-unused-result -Wno-unknown-pragmas -fPIC -rdynamic -Ofast -c ./src/col2im.c -o obj/col2im.o\n",
            "gcc -Iinclude/ -I3rdparty/stb/include -Wall -Wfatal-errors -Wno-unused-result -Wno-unknown-pragmas -fPIC -rdynamic -Ofast -c ./src/blas.c -o obj/blas.o\n",
            "\u001b[01m\u001b[K./src/blas.c:\u001b[m\u001b[K In function ‘\u001b[01m\u001b[Kbackward_shortcut_multilayer_cpu\u001b[m\u001b[K’:\n",
            "\u001b[01m\u001b[K./src/blas.c:207:21:\u001b[m\u001b[K \u001b[01;35m\u001b[Kwarning: \u001b[m\u001b[Kunused variable ‘\u001b[01m\u001b[Kout_index\u001b[m\u001b[K’ [\u001b[01;35m\u001b[K\u001b]8;;https://gcc.gnu.org/onlinedocs/gcc/Warning-Options.html#index-Wunused-variable\u0007-Wunused-variable\u001b]8;;\u0007\u001b[m\u001b[K]\n",
            "  207 |                 int \u001b[01;35m\u001b[Kout_index\u001b[m\u001b[K = id;\n",
            "      |                     \u001b[01;35m\u001b[K^~~~~~~~~\u001b[m\u001b[K\n",
            "\u001b[01m\u001b[K./src/blas.c:\u001b[m\u001b[K In function ‘\u001b[01m\u001b[Kfind_sim\u001b[m\u001b[K’:\n",
            "\u001b[01m\u001b[K./src/blas.c:597:59:\u001b[m\u001b[K \u001b[01;35m\u001b[Kwarning: \u001b[m\u001b[Kformat ‘\u001b[01m\u001b[K%d\u001b[m\u001b[K’ expects argument of type ‘\u001b[01m\u001b[Kint\u001b[m\u001b[K’, but argument 2 has type ‘\u001b[01m\u001b[Ksize_t\u001b[m\u001b[K’ {aka ‘\u001b[01m\u001b[Klong unsigned int\u001b[m\u001b[K’} [\u001b[01;35m\u001b[K\u001b]8;;https://gcc.gnu.org/onlinedocs/gcc/Warning-Options.html#index-Wformat=\u0007-Wformat=\u001b]8;;\u0007\u001b[m\u001b[K]\n",
            "  597 |         printf(\" Error: find_sim(): sim isn't found: i = \u001b[01;35m\u001b[K%d\u001b[m\u001b[K, j = %d, z = %d \\n\", \u001b[32m\u001b[Ki\u001b[m\u001b[K, j, z);\n",
            "      |                                                          \u001b[01;35m\u001b[K~^\u001b[m\u001b[K                      \u001b[32m\u001b[K~\u001b[m\u001b[K\n",
            "      |                                                           \u001b[01;35m\u001b[K|\u001b[m\u001b[K                      \u001b[32m\u001b[K|\u001b[m\u001b[K\n",
            "      |                                                           \u001b[01;35m\u001b[Kint\u001b[m\u001b[K                    \u001b[32m\u001b[Ksize_t {aka long unsigned int}\u001b[m\u001b[K\n",
            "      |                                                          \u001b[32m\u001b[K%ld\u001b[m\u001b[K\n",
            "\u001b[01m\u001b[K./src/blas.c:597:67:\u001b[m\u001b[K \u001b[01;35m\u001b[Kwarning: \u001b[m\u001b[Kformat ‘\u001b[01m\u001b[K%d\u001b[m\u001b[K’ expects argument of type ‘\u001b[01m\u001b[Kint\u001b[m\u001b[K’, but argument 3 has type ‘\u001b[01m\u001b[Ksize_t\u001b[m\u001b[K’ {aka ‘\u001b[01m\u001b[Klong unsigned int\u001b[m\u001b[K’} [\u001b[01;35m\u001b[K\u001b]8;;https://gcc.gnu.org/onlinedocs/gcc/Warning-Options.html#index-Wformat=\u0007-Wformat=\u001b]8;;\u0007\u001b[m\u001b[K]\n",
            "  597 |         printf(\" Error: find_sim(): sim isn't found: i = %d, j = \u001b[01;35m\u001b[K%d\u001b[m\u001b[K, z = %d \\n\", i, \u001b[32m\u001b[Kj\u001b[m\u001b[K, z);\n",
            "      |                                                                  \u001b[01;35m\u001b[K~^\u001b[m\u001b[K                 \u001b[32m\u001b[K~\u001b[m\u001b[K\n",
            "      |                                                                   \u001b[01;35m\u001b[K|\u001b[m\u001b[K                 \u001b[32m\u001b[K|\u001b[m\u001b[K\n",
            "      |                                                                   \u001b[01;35m\u001b[Kint\u001b[m\u001b[K               \u001b[32m\u001b[Ksize_t {aka long unsigned int}\u001b[m\u001b[K\n",
            "      |                                                                  \u001b[32m\u001b[K%ld\u001b[m\u001b[K\n",
            "\u001b[01m\u001b[K./src/blas.c:597:75:\u001b[m\u001b[K \u001b[01;35m\u001b[Kwarning: \u001b[m\u001b[Kformat ‘\u001b[01m\u001b[K%d\u001b[m\u001b[K’ expects argument of type ‘\u001b[01m\u001b[Kint\u001b[m\u001b[K’, but argument 4 has type ‘\u001b[01m\u001b[Ksize_t\u001b[m\u001b[K’ {aka ‘\u001b[01m\u001b[Klong unsigned int\u001b[m\u001b[K’} [\u001b[01;35m\u001b[K\u001b]8;;https://gcc.gnu.org/onlinedocs/gcc/Warning-Options.html#index-Wformat=\u0007-Wformat=\u001b]8;;\u0007\u001b[m\u001b[K]\n",
            "  597 |         printf(\" Error: find_sim(): sim isn't found: i = %d, j = %d, z = \u001b[01;35m\u001b[K%d\u001b[m\u001b[K \\n\", i, j, \u001b[32m\u001b[Kz\u001b[m\u001b[K);\n",
            "      |                                                                          \u001b[01;35m\u001b[K~^\u001b[m\u001b[K            \u001b[32m\u001b[K~\u001b[m\u001b[K\n",
            "      |                                                                           \u001b[01;35m\u001b[K|\u001b[m\u001b[K            \u001b[32m\u001b[K|\u001b[m\u001b[K\n",
            "      |                                                                           \u001b[01;35m\u001b[Kint\u001b[m\u001b[K          \u001b[32m\u001b[Ksize_t {aka long unsigned int}\u001b[m\u001b[K\n",
            "      |                                                                          \u001b[32m\u001b[K%ld\u001b[m\u001b[K\n",
            "\u001b[01m\u001b[K./src/blas.c:\u001b[m\u001b[K In function ‘\u001b[01m\u001b[Kfind_P_constrastive\u001b[m\u001b[K’:\n",
            "\u001b[01m\u001b[K./src/blas.c:611:68:\u001b[m\u001b[K \u001b[01;35m\u001b[Kwarning: \u001b[m\u001b[Kformat ‘\u001b[01m\u001b[K%d\u001b[m\u001b[K’ expects argument of type ‘\u001b[01m\u001b[Kint\u001b[m\u001b[K’, but argument 2 has type ‘\u001b[01m\u001b[Ksize_t\u001b[m\u001b[K’ {aka ‘\u001b[01m\u001b[Klong unsigned int\u001b[m\u001b[K’} [\u001b[01;35m\u001b[K\u001b]8;;https://gcc.gnu.org/onlinedocs/gcc/Warning-Options.html#index-Wformat=\u0007-Wformat=\u001b]8;;\u0007\u001b[m\u001b[K]\n",
            "  611 |         printf(\" Error: find_P_constrastive(): P isn't found: i = \u001b[01;35m\u001b[K%d\u001b[m\u001b[K, j = %d, z = %d \\n\", \u001b[32m\u001b[Ki\u001b[m\u001b[K, j, z);\n",
            "      |                                                                   \u001b[01;35m\u001b[K~^\u001b[m\u001b[K                      \u001b[32m\u001b[K~\u001b[m\u001b[K\n",
            "      |                                                                    \u001b[01;35m\u001b[K|\u001b[m\u001b[K                      \u001b[32m\u001b[K|\u001b[m\u001b[K\n",
            "      |                                                                    \u001b[01;35m\u001b[Kint\u001b[m\u001b[K                    \u001b[32m\u001b[Ksize_t {aka long unsigned int}\u001b[m\u001b[K\n",
            "      |                                                                   \u001b[32m\u001b[K%ld\u001b[m\u001b[K\n",
            "\u001b[01m\u001b[K./src/blas.c:611:76:\u001b[m\u001b[K \u001b[01;35m\u001b[Kwarning: \u001b[m\u001b[Kformat ‘\u001b[01m\u001b[K%d\u001b[m\u001b[K’ expects argument of type ‘\u001b[01m\u001b[Kint\u001b[m\u001b[K’, but argument 3 has type ‘\u001b[01m\u001b[Ksize_t\u001b[m\u001b[K’ {aka ‘\u001b[01m\u001b[Klong unsigned int\u001b[m\u001b[K’} [\u001b[01;35m\u001b[K\u001b]8;;https://gcc.gnu.org/onlinedocs/gcc/Warning-Options.html#index-Wformat=\u0007-Wformat=\u001b]8;;\u0007\u001b[m\u001b[K]\n",
            "  611 |         printf(\" Error: find_P_constrastive(): P isn't found: i = %d, j = \u001b[01;35m\u001b[K%d\u001b[m\u001b[K, z = %d \\n\", i, \u001b[32m\u001b[Kj\u001b[m\u001b[K, z);\n",
            "      |                                                                           \u001b[01;35m\u001b[K~^\u001b[m\u001b[K                 \u001b[32m\u001b[K~\u001b[m\u001b[K\n",
            "      |                                                                            \u001b[01;35m\u001b[K|\u001b[m\u001b[K                 \u001b[32m\u001b[K|\u001b[m\u001b[K\n",
            "      |                                                                            \u001b[01;35m\u001b[Kint\u001b[m\u001b[K               \u001b[32m\u001b[Ksize_t {aka long unsigned int}\u001b[m\u001b[K\n",
            "      |                                                                           \u001b[32m\u001b[K%ld\u001b[m\u001b[K\n",
            "\u001b[01m\u001b[K./src/blas.c:611:84:\u001b[m\u001b[K \u001b[01;35m\u001b[Kwarning: \u001b[m\u001b[Kformat ‘\u001b[01m\u001b[K%d\u001b[m\u001b[K’ expects argument of type ‘\u001b[01m\u001b[Kint\u001b[m\u001b[K’, but argument 4 has type ‘\u001b[01m\u001b[Ksize_t\u001b[m\u001b[K’ {aka ‘\u001b[01m\u001b[Klong unsigned int\u001b[m\u001b[K’} [\u001b[01;35m\u001b[K\u001b]8;;https://gcc.gnu.org/onlinedocs/gcc/Warning-Options.html#index-Wformat=\u0007-Wformat=\u001b]8;;\u0007\u001b[m\u001b[K]\n",
            "  611 |         printf(\" Error: find_P_constrastive(): P isn't found: i = %d, j = %d, z = \u001b[01;35m\u001b[K%d\u001b[m\u001b[K \\n\", i, j, \u001b[32m\u001b[Kz\u001b[m\u001b[K);\n",
            "      |                                                                                   \u001b[01;35m\u001b[K~^\u001b[m\u001b[K            \u001b[32m\u001b[K~\u001b[m\u001b[K\n",
            "      |                                                                                    \u001b[01;35m\u001b[K|\u001b[m\u001b[K            \u001b[32m\u001b[K|\u001b[m\u001b[K\n",
            "      |                                                                                    \u001b[01;35m\u001b[Kint\u001b[m\u001b[K          \u001b[32m\u001b[Ksize_t {aka long unsigned int}\u001b[m\u001b[K\n",
            "      |                                                                                   \u001b[32m\u001b[K%ld\u001b[m\u001b[K\n",
            "\u001b[01m\u001b[K./src/blas.c:\u001b[m\u001b[K In function ‘\u001b[01m\u001b[KP_constrastive_f\u001b[m\u001b[K’:\n",
            "\u001b[01m\u001b[K./src/blas.c:651:79:\u001b[m\u001b[K \u001b[01;35m\u001b[Kwarning: \u001b[m\u001b[Kformat ‘\u001b[01m\u001b[K%d\u001b[m\u001b[K’ expects argument of type ‘\u001b[01m\u001b[Kint\u001b[m\u001b[K’, but argument 3 has type ‘\u001b[01m\u001b[Ksize_t\u001b[m\u001b[K’ {aka ‘\u001b[01m\u001b[Klong unsigned int\u001b[m\u001b[K’} [\u001b[01;35m\u001b[K\u001b]8;;https://gcc.gnu.org/onlinedocs/gcc/Warning-Options.html#index-Wformat=\u0007-Wformat=\u001b]8;;\u0007\u001b[m\u001b[K]\n",
            "  651 |         fprintf(stderr, \" Error: in P_constrastive must be i != l, while i = \u001b[01;35m\u001b[K%d\u001b[m\u001b[K, l = %d \\n\", \u001b[32m\u001b[Ki\u001b[m\u001b[K, l);\n",
            "      |                                                                              \u001b[01;35m\u001b[K~^\u001b[m\u001b[K              \u001b[32m\u001b[K~\u001b[m\u001b[K\n",
            "      |                                                                               \u001b[01;35m\u001b[K|\u001b[m\u001b[K              \u001b[32m\u001b[K|\u001b[m\u001b[K\n",
            "      |                                                                               \u001b[01;35m\u001b[Kint\u001b[m\u001b[K            \u001b[32m\u001b[Ksize_t {aka long unsigned int}\u001b[m\u001b[K\n",
            "      |                                                                              \u001b[32m\u001b[K%ld\u001b[m\u001b[K\n",
            "\u001b[01m\u001b[K./src/blas.c:651:87:\u001b[m\u001b[K \u001b[01;35m\u001b[Kwarning: \u001b[m\u001b[Kformat ‘\u001b[01m\u001b[K%d\u001b[m\u001b[K’ expects argument of type ‘\u001b[01m\u001b[Kint\u001b[m\u001b[K’, but argument 4 has type ‘\u001b[01m\u001b[Ksize_t\u001b[m\u001b[K’ {aka ‘\u001b[01m\u001b[Klong unsigned int\u001b[m\u001b[K’} [\u001b[01;35m\u001b[K\u001b]8;;https://gcc.gnu.org/onlinedocs/gcc/Warning-Options.html#index-Wformat=\u0007-Wformat=\u001b]8;;\u0007\u001b[m\u001b[K]\n",
            "  651 |         fprintf(stderr, \" Error: in P_constrastive must be i != l, while i = %d, l = \u001b[01;35m\u001b[K%d\u001b[m\u001b[K \\n\", i, \u001b[32m\u001b[Kl\u001b[m\u001b[K);\n",
            "      |                                                                                      \u001b[01;35m\u001b[K~^\u001b[m\u001b[K         \u001b[32m\u001b[K~\u001b[m\u001b[K\n",
            "      |                                                                                       \u001b[01;35m\u001b[K|\u001b[m\u001b[K         \u001b[32m\u001b[K|\u001b[m\u001b[K\n",
            "      |                                                                                       \u001b[01;35m\u001b[Kint\u001b[m\u001b[K       \u001b[32m\u001b[Ksize_t {aka long unsigned int}\u001b[m\u001b[K\n",
            "      |                                                                                      \u001b[32m\u001b[K%ld\u001b[m\u001b[K\n",
            "\u001b[01m\u001b[K./src/blas.c:\u001b[m\u001b[K In function ‘\u001b[01m\u001b[KP_constrastive\u001b[m\u001b[K’:\n",
            "\u001b[01m\u001b[K./src/blas.c:785:79:\u001b[m\u001b[K \u001b[01;35m\u001b[Kwarning: \u001b[m\u001b[Kformat ‘\u001b[01m\u001b[K%d\u001b[m\u001b[K’ expects argument of type ‘\u001b[01m\u001b[Kint\u001b[m\u001b[K’, but argument 3 has type ‘\u001b[01m\u001b[Ksize_t\u001b[m\u001b[K’ {aka ‘\u001b[01m\u001b[Klong unsigned int\u001b[m\u001b[K’} [\u001b[01;35m\u001b[K\u001b]8;;https://gcc.gnu.org/onlinedocs/gcc/Warning-Options.html#index-Wformat=\u0007-Wformat=\u001b]8;;\u0007\u001b[m\u001b[K]\n",
            "  785 |         fprintf(stderr, \" Error: in P_constrastive must be i != l, while i = \u001b[01;35m\u001b[K%d\u001b[m\u001b[K, l = %d \\n\", \u001b[32m\u001b[Ki\u001b[m\u001b[K, l);\n",
            "      |                                                                              \u001b[01;35m\u001b[K~^\u001b[m\u001b[K              \u001b[32m\u001b[K~\u001b[m\u001b[K\n",
            "      |                                                                               \u001b[01;35m\u001b[K|\u001b[m\u001b[K              \u001b[32m\u001b[K|\u001b[m\u001b[K\n",
            "      |                                                                               \u001b[01;35m\u001b[Kint\u001b[m\u001b[K            \u001b[32m\u001b[Ksize_t {aka long unsigned int}\u001b[m\u001b[K\n",
            "      |                                                                              \u001b[32m\u001b[K%ld\u001b[m\u001b[K\n",
            "\u001b[01m\u001b[K./src/blas.c:785:87:\u001b[m\u001b[K \u001b[01;35m\u001b[Kwarning: \u001b[m\u001b[Kformat ‘\u001b[01m\u001b[K%d\u001b[m\u001b[K’ expects argument of type ‘\u001b[01m\u001b[Kint\u001b[m\u001b[K’, but argument 4 has type ‘\u001b[01m\u001b[Ksize_t\u001b[m\u001b[K’ {aka ‘\u001b[01m\u001b[Klong unsigned int\u001b[m\u001b[K’} [\u001b[01;35m\u001b[K\u001b]8;;https://gcc.gnu.org/onlinedocs/gcc/Warning-Options.html#index-Wformat=\u0007-Wformat=\u001b]8;;\u0007\u001b[m\u001b[K]\n",
            "  785 |         fprintf(stderr, \" Error: in P_constrastive must be i != l, while i = %d, l = \u001b[01;35m\u001b[K%d\u001b[m\u001b[K \\n\", i, \u001b[32m\u001b[Kl\u001b[m\u001b[K);\n",
            "      |                                                                                      \u001b[01;35m\u001b[K~^\u001b[m\u001b[K         \u001b[32m\u001b[K~\u001b[m\u001b[K\n",
            "      |                                                                                       \u001b[01;35m\u001b[K|\u001b[m\u001b[K         \u001b[32m\u001b[K|\u001b[m\u001b[K\n",
            "      |                                                                                       \u001b[01;35m\u001b[Kint\u001b[m\u001b[K       \u001b[32m\u001b[Ksize_t {aka long unsigned int}\u001b[m\u001b[K\n",
            "      |                                                                                      \u001b[32m\u001b[K%ld\u001b[m\u001b[K\n",
            "gcc -Iinclude/ -I3rdparty/stb/include -Wall -Wfatal-errors -Wno-unused-result -Wno-unknown-pragmas -fPIC -rdynamic -Ofast -c ./src/crop_layer.c -o obj/crop_layer.o\n",
            "gcc -Iinclude/ -I3rdparty/stb/include -Wall -Wfatal-errors -Wno-unused-result -Wno-unknown-pragmas -fPIC -rdynamic -Ofast -c ./src/dropout_layer.c -o obj/dropout_layer.o\n",
            "gcc -Iinclude/ -I3rdparty/stb/include -Wall -Wfatal-errors -Wno-unused-result -Wno-unknown-pragmas -fPIC -rdynamic -Ofast -c ./src/maxpool_layer.c -o obj/maxpool_layer.o\n",
            "gcc -Iinclude/ -I3rdparty/stb/include -Wall -Wfatal-errors -Wno-unused-result -Wno-unknown-pragmas -fPIC -rdynamic -Ofast -c ./src/softmax_layer.c -o obj/softmax_layer.o\n",
            "\u001b[01m\u001b[K./src/softmax_layer.c:\u001b[m\u001b[K In function ‘\u001b[01m\u001b[Kmake_contrastive_layer\u001b[m\u001b[K’:\n",
            "\u001b[01m\u001b[K./src/softmax_layer.c:203:101:\u001b[m\u001b[K \u001b[01;35m\u001b[Kwarning: \u001b[m\u001b[Kformat ‘\u001b[01m\u001b[K%d\u001b[m\u001b[K’ expects argument of type ‘\u001b[01m\u001b[Kint\u001b[m\u001b[K’, but argument 9 has type ‘\u001b[01m\u001b[Ksize_t\u001b[m\u001b[K’ {aka ‘\u001b[01m\u001b[Klong unsigned int\u001b[m\u001b[K’} [\u001b[01;35m\u001b[K\u001b]8;;https://gcc.gnu.org/onlinedocs/gcc/Warning-Options.html#index-Wformat=\u0007-Wformat=\u001b]8;;\u0007\u001b[m\u001b[K]\n",
            "  203 |     fprintf(stderr, \"contrastive %4d x%4d x%4d x emb_size %4d x batch: %4d  classes = %4d, step = \u001b[01;35m\u001b[K%4d\u001b[m\u001b[K \\n\", w, h, l.n, l.embedding_size, batch, l.classes, \u001b[32m\u001b[Kstep\u001b[m\u001b[K);\n",
            "      |                                                                                                   \u001b[01;35m\u001b[K~~^\u001b[m\u001b[K                                                     \u001b[32m\u001b[K~~~~\u001b[m\u001b[K\n",
            "      |                                                                                                     \u001b[01;35m\u001b[K|\u001b[m\u001b[K                                                     \u001b[32m\u001b[K|\u001b[m\u001b[K\n",
            "      |                                                                                                     \u001b[01;35m\u001b[Kint\u001b[m\u001b[K                                                   \u001b[32m\u001b[Ksize_t {aka long unsigned int}\u001b[m\u001b[K\n",
            "      |                                                                                                   \u001b[32m\u001b[K%4ld\u001b[m\u001b[K\n",
            "\u001b[01m\u001b[K./src/softmax_layer.c:\u001b[m\u001b[K In function ‘\u001b[01m\u001b[Kforward_contrastive_layer\u001b[m\u001b[K’:\n",
            "\u001b[01m\u001b[K./src/softmax_layer.c:244:27:\u001b[m\u001b[K \u001b[01;35m\u001b[Kwarning: \u001b[m\u001b[Kvariable ‘\u001b[01m\u001b[Kmax_truth\u001b[m\u001b[K’ set but not used [\u001b[01;35m\u001b[K\u001b]8;;https://gcc.gnu.org/onlinedocs/gcc/Warning-Options.html#index-Wunused-but-set-variable\u0007-Wunused-but-set-variable\u001b]8;;\u0007\u001b[m\u001b[K]\n",
            "  244 |                     float \u001b[01;35m\u001b[Kmax_truth\u001b[m\u001b[K = 0;\n",
            "      |                           \u001b[01;35m\u001b[K^~~~~~~~~\u001b[m\u001b[K\n",
            "gcc -Iinclude/ -I3rdparty/stb/include -Wall -Wfatal-errors -Wno-unused-result -Wno-unknown-pragmas -fPIC -rdynamic -Ofast -c ./src/data.c -o obj/data.o\n",
            "\u001b[01m\u001b[K./src/data.c:\u001b[m\u001b[K In function ‘\u001b[01m\u001b[Kload_data_detection\u001b[m\u001b[K’:\n",
            "\u001b[01m\u001b[K./src/data.c:1409:43:\u001b[m\u001b[K \u001b[01;35m\u001b[Kwarning: \u001b[m\u001b[Kvariable ‘\u001b[01m\u001b[Kr_scale\u001b[m\u001b[K’ set but not used [\u001b[01;35m\u001b[K\u001b]8;;https://gcc.gnu.org/onlinedocs/gcc/Warning-Options.html#index-Wunused-but-set-variable\u0007-Wunused-but-set-variable\u001b]8;;\u0007\u001b[m\u001b[K]\n",
            " 1409 |     float r1 = 0, r2 = 0, r3 = 0, r4 = 0, \u001b[01;35m\u001b[Kr_scale\u001b[m\u001b[K;\n",
            "      |                                           \u001b[01;35m\u001b[K^~~~~~~\u001b[m\u001b[K\n",
            "\u001b[01m\u001b[K./src/data.c:\u001b[m\u001b[K In function ‘\u001b[01m\u001b[Kfill_truth_detection\u001b[m\u001b[K’:\n",
            "\u001b[01m\u001b[K./src/data.c:440:33:\u001b[m\u001b[K \u001b[01;35m\u001b[Kwarning: \u001b[m\u001b[K‘\u001b[01m\u001b[K%s\u001b[m\u001b[K’ directive writing up to 4095 bytes into a region of size 251 [\u001b[01;35m\u001b[K\u001b]8;;https://gcc.gnu.org/onlinedocs/gcc/Warning-Options.html#index-Wformat-overflow=\u0007-Wformat-overflow=\u001b]8;;\u0007\u001b[m\u001b[K]\n",
            "  440 |             sprintf(buff, \"echo \u001b[01;35m\u001b[K%s\u001b[m\u001b[K \\\"Wrong annotation: w = %f\\\" >> bad_label.list\", \u001b[32m\u001b[Klabelpath\u001b[m\u001b[K, w);\n",
            "      |                                 \u001b[01;35m\u001b[K^~\u001b[m\u001b[K                                                  \u001b[32m\u001b[K~~~~~~~~~\u001b[m\u001b[K\n",
            "\u001b[01m\u001b[K./src/data.c:440:27:\u001b[m\u001b[K \u001b[01;36m\u001b[Knote: \u001b[m\u001b[Kassuming directive output of 8 bytes\n",
            "  440 |             sprintf(buff, \u001b[01;36m\u001b[K\"echo %s \\\"Wrong annotation: w = %f\\\" >> bad_label.list\"\u001b[m\u001b[K, labelpath, w);\n",
            "      |                           \u001b[01;36m\u001b[K^~~~~~~~~~~~~~~~~~~~~~~~~~~~~~~~~~~~~~~~~~~~~~~~~~~~~~~~\u001b[m\u001b[K\n",
            "In file included from \u001b[01m\u001b[K/usr/include/stdio.h:894\u001b[m\u001b[K,\n",
            "                 from \u001b[01m\u001b[Kinclude/darknet.h:13\u001b[m\u001b[K,\n",
            "                 from \u001b[01m\u001b[K./src/data.h:5\u001b[m\u001b[K,\n",
            "                 from \u001b[01m\u001b[K./src/data.c:1\u001b[m\u001b[K:\n",
            "\u001b[01m\u001b[K/usr/include/x86_64-linux-gnu/bits/stdio2.h:38:10:\u001b[m\u001b[K \u001b[01;36m\u001b[Knote: \u001b[m\u001b[K‘\u001b[01m\u001b[K__builtin___sprintf_chk\u001b[m\u001b[K’ output between 52 and 4461 bytes into a destination of size 256\n",
            "   38 |   return \u001b[01;36m\u001b[K__builtin___sprintf_chk (__s, __USE_FORTIFY_LEVEL - 1,\u001b[m\u001b[K\n",
            "      |          \u001b[01;36m\u001b[K^~~~~~~~~~~~~~~~~~~~~~~~~~~~~~~~~~~~~~~~~~~~~~~~~~~~~~\u001b[m\u001b[K\n",
            "   39 | \u001b[01;36m\u001b[K                                  __glibc_objsize (__s), __fmt,\u001b[m\u001b[K\n",
            "      |                                   \u001b[01;36m\u001b[K~~~~~~~~~~~~~~~~~~~~~~~~~~~~~\u001b[m\u001b[K\n",
            "   40 | \u001b[01;36m\u001b[K                                  __va_arg_pack ())\u001b[m\u001b[K;\n",
            "      |                                   \u001b[01;36m\u001b[K~~~~~~~~~~~~~~~~~\u001b[m\u001b[K\n",
            "\u001b[01m\u001b[K./src/data.c:447:33:\u001b[m\u001b[K \u001b[01;35m\u001b[Kwarning: \u001b[m\u001b[K‘\u001b[01m\u001b[K%s\u001b[m\u001b[K’ directive writing up to 4095 bytes into a region of size 251 [\u001b[01;35m\u001b[K\u001b]8;;https://gcc.gnu.org/onlinedocs/gcc/Warning-Options.html#index-Wformat-overflow=\u0007-Wformat-overflow=\u001b]8;;\u0007\u001b[m\u001b[K]\n",
            "  447 |             sprintf(buff, \"echo \u001b[01;35m\u001b[K%s\u001b[m\u001b[K \\\"Wrong annotation: h = %f\\\" >> bad_label.list\", \u001b[32m\u001b[Klabelpath\u001b[m\u001b[K, h);\n",
            "      |                                 \u001b[01;35m\u001b[K^~\u001b[m\u001b[K                                                  \u001b[32m\u001b[K~~~~~~~~~\u001b[m\u001b[K\n",
            "\u001b[01m\u001b[K./src/data.c:447:27:\u001b[m\u001b[K \u001b[01;36m\u001b[Knote: \u001b[m\u001b[Kassuming directive output of 8 bytes\n",
            "  447 |             sprintf(buff, \u001b[01;36m\u001b[K\"echo %s \\\"Wrong annotation: h = %f\\\" >> bad_label.list\"\u001b[m\u001b[K, labelpath, h);\n",
            "      |                           \u001b[01;36m\u001b[K^~~~~~~~~~~~~~~~~~~~~~~~~~~~~~~~~~~~~~~~~~~~~~~~~~~~~~~~\u001b[m\u001b[K\n",
            "In file included from \u001b[01m\u001b[K/usr/include/stdio.h:894\u001b[m\u001b[K,\n",
            "                 from \u001b[01m\u001b[Kinclude/darknet.h:13\u001b[m\u001b[K,\n",
            "                 from \u001b[01m\u001b[K./src/data.h:5\u001b[m\u001b[K,\n",
            "                 from \u001b[01m\u001b[K./src/data.c:1\u001b[m\u001b[K:\n",
            "\u001b[01m\u001b[K/usr/include/x86_64-linux-gnu/bits/stdio2.h:38:10:\u001b[m\u001b[K \u001b[01;36m\u001b[Knote: \u001b[m\u001b[K‘\u001b[01m\u001b[K__builtin___sprintf_chk\u001b[m\u001b[K’ output between 52 and 4461 bytes into a destination of size 256\n",
            "   38 |   return \u001b[01;36m\u001b[K__builtin___sprintf_chk (__s, __USE_FORTIFY_LEVEL - 1,\u001b[m\u001b[K\n",
            "      |          \u001b[01;36m\u001b[K^~~~~~~~~~~~~~~~~~~~~~~~~~~~~~~~~~~~~~~~~~~~~~~~~~~~~~\u001b[m\u001b[K\n",
            "   39 | \u001b[01;36m\u001b[K                                  __glibc_objsize (__s), __fmt,\u001b[m\u001b[K\n",
            "      |                                   \u001b[01;36m\u001b[K~~~~~~~~~~~~~~~~~~~~~~~~~~~~~\u001b[m\u001b[K\n",
            "   40 | \u001b[01;36m\u001b[K                                  __va_arg_pack ())\u001b[m\u001b[K;\n",
            "      |                                   \u001b[01;36m\u001b[K~~~~~~~~~~~~~~~~~\u001b[m\u001b[K\n",
            "\u001b[01m\u001b[K./src/data.c:432:33:\u001b[m\u001b[K \u001b[01;35m\u001b[Kwarning: \u001b[m\u001b[K‘\u001b[01m\u001b[K%s\u001b[m\u001b[K’ directive writing up to 4095 bytes into a region of size 251 [\u001b[01;35m\u001b[K\u001b]8;;https://gcc.gnu.org/onlinedocs/gcc/Warning-Options.html#index-Wformat-overflow=\u0007-Wformat-overflow=\u001b]8;;\u0007\u001b[m\u001b[K]\n",
            "  432 |             sprintf(buff, \"echo \u001b[01;35m\u001b[K%s\u001b[m\u001b[K \\\"Wrong annotation: x = %f, y = %f\\\" >> bad_label.list\", \u001b[32m\u001b[Klabelpath\u001b[m\u001b[K, x, y);\n",
            "      |                                 \u001b[01;35m\u001b[K^~\u001b[m\u001b[K                                                          \u001b[32m\u001b[K~~~~~~~~~\u001b[m\u001b[K\n",
            "\u001b[01m\u001b[K./src/data.c:432:27:\u001b[m\u001b[K \u001b[01;36m\u001b[Knote: \u001b[m\u001b[Kassuming directive output of 8 bytes\n",
            "  432 |             sprintf(buff, \u001b[01;36m\u001b[K\"echo %s \\\"Wrong annotation: x = %f, y = %f\\\" >> bad_label.list\"\u001b[m\u001b[K, labelpath, x, y);\n",
            "      |                           \u001b[01;36m\u001b[K^~~~~~~~~~~~~~~~~~~~~~~~~~~~~~~~~~~~~~~~~~~~~~~~~~~~~~~~~~~~~~~~\u001b[m\u001b[K\n",
            "\u001b[01m\u001b[K./src/data.c:432:27:\u001b[m\u001b[K \u001b[01;36m\u001b[Knote: \u001b[m\u001b[Kassuming directive output of 8 bytes\n",
            "In file included from \u001b[01m\u001b[K/usr/include/stdio.h:894\u001b[m\u001b[K,\n",
            "                 from \u001b[01m\u001b[Kinclude/darknet.h:13\u001b[m\u001b[K,\n",
            "                 from \u001b[01m\u001b[K./src/data.h:5\u001b[m\u001b[K,\n",
            "                 from \u001b[01m\u001b[K./src/data.c:1\u001b[m\u001b[K:\n",
            "\u001b[01m\u001b[K/usr/include/x86_64-linux-gnu/bits/stdio2.h:38:10:\u001b[m\u001b[K \u001b[01;36m\u001b[Knote: \u001b[m\u001b[K‘\u001b[01m\u001b[K__builtin___sprintf_chk\u001b[m\u001b[K’ output between 61 and 4784 bytes into a destination of size 256\n",
            "   38 |   return \u001b[01;36m\u001b[K__builtin___sprintf_chk (__s, __USE_FORTIFY_LEVEL - 1,\u001b[m\u001b[K\n",
            "      |          \u001b[01;36m\u001b[K^~~~~~~~~~~~~~~~~~~~~~~~~~~~~~~~~~~~~~~~~~~~~~~~~~~~~~\u001b[m\u001b[K\n",
            "   39 | \u001b[01;36m\u001b[K                                  __glibc_objsize (__s), __fmt,\u001b[m\u001b[K\n",
            "      |                                   \u001b[01;36m\u001b[K~~~~~~~~~~~~~~~~~~~~~~~~~~~~~\u001b[m\u001b[K\n",
            "   40 | \u001b[01;36m\u001b[K                                  __va_arg_pack ())\u001b[m\u001b[K;\n",
            "      |                                   \u001b[01;36m\u001b[K~~~~~~~~~~~~~~~~~\u001b[m\u001b[K\n",
            "\u001b[01m\u001b[K./src/data.c:424:33:\u001b[m\u001b[K \u001b[01;35m\u001b[Kwarning: \u001b[m\u001b[K‘\u001b[01m\u001b[K%s\u001b[m\u001b[K’ directive writing up to 4095 bytes into a region of size 251 [\u001b[01;35m\u001b[K\u001b]8;;https://gcc.gnu.org/onlinedocs/gcc/Warning-Options.html#index-Wformat-overflow=\u0007-Wformat-overflow=\u001b]8;;\u0007\u001b[m\u001b[K]\n",
            "  424 |             sprintf(buff, \"echo \u001b[01;35m\u001b[K%s\u001b[m\u001b[K \\\"Wrong annotation: x = 0 or y = 0\\\" >> bad_label.list\", \u001b[32m\u001b[Klabelpath\u001b[m\u001b[K);\n",
            "      |                                 \u001b[01;35m\u001b[K^~\u001b[m\u001b[K                                                          \u001b[32m\u001b[K~~~~~~~~~\u001b[m\u001b[K\n",
            "In file included from \u001b[01m\u001b[K/usr/include/stdio.h:894\u001b[m\u001b[K,\n",
            "                 from \u001b[01m\u001b[Kinclude/darknet.h:13\u001b[m\u001b[K,\n",
            "                 from \u001b[01m\u001b[K./src/data.h:5\u001b[m\u001b[K,\n",
            "                 from \u001b[01m\u001b[K./src/data.c:1\u001b[m\u001b[K:\n",
            "\u001b[01m\u001b[K/usr/include/x86_64-linux-gnu/bits/stdio2.h:38:10:\u001b[m\u001b[K \u001b[01;36m\u001b[Knote: \u001b[m\u001b[K‘\u001b[01m\u001b[K__builtin___sprintf_chk\u001b[m\u001b[K’ output between 59 and 4154 bytes into a destination of size 256\n",
            "   38 |   return \u001b[01;36m\u001b[K__builtin___sprintf_chk (__s, __USE_FORTIFY_LEVEL - 1,\u001b[m\u001b[K\n",
            "      |          \u001b[01;36m\u001b[K^~~~~~~~~~~~~~~~~~~~~~~~~~~~~~~~~~~~~~~~~~~~~~~~~~~~~~\u001b[m\u001b[K\n",
            "   39 | \u001b[01;36m\u001b[K                                  __glibc_objsize (__s), __fmt,\u001b[m\u001b[K\n",
            "      |                                   \u001b[01;36m\u001b[K~~~~~~~~~~~~~~~~~~~~~~~~~~~~~\u001b[m\u001b[K\n",
            "   40 | \u001b[01;36m\u001b[K                                  __va_arg_pack ())\u001b[m\u001b[K;\n",
            "      |                                   \u001b[01;36m\u001b[K~~~~~~~~~~~~~~~~~\u001b[m\u001b[K\n",
            "\u001b[01m\u001b[K./src/data.c:410:33:\u001b[m\u001b[K \u001b[01;35m\u001b[Kwarning: \u001b[m\u001b[K‘\u001b[01m\u001b[K%s\u001b[m\u001b[K’ directive writing up to 4095 bytes into a region of size 251 [\u001b[01;35m\u001b[K\u001b]8;;https://gcc.gnu.org/onlinedocs/gcc/Warning-Options.html#index-Wformat-overflow=\u0007-Wformat-overflow=\u001b]8;;\u0007\u001b[m\u001b[K]\n",
            "  410 |             sprintf(buff, \"echo \u001b[01;35m\u001b[K%s\u001b[m\u001b[K \\\"Wrong annotation: class_id = %d. But class_id should be [from 0 to %d]\\\" >> bad_label.list\", \u001b[32m\u001b[Klabelpath\u001b[m\u001b[K, id, (classes-1));\n",
            "      |                                 \u001b[01;35m\u001b[K^~\u001b[m\u001b[K                                                                                                \u001b[32m\u001b[K~~~~~~~~~\u001b[m\u001b[K\n",
            "In file included from \u001b[01m\u001b[K/usr/include/stdio.h:894\u001b[m\u001b[K,\n",
            "                 from \u001b[01m\u001b[Kinclude/darknet.h:13\u001b[m\u001b[K,\n",
            "                 from \u001b[01m\u001b[K./src/data.h:5\u001b[m\u001b[K,\n",
            "                 from \u001b[01m\u001b[K./src/data.c:1\u001b[m\u001b[K:\n",
            "\u001b[01m\u001b[K/usr/include/x86_64-linux-gnu/bits/stdio2.h:38:10:\u001b[m\u001b[K \u001b[01;36m\u001b[Knote: \u001b[m\u001b[K‘\u001b[01m\u001b[K__builtin___sprintf_chk\u001b[m\u001b[K’ output between 95 and 4210 bytes into a destination of size 256\n",
            "   38 |   return \u001b[01;36m\u001b[K__builtin___sprintf_chk (__s, __USE_FORTIFY_LEVEL - 1,\u001b[m\u001b[K\n",
            "      |          \u001b[01;36m\u001b[K^~~~~~~~~~~~~~~~~~~~~~~~~~~~~~~~~~~~~~~~~~~~~~~~~~~~~~\u001b[m\u001b[K\n",
            "   39 | \u001b[01;36m\u001b[K                                  __glibc_objsize (__s), __fmt,\u001b[m\u001b[K\n",
            "      |                                   \u001b[01;36m\u001b[K~~~~~~~~~~~~~~~~~~~~~~~~~~~~~\u001b[m\u001b[K\n",
            "   40 | \u001b[01;36m\u001b[K                                  __va_arg_pack ())\u001b[m\u001b[K;\n",
            "      |                                   \u001b[01;36m\u001b[K~~~~~~~~~~~~~~~~~\u001b[m\u001b[K\n",
            "gcc -Iinclude/ -I3rdparty/stb/include -Wall -Wfatal-errors -Wno-unused-result -Wno-unknown-pragmas -fPIC -rdynamic -Ofast -c ./src/matrix.c -o obj/matrix.o\n",
            "gcc -Iinclude/ -I3rdparty/stb/include -Wall -Wfatal-errors -Wno-unused-result -Wno-unknown-pragmas -fPIC -rdynamic -Ofast -c ./src/network.c -o obj/network.o\n",
            "\u001b[01m\u001b[K./src/network.c:\u001b[m\u001b[K In function ‘\u001b[01m\u001b[Ktrain_network_waitkey\u001b[m\u001b[K’:\n",
            "\u001b[01m\u001b[K./src/network.c:435:13:\u001b[m\u001b[K \u001b[01;35m\u001b[Kwarning: \u001b[m\u001b[Kunused variable ‘\u001b[01m\u001b[Kema_period\u001b[m\u001b[K’ [\u001b[01;35m\u001b[K\u001b]8;;https://gcc.gnu.org/onlinedocs/gcc/Warning-Options.html#index-Wunused-variable\u0007-Wunused-variable\u001b]8;;\u0007\u001b[m\u001b[K]\n",
            "  435 |         int \u001b[01;35m\u001b[Kema_period\u001b[m\u001b[K = (net.max_batches - ema_start_point - 1000) * (1.0 - net.ema_alpha);\n",
            "      |             \u001b[01;35m\u001b[K^~~~~~~~~~\u001b[m\u001b[K\n",
            "At top level:\n",
            "\u001b[01m\u001b[K./src/network.c:1269:14:\u001b[m\u001b[K \u001b[01;35m\u001b[Kwarning: \u001b[m\u001b[K‘\u001b[01m\u001b[Krelu\u001b[m\u001b[K’ defined but not used [\u001b[01;35m\u001b[K\u001b]8;;https://gcc.gnu.org/onlinedocs/gcc/Warning-Options.html#index-Wunused-function\u0007-Wunused-function\u001b]8;;\u0007\u001b[m\u001b[K]\n",
            " 1269 | static float \u001b[01;35m\u001b[Krelu\u001b[m\u001b[K(float src) {\n",
            "      |              \u001b[01;35m\u001b[K^~~~\u001b[m\u001b[K\n",
            "gcc -Iinclude/ -I3rdparty/stb/include -Wall -Wfatal-errors -Wno-unused-result -Wno-unknown-pragmas -fPIC -rdynamic -Ofast -c ./src/connected_layer.c -o obj/connected_layer.o\n",
            "gcc -Iinclude/ -I3rdparty/stb/include -Wall -Wfatal-errors -Wno-unused-result -Wno-unknown-pragmas -fPIC -rdynamic -Ofast -c ./src/cost_layer.c -o obj/cost_layer.o\n",
            "gcc -Iinclude/ -I3rdparty/stb/include -Wall -Wfatal-errors -Wno-unused-result -Wno-unknown-pragmas -fPIC -rdynamic -Ofast -c ./src/parser.c -o obj/parser.o\n",
            "\u001b[01m\u001b[K./src/parser.c:\u001b[m\u001b[K In function ‘\u001b[01m\u001b[Ksave_implicit_weights\u001b[m\u001b[K’:\n",
            "\u001b[01m\u001b[K./src/parser.c:1909:9:\u001b[m\u001b[K \u001b[01;35m\u001b[Kwarning: \u001b[m\u001b[Kunused variable ‘\u001b[01m\u001b[Ki\u001b[m\u001b[K’ [\u001b[01;35m\u001b[K\u001b]8;;https://gcc.gnu.org/onlinedocs/gcc/Warning-Options.html#index-Wunused-variable\u0007-Wunused-variable\u001b]8;;\u0007\u001b[m\u001b[K]\n",
            " 1909 |     int \u001b[01;35m\u001b[Ki\u001b[m\u001b[K;\n",
            "      |         \u001b[01;35m\u001b[K^\u001b[m\u001b[K\n",
            "\u001b[01m\u001b[K./src/parser.c:\u001b[m\u001b[K In function ‘\u001b[01m\u001b[Kget_classes_multipliers\u001b[m\u001b[K’:\n",
            "\u001b[01m\u001b[K./src/parser.c:438:40:\u001b[m\u001b[K \u001b[01;35m\u001b[Kwarning: \u001b[m\u001b[Kargument 1 range [18446744071562067968, 18446744073709551615] exceeds maximum object size 9223372036854775807 [\u001b[01;35m\u001b[K\u001b]8;;https://gcc.gnu.org/onlinedocs/gcc/Warning-Options.html#index-Walloc-size-larger-than=\u0007-Walloc-size-larger-than=\u001b]8;;\u0007\u001b[m\u001b[K]\n",
            "  438 |         classes_multipliers = (float *)\u001b[01;35m\u001b[Kcalloc(classes_counters, sizeof(float))\u001b[m\u001b[K;\n",
            "      |                                        \u001b[01;35m\u001b[K^~~~~~~~~~~~~~~~~~~~~~~~~~~~~~~~~~~~~~~\u001b[m\u001b[K\n",
            "In file included from \u001b[01m\u001b[K./src/parser.c:3\u001b[m\u001b[K:\n",
            "\u001b[01m\u001b[K/usr/include/stdlib.h:543:14:\u001b[m\u001b[K \u001b[01;36m\u001b[Knote: \u001b[m\u001b[Kin a call to allocation function ‘\u001b[01m\u001b[Kcalloc\u001b[m\u001b[K’ declared here\n",
            "  543 | extern void *\u001b[01;36m\u001b[Kcalloc\u001b[m\u001b[K (size_t __nmemb, size_t __size)\n",
            "      |              \u001b[01;36m\u001b[K^~~~~~\u001b[m\u001b[K\n",
            "gcc -Iinclude/ -I3rdparty/stb/include -Wall -Wfatal-errors -Wno-unused-result -Wno-unknown-pragmas -fPIC -rdynamic -Ofast -c ./src/option_list.c -o obj/option_list.o\n",
            "gcc -Iinclude/ -I3rdparty/stb/include -Wall -Wfatal-errors -Wno-unused-result -Wno-unknown-pragmas -fPIC -rdynamic -Ofast -c ./src/darknet.c -o obj/darknet.o\n",
            "gcc -Iinclude/ -I3rdparty/stb/include -Wall -Wfatal-errors -Wno-unused-result -Wno-unknown-pragmas -fPIC -rdynamic -Ofast -c ./src/detection_layer.c -o obj/detection_layer.o\n",
            "gcc -Iinclude/ -I3rdparty/stb/include -Wall -Wfatal-errors -Wno-unused-result -Wno-unknown-pragmas -fPIC -rdynamic -Ofast -c ./src/captcha.c -o obj/captcha.o\n",
            "gcc -Iinclude/ -I3rdparty/stb/include -Wall -Wfatal-errors -Wno-unused-result -Wno-unknown-pragmas -fPIC -rdynamic -Ofast -c ./src/route_layer.c -o obj/route_layer.o\n",
            "gcc -Iinclude/ -I3rdparty/stb/include -Wall -Wfatal-errors -Wno-unused-result -Wno-unknown-pragmas -fPIC -rdynamic -Ofast -c ./src/writing.c -o obj/writing.o\n",
            "gcc -Iinclude/ -I3rdparty/stb/include -Wall -Wfatal-errors -Wno-unused-result -Wno-unknown-pragmas -fPIC -rdynamic -Ofast -c ./src/box.c -o obj/box.o\n",
            "\u001b[01m\u001b[K./src/box.c:\u001b[m\u001b[K In function ‘\u001b[01m\u001b[Kbox_iou_kind\u001b[m\u001b[K’:\n",
            "\u001b[01m\u001b[K./src/box.c:154:5:\u001b[m\u001b[K \u001b[01;35m\u001b[Kwarning: \u001b[m\u001b[Kenumeration value ‘\u001b[01m\u001b[KMSE\u001b[m\u001b[K’ not handled in switch [\u001b[01;35m\u001b[K\u001b]8;;https://gcc.gnu.org/onlinedocs/gcc/Warning-Options.html#index-Wswitch\u0007-Wswitch\u001b]8;;\u0007\u001b[m\u001b[K]\n",
            "  154 |     \u001b[01;35m\u001b[Kswitch\u001b[m\u001b[K(iou_kind) {\n",
            "      |     \u001b[01;35m\u001b[K^~~~~~\u001b[m\u001b[K\n",
            "\u001b[01m\u001b[K./src/box.c:\u001b[m\u001b[K In function ‘\u001b[01m\u001b[Kdiounms_sort\u001b[m\u001b[K’:\n",
            "\u001b[01m\u001b[K./src/box.c:898:27:\u001b[m\u001b[K \u001b[01;35m\u001b[Kwarning: \u001b[m\u001b[Kunused variable ‘\u001b[01m\u001b[Kbeta_prob\u001b[m\u001b[K’ [\u001b[01;35m\u001b[K\u001b]8;;https://gcc.gnu.org/onlinedocs/gcc/Warning-Options.html#index-Wunused-variable\u0007-Wunused-variable\u001b]8;;\u0007\u001b[m\u001b[K]\n",
            "  898 |                     float \u001b[01;35m\u001b[Kbeta_prob\u001b[m\u001b[K = pow(dets[j].prob[k], 2) / sum_prob;\n",
            "      |                           \u001b[01;35m\u001b[K^~~~~~~~~\u001b[m\u001b[K\n",
            "\u001b[01m\u001b[K./src/box.c:897:27:\u001b[m\u001b[K \u001b[01;35m\u001b[Kwarning: \u001b[m\u001b[Kunused variable ‘\u001b[01m\u001b[Kalpha_prob\u001b[m\u001b[K’ [\u001b[01;35m\u001b[K\u001b]8;;https://gcc.gnu.org/onlinedocs/gcc/Warning-Options.html#index-Wunused-variable\u0007-Wunused-variable\u001b]8;;\u0007\u001b[m\u001b[K]\n",
            "  897 |                     float \u001b[01;35m\u001b[Kalpha_prob\u001b[m\u001b[K = pow(dets[i].prob[k], 2) / sum_prob;\n",
            "      |                           \u001b[01;35m\u001b[K^~~~~~~~~~\u001b[m\u001b[K\n",
            "gcc -Iinclude/ -I3rdparty/stb/include -Wall -Wfatal-errors -Wno-unused-result -Wno-unknown-pragmas -fPIC -rdynamic -Ofast -c ./src/nightmare.c -o obj/nightmare.o\n",
            "gcc -Iinclude/ -I3rdparty/stb/include -Wall -Wfatal-errors -Wno-unused-result -Wno-unknown-pragmas -fPIC -rdynamic -Ofast -c ./src/normalization_layer.c -o obj/normalization_layer.o\n",
            "gcc -Iinclude/ -I3rdparty/stb/include -Wall -Wfatal-errors -Wno-unused-result -Wno-unknown-pragmas -fPIC -rdynamic -Ofast -c ./src/avgpool_layer.c -o obj/avgpool_layer.o\n",
            "gcc -Iinclude/ -I3rdparty/stb/include -Wall -Wfatal-errors -Wno-unused-result -Wno-unknown-pragmas -fPIC -rdynamic -Ofast -c ./src/coco.c -o obj/coco.o\n",
            "\u001b[01m\u001b[K./src/coco.c:\u001b[m\u001b[K In function ‘\u001b[01m\u001b[Kvalidate_coco_recall\u001b[m\u001b[K’:\n",
            "\u001b[01m\u001b[K./src/coco.c:248:11:\u001b[m\u001b[K \u001b[01;35m\u001b[Kwarning: \u001b[m\u001b[Kunused variable ‘\u001b[01m\u001b[Kbase\u001b[m\u001b[K’ [\u001b[01;35m\u001b[K\u001b]8;;https://gcc.gnu.org/onlinedocs/gcc/Warning-Options.html#index-Wunused-variable\u0007-Wunused-variable\u001b]8;;\u0007\u001b[m\u001b[K]\n",
            "  248 |     char *\u001b[01;35m\u001b[Kbase\u001b[m\u001b[K = \"results/comp4_det_test_\";\n",
            "      |           \u001b[01;35m\u001b[K^~~~\u001b[m\u001b[K\n",
            "gcc -Iinclude/ -I3rdparty/stb/include -Wall -Wfatal-errors -Wno-unused-result -Wno-unknown-pragmas -fPIC -rdynamic -Ofast -c ./src/dice.c -o obj/dice.o\n",
            "gcc -Iinclude/ -I3rdparty/stb/include -Wall -Wfatal-errors -Wno-unused-result -Wno-unknown-pragmas -fPIC -rdynamic -Ofast -c ./src/yolo.c -o obj/yolo.o\n",
            "gcc -Iinclude/ -I3rdparty/stb/include -Wall -Wfatal-errors -Wno-unused-result -Wno-unknown-pragmas -fPIC -rdynamic -Ofast -c ./src/detector.c -o obj/detector.o\n",
            "\u001b[01m\u001b[K./src/detector.c:\u001b[m\u001b[K In function ‘\u001b[01m\u001b[Ktrain_detector\u001b[m\u001b[K’:\n",
            "\u001b[01m\u001b[K./src/detector.c:395:72:\u001b[m\u001b[K \u001b[01;35m\u001b[Kwarning: \u001b[m\u001b[Ksuggest parentheses around ‘\u001b[01m\u001b[K&&\u001b[m\u001b[K’ within ‘\u001b[01m\u001b[K||\u001b[m\u001b[K’ [\u001b[01;35m\u001b[K\u001b]8;;https://gcc.gnu.org/onlinedocs/gcc/Warning-Options.html#index-Wparentheses\u0007-Wparentheses\u001b]8;;\u0007\u001b[m\u001b[K]\n",
            "  395 |             \u001b[01;35m\u001b[K(iteration >= (iter_save + 1000) || iteration % 1000 == 0) && net.max_batches < 10000\u001b[m\u001b[K)\n",
            "      |             \u001b[01;35m\u001b[K~~~~~~~~~~~~~~~~~~~~~~~~~~~~~~~~~~~~~~~~~~~~~~~~~~~~~~~~~~~^~~~~~~~~~~~~~~~~~~~~~~~~~\u001b[m\u001b[K\n",
            "\u001b[01m\u001b[K./src/detector.c:328:13:\u001b[m\u001b[K \u001b[01;35m\u001b[Kwarning: \u001b[m\u001b[Kvariable ‘\u001b[01m\u001b[Kdraw_precision\u001b[m\u001b[K’ set but not used [\u001b[01;35m\u001b[K\u001b]8;;https://gcc.gnu.org/onlinedocs/gcc/Warning-Options.html#index-Wunused-but-set-variable\u0007-Wunused-but-set-variable\u001b]8;;\u0007\u001b[m\u001b[K]\n",
            "  328 |         int \u001b[01;35m\u001b[Kdraw_precision\u001b[m\u001b[K = 0;\n",
            "      |             \u001b[01;35m\u001b[K^~~~~~~~~~~~~~\u001b[m\u001b[K\n",
            "\u001b[01m\u001b[K./src/detector.c:67:11:\u001b[m\u001b[K \u001b[01;35m\u001b[Kwarning: \u001b[m\u001b[Kunused variable ‘\u001b[01m\u001b[Kavg_contrastive_acc\u001b[m\u001b[K’ [\u001b[01;35m\u001b[K\u001b]8;;https://gcc.gnu.org/onlinedocs/gcc/Warning-Options.html#index-Wunused-variable\u0007-Wunused-variable\u001b]8;;\u0007\u001b[m\u001b[K]\n",
            "   67 |     float \u001b[01;35m\u001b[Kavg_contrastive_acc\u001b[m\u001b[K = 0;\n",
            "      |           \u001b[01;35m\u001b[K^~~~~~~~~~~~~~~~~~~\u001b[m\u001b[K\n",
            "\u001b[01m\u001b[K./src/detector.c:\u001b[m\u001b[K In function ‘\u001b[01m\u001b[Keliminate_bdd\u001b[m\u001b[K’:\n",
            "\u001b[01m\u001b[K./src/detector.c:588:21:\u001b[m\u001b[K \u001b[01;35m\u001b[Kwarning: \u001b[m\u001b[Kstatement with no effect [\u001b[01;35m\u001b[K\u001b]8;;https://gcc.gnu.org/onlinedocs/gcc/Warning-Options.html#index-Wunused-value\u0007-Wunused-value\u001b]8;;\u0007\u001b[m\u001b[K]\n",
            "  588 |                     \u001b[01;35m\u001b[Kfor\u001b[m\u001b[K (k; buf[k + n] != '\\0'; k++)\n",
            "      |                     \u001b[01;35m\u001b[K^~~\u001b[m\u001b[K\n",
            "\u001b[01m\u001b[K./src/detector.c:\u001b[m\u001b[K In function ‘\u001b[01m\u001b[Kvalidate_detector\u001b[m\u001b[K’:\n",
            "\u001b[01m\u001b[K./src/detector.c:709:13:\u001b[m\u001b[K \u001b[01;35m\u001b[Kwarning: \u001b[m\u001b[Kunused variable ‘\u001b[01m\u001b[Kmkd2\u001b[m\u001b[K’ [\u001b[01;35m\u001b[K\u001b]8;;https://gcc.gnu.org/onlinedocs/gcc/Warning-Options.html#index-Wunused-variable\u0007-Wunused-variable\u001b]8;;\u0007\u001b[m\u001b[K]\n",
            "  709 |         int \u001b[01;35m\u001b[Kmkd2\u001b[m\u001b[K = make_directory(buff2, 0777);\n",
            "      |             \u001b[01;35m\u001b[K^~~~\u001b[m\u001b[K\n",
            "\u001b[01m\u001b[K./src/detector.c:707:13:\u001b[m\u001b[K \u001b[01;35m\u001b[Kwarning: \u001b[m\u001b[Kunused variable ‘\u001b[01m\u001b[Kmkd\u001b[m\u001b[K’ [\u001b[01;35m\u001b[K\u001b]8;;https://gcc.gnu.org/onlinedocs/gcc/Warning-Options.html#index-Wunused-variable\u0007-Wunused-variable\u001b]8;;\u0007\u001b[m\u001b[K]\n",
            "  707 |         int \u001b[01;35m\u001b[Kmkd\u001b[m\u001b[K = make_directory(buff, 0777);\n",
            "      |             \u001b[01;35m\u001b[K^~~\u001b[m\u001b[K\n",
            "\u001b[01m\u001b[K./src/detector.c:\u001b[m\u001b[K In function ‘\u001b[01m\u001b[Kvalidate_detector_map\u001b[m\u001b[K’:\n",
            "\u001b[01m\u001b[K./src/detector.c:1326:24:\u001b[m\u001b[K \u001b[01;35m\u001b[Kwarning: \u001b[m\u001b[Kvariable ‘\u001b[01m\u001b[Kcur_prob\u001b[m\u001b[K’ set but not used [\u001b[01;35m\u001b[K\u001b]8;;https://gcc.gnu.org/onlinedocs/gcc/Warning-Options.html#index-Wunused-but-set-variable\u0007-Wunused-but-set-variable\u001b]8;;\u0007\u001b[m\u001b[K]\n",
            " 1326 |                 double \u001b[01;35m\u001b[Kcur_prob\u001b[m\u001b[K = 0;\n",
            "      |                        \u001b[01;35m\u001b[K^~~~~~~~\u001b[m\u001b[K\n",
            "\u001b[01m\u001b[K./src/detector.c:1347:15:\u001b[m\u001b[K \u001b[01;35m\u001b[Kwarning: \u001b[m\u001b[Kunused variable ‘\u001b[01m\u001b[Kclass_recall\u001b[m\u001b[K’ [\u001b[01;35m\u001b[K\u001b]8;;https://gcc.gnu.org/onlinedocs/gcc/Warning-Options.html#index-Wunused-variable\u0007-Wunused-variable\u001b]8;;\u0007\u001b[m\u001b[K]\n",
            " 1347 |         float \u001b[01;35m\u001b[Kclass_recall\u001b[m\u001b[K = (float)tp_for_thresh_per_class[i] / ((float)tp_for_thresh_per_class[i] + (float)(truth_classes_count[i] - tp_for_thresh_per_class[i]));\n",
            "      |               \u001b[01;35m\u001b[K^~~~~~~~~~~~\u001b[m\u001b[K\n",
            "\u001b[01m\u001b[K./src/detector.c:1346:15:\u001b[m\u001b[K \u001b[01;35m\u001b[Kwarning: \u001b[m\u001b[Kunused variable ‘\u001b[01m\u001b[Kclass_precision\u001b[m\u001b[K’ [\u001b[01;35m\u001b[K\u001b]8;;https://gcc.gnu.org/onlinedocs/gcc/Warning-Options.html#index-Wunused-variable\u0007-Wunused-variable\u001b]8;;\u0007\u001b[m\u001b[K]\n",
            " 1346 |         float \u001b[01;35m\u001b[Kclass_precision\u001b[m\u001b[K = (float)tp_for_thresh_per_class[i] / ((float)tp_for_thresh_per_class[i] + (float)fp_for_thresh_per_class[i]);\n",
            "      |               \u001b[01;35m\u001b[K^~~~~~~~~~~~~~~\u001b[m\u001b[K\n",
            "At top level:\n",
            "\u001b[01m\u001b[K./src/detector.c:461:12:\u001b[m\u001b[K \u001b[01;35m\u001b[Kwarning: \u001b[m\u001b[K‘\u001b[01m\u001b[Kget_coco_image_id\u001b[m\u001b[K’ defined but not used [\u001b[01;35m\u001b[K\u001b]8;;https://gcc.gnu.org/onlinedocs/gcc/Warning-Options.html#index-Wunused-function\u0007-Wunused-function\u001b]8;;\u0007\u001b[m\u001b[K]\n",
            "  461 | static int \u001b[01;35m\u001b[Kget_coco_image_id\u001b[m\u001b[K(char *filename)\n",
            "      |            \u001b[01;35m\u001b[K^~~~~~~~~~~~~~~~~\u001b[m\u001b[K\n",
            "gcc -Iinclude/ -I3rdparty/stb/include -Wall -Wfatal-errors -Wno-unused-result -Wno-unknown-pragmas -fPIC -rdynamic -Ofast -c ./src/layer.c -o obj/layer.o\n",
            "gcc -Iinclude/ -I3rdparty/stb/include -Wall -Wfatal-errors -Wno-unused-result -Wno-unknown-pragmas -fPIC -rdynamic -Ofast -c ./src/compare.c -o obj/compare.o\n",
            "gcc -Iinclude/ -I3rdparty/stb/include -Wall -Wfatal-errors -Wno-unused-result -Wno-unknown-pragmas -fPIC -rdynamic -Ofast -c ./src/classifier.c -o obj/classifier.o\n",
            "\u001b[01m\u001b[K./src/classifier.c:\u001b[m\u001b[K In function ‘\u001b[01m\u001b[Ktrain_classifier\u001b[m\u001b[K’:\n",
            "\u001b[01m\u001b[K./src/classifier.c:190:13:\u001b[m\u001b[K \u001b[01;35m\u001b[Kwarning: \u001b[m\u001b[Kvariable ‘\u001b[01m\u001b[Kdraw_precision\u001b[m\u001b[K’ set but not used [\u001b[01;35m\u001b[K\u001b]8;;https://gcc.gnu.org/onlinedocs/gcc/Warning-Options.html#index-Wunused-but-set-variable\u0007-Wunused-but-set-variable\u001b]8;;\u0007\u001b[m\u001b[K]\n",
            "  190 |         int \u001b[01;35m\u001b[Kdraw_precision\u001b[m\u001b[K = 0;\n",
            "      |             \u001b[01;35m\u001b[K^~~~~~~~~~~~~~\u001b[m\u001b[K\n",
            "\u001b[01m\u001b[K./src/classifier.c:146:9:\u001b[m\u001b[K \u001b[01;35m\u001b[Kwarning: \u001b[m\u001b[Kunused variable ‘\u001b[01m\u001b[Kcount\u001b[m\u001b[K’ [\u001b[01;35m\u001b[K\u001b]8;;https://gcc.gnu.org/onlinedocs/gcc/Warning-Options.html#index-Wunused-variable\u0007-Wunused-variable\u001b]8;;\u0007\u001b[m\u001b[K]\n",
            "  146 |     int \u001b[01;35m\u001b[Kcount\u001b[m\u001b[K = 0;\n",
            "      |         \u001b[01;35m\u001b[K^~~~~\u001b[m\u001b[K\n",
            "\u001b[01m\u001b[K./src/classifier.c:35:11:\u001b[m\u001b[K \u001b[01;35m\u001b[Kwarning: \u001b[m\u001b[Kunused variable ‘\u001b[01m\u001b[Kavg_contrastive_acc\u001b[m\u001b[K’ [\u001b[01;35m\u001b[K\u001b]8;;https://gcc.gnu.org/onlinedocs/gcc/Warning-Options.html#index-Wunused-variable\u0007-Wunused-variable\u001b]8;;\u0007\u001b[m\u001b[K]\n",
            "   35 |     float \u001b[01;35m\u001b[Kavg_contrastive_acc\u001b[m\u001b[K = 0;\n",
            "      |           \u001b[01;35m\u001b[K^~~~~~~~~~~~~~~~~~~\u001b[m\u001b[K\n",
            "\u001b[01m\u001b[K./src/classifier.c:\u001b[m\u001b[K In function ‘\u001b[01m\u001b[Kpredict_classifier\u001b[m\u001b[K’:\n",
            "\u001b[01m\u001b[K./src/classifier.c:855:13:\u001b[m\u001b[K \u001b[01;35m\u001b[Kwarning: \u001b[m\u001b[Kunused variable ‘\u001b[01m\u001b[Ktime\u001b[m\u001b[K’ [\u001b[01;35m\u001b[K\u001b]8;;https://gcc.gnu.org/onlinedocs/gcc/Warning-Options.html#index-Wunused-variable\u0007-Wunused-variable\u001b]8;;\u0007\u001b[m\u001b[K]\n",
            "  855 |     clock_t \u001b[01;35m\u001b[Ktime\u001b[m\u001b[K;\n",
            "      |             \u001b[01;35m\u001b[K^~~~\u001b[m\u001b[K\n",
            "gcc -Iinclude/ -I3rdparty/stb/include -Wall -Wfatal-errors -Wno-unused-result -Wno-unknown-pragmas -fPIC -rdynamic -Ofast -c ./src/local_layer.c -o obj/local_layer.o\n",
            "gcc -Iinclude/ -I3rdparty/stb/include -Wall -Wfatal-errors -Wno-unused-result -Wno-unknown-pragmas -fPIC -rdynamic -Ofast -c ./src/swag.c -o obj/swag.o\n",
            "gcc -Iinclude/ -I3rdparty/stb/include -Wall -Wfatal-errors -Wno-unused-result -Wno-unknown-pragmas -fPIC -rdynamic -Ofast -c ./src/shortcut_layer.c -o obj/shortcut_layer.o\n",
            "\u001b[01m\u001b[K./src/shortcut_layer.c:\u001b[m\u001b[K In function ‘\u001b[01m\u001b[Kmake_shortcut_layer\u001b[m\u001b[K’:\n",
            "\u001b[01m\u001b[K./src/shortcut_layer.c:55:15:\u001b[m\u001b[K \u001b[01;35m\u001b[Kwarning: \u001b[m\u001b[Kunused variable ‘\u001b[01m\u001b[Kscale\u001b[m\u001b[K’ [\u001b[01;35m\u001b[K\u001b]8;;https://gcc.gnu.org/onlinedocs/gcc/Warning-Options.html#index-Wunused-variable\u0007-Wunused-variable\u001b]8;;\u0007\u001b[m\u001b[K]\n",
            "   55 |         float \u001b[01;35m\u001b[Kscale\u001b[m\u001b[K = sqrt(2. / l.nweights);\n",
            "      |               \u001b[01;35m\u001b[K^~~~~\u001b[m\u001b[K\n",
            "gcc -Iinclude/ -I3rdparty/stb/include -Wall -Wfatal-errors -Wno-unused-result -Wno-unknown-pragmas -fPIC -rdynamic -Ofast -c ./src/representation_layer.c -o obj/representation_layer.o\n",
            "gcc -Iinclude/ -I3rdparty/stb/include -Wall -Wfatal-errors -Wno-unused-result -Wno-unknown-pragmas -fPIC -rdynamic -Ofast -c ./src/activation_layer.c -o obj/activation_layer.o\n",
            "gcc -Iinclude/ -I3rdparty/stb/include -Wall -Wfatal-errors -Wno-unused-result -Wno-unknown-pragmas -fPIC -rdynamic -Ofast -c ./src/rnn_layer.c -o obj/rnn_layer.o\n",
            "gcc -Iinclude/ -I3rdparty/stb/include -Wall -Wfatal-errors -Wno-unused-result -Wno-unknown-pragmas -fPIC -rdynamic -Ofast -c ./src/gru_layer.c -o obj/gru_layer.o\n",
            "gcc -Iinclude/ -I3rdparty/stb/include -Wall -Wfatal-errors -Wno-unused-result -Wno-unknown-pragmas -fPIC -rdynamic -Ofast -c ./src/rnn.c -o obj/rnn.o\n",
            "gcc -Iinclude/ -I3rdparty/stb/include -Wall -Wfatal-errors -Wno-unused-result -Wno-unknown-pragmas -fPIC -rdynamic -Ofast -c ./src/rnn_vid.c -o obj/rnn_vid.o\n",
            "gcc -Iinclude/ -I3rdparty/stb/include -Wall -Wfatal-errors -Wno-unused-result -Wno-unknown-pragmas -fPIC -rdynamic -Ofast -c ./src/crnn_layer.c -o obj/crnn_layer.o\n",
            "gcc -Iinclude/ -I3rdparty/stb/include -Wall -Wfatal-errors -Wno-unused-result -Wno-unknown-pragmas -fPIC -rdynamic -Ofast -c ./src/demo.c -o obj/demo.o\n",
            "gcc -Iinclude/ -I3rdparty/stb/include -Wall -Wfatal-errors -Wno-unused-result -Wno-unknown-pragmas -fPIC -rdynamic -Ofast -c ./src/tag.c -o obj/tag.o\n",
            "gcc -Iinclude/ -I3rdparty/stb/include -Wall -Wfatal-errors -Wno-unused-result -Wno-unknown-pragmas -fPIC -rdynamic -Ofast -c ./src/cifar.c -o obj/cifar.o\n",
            "gcc -Iinclude/ -I3rdparty/stb/include -Wall -Wfatal-errors -Wno-unused-result -Wno-unknown-pragmas -fPIC -rdynamic -Ofast -c ./src/go.c -o obj/go.o\n",
            "gcc -Iinclude/ -I3rdparty/stb/include -Wall -Wfatal-errors -Wno-unused-result -Wno-unknown-pragmas -fPIC -rdynamic -Ofast -c ./src/batchnorm_layer.c -o obj/batchnorm_layer.o\n",
            "gcc -Iinclude/ -I3rdparty/stb/include -Wall -Wfatal-errors -Wno-unused-result -Wno-unknown-pragmas -fPIC -rdynamic -Ofast -c ./src/art.c -o obj/art.o\n",
            "gcc -Iinclude/ -I3rdparty/stb/include -Wall -Wfatal-errors -Wno-unused-result -Wno-unknown-pragmas -fPIC -rdynamic -Ofast -c ./src/region_layer.c -o obj/region_layer.o\n",
            "gcc -Iinclude/ -I3rdparty/stb/include -Wall -Wfatal-errors -Wno-unused-result -Wno-unknown-pragmas -fPIC -rdynamic -Ofast -c ./src/reorg_layer.c -o obj/reorg_layer.o\n",
            "gcc -Iinclude/ -I3rdparty/stb/include -Wall -Wfatal-errors -Wno-unused-result -Wno-unknown-pragmas -fPIC -rdynamic -Ofast -c ./src/reorg_old_layer.c -o obj/reorg_old_layer.o\n",
            "gcc -Iinclude/ -I3rdparty/stb/include -Wall -Wfatal-errors -Wno-unused-result -Wno-unknown-pragmas -fPIC -rdynamic -Ofast -c ./src/super.c -o obj/super.o\n",
            "gcc -Iinclude/ -I3rdparty/stb/include -Wall -Wfatal-errors -Wno-unused-result -Wno-unknown-pragmas -fPIC -rdynamic -Ofast -c ./src/voxel.c -o obj/voxel.o\n",
            "gcc -Iinclude/ -I3rdparty/stb/include -Wall -Wfatal-errors -Wno-unused-result -Wno-unknown-pragmas -fPIC -rdynamic -Ofast -c ./src/tree.c -o obj/tree.o\n",
            "gcc -Iinclude/ -I3rdparty/stb/include -Wall -Wfatal-errors -Wno-unused-result -Wno-unknown-pragmas -fPIC -rdynamic -Ofast -c ./src/yolo_layer.c -o obj/yolo_layer.o\n",
            "\u001b[01m\u001b[K./src/yolo_layer.c:\u001b[m\u001b[K In function ‘\u001b[01m\u001b[Kprocess_batch\u001b[m\u001b[K’:\n",
            "\u001b[01m\u001b[K./src/yolo_layer.c:426:25:\u001b[m\u001b[K \u001b[01;35m\u001b[Kwarning: \u001b[m\u001b[Kvariable ‘\u001b[01m\u001b[Kbest_match_t\u001b[m\u001b[K’ set but not used [\u001b[01;35m\u001b[K\u001b]8;;https://gcc.gnu.org/onlinedocs/gcc/Warning-Options.html#index-Wunused-but-set-variable\u0007-Wunused-but-set-variable\u001b]8;;\u0007\u001b[m\u001b[K]\n",
            "  426 |                     int \u001b[01;35m\u001b[Kbest_match_t\u001b[m\u001b[K = 0;\n",
            "      |                         \u001b[01;35m\u001b[K^~~~~~~~~~~~\u001b[m\u001b[K\n",
            "\u001b[01m\u001b[K./src/yolo_layer.c:\u001b[m\u001b[K In function ‘\u001b[01m\u001b[Kforward_yolo_layer\u001b[m\u001b[K’:\n",
            "\u001b[01m\u001b[K./src/yolo_layer.c:707:11:\u001b[m\u001b[K \u001b[01;35m\u001b[Kwarning: \u001b[m\u001b[Kunused variable ‘\u001b[01m\u001b[Kavg_anyobj\u001b[m\u001b[K’ [\u001b[01;35m\u001b[K\u001b]8;;https://gcc.gnu.org/onlinedocs/gcc/Warning-Options.html#index-Wunused-variable\u0007-Wunused-variable\u001b]8;;\u0007\u001b[m\u001b[K]\n",
            "  707 |     float \u001b[01;35m\u001b[Kavg_anyobj\u001b[m\u001b[K = 0;\n",
            "      |           \u001b[01;35m\u001b[K^~~~~~~~~~\u001b[m\u001b[K\n",
            "\u001b[01m\u001b[K./src/yolo_layer.c:706:11:\u001b[m\u001b[K \u001b[01;35m\u001b[Kwarning: \u001b[m\u001b[Kunused variable ‘\u001b[01m\u001b[Kavg_obj\u001b[m\u001b[K’ [\u001b[01;35m\u001b[K\u001b]8;;https://gcc.gnu.org/onlinedocs/gcc/Warning-Options.html#index-Wunused-variable\u0007-Wunused-variable\u001b]8;;\u0007\u001b[m\u001b[K]\n",
            "  706 |     float \u001b[01;35m\u001b[Kavg_obj\u001b[m\u001b[K = 0;\n",
            "      |           \u001b[01;35m\u001b[K^~~~~~~\u001b[m\u001b[K\n",
            "\u001b[01m\u001b[K./src/yolo_layer.c:705:11:\u001b[m\u001b[K \u001b[01;35m\u001b[Kwarning: \u001b[m\u001b[Kunused variable ‘\u001b[01m\u001b[Kavg_cat\u001b[m\u001b[K’ [\u001b[01;35m\u001b[K\u001b]8;;https://gcc.gnu.org/onlinedocs/gcc/Warning-Options.html#index-Wunused-variable\u0007-Wunused-variable\u001b]8;;\u0007\u001b[m\u001b[K]\n",
            "  705 |     float \u001b[01;35m\u001b[Kavg_cat\u001b[m\u001b[K = 0;\n",
            "      |           \u001b[01;35m\u001b[K^~~~~~~\u001b[m\u001b[K\n",
            "\u001b[01m\u001b[K./src/yolo_layer.c:704:11:\u001b[m\u001b[K \u001b[01;35m\u001b[Kwarning: \u001b[m\u001b[Kunused variable ‘\u001b[01m\u001b[Krecall75\u001b[m\u001b[K’ [\u001b[01;35m\u001b[K\u001b]8;;https://gcc.gnu.org/onlinedocs/gcc/Warning-Options.html#index-Wunused-variable\u0007-Wunused-variable\u001b]8;;\u0007\u001b[m\u001b[K]\n",
            "  704 |     float \u001b[01;35m\u001b[Krecall75\u001b[m\u001b[K = 0;\n",
            "      |           \u001b[01;35m\u001b[K^~~~~~~~\u001b[m\u001b[K\n",
            "\u001b[01m\u001b[K./src/yolo_layer.c:703:11:\u001b[m\u001b[K \u001b[01;35m\u001b[Kwarning: \u001b[m\u001b[Kunused variable ‘\u001b[01m\u001b[Krecall\u001b[m\u001b[K’ [\u001b[01;35m\u001b[K\u001b]8;;https://gcc.gnu.org/onlinedocs/gcc/Warning-Options.html#index-Wunused-variable\u0007-Wunused-variable\u001b]8;;\u0007\u001b[m\u001b[K]\n",
            "  703 |     float \u001b[01;35m\u001b[Krecall\u001b[m\u001b[K = 0;\n",
            "      |           \u001b[01;35m\u001b[K^~~~~~\u001b[m\u001b[K\n",
            "\u001b[01m\u001b[K./src/yolo_layer.c:702:11:\u001b[m\u001b[K \u001b[01;35m\u001b[Kwarning: \u001b[m\u001b[Kunused variable ‘\u001b[01m\u001b[Ktot_ciou_loss\u001b[m\u001b[K’ [\u001b[01;35m\u001b[K\u001b]8;;https://gcc.gnu.org/onlinedocs/gcc/Warning-Options.html#index-Wunused-variable\u0007-Wunused-variable\u001b]8;;\u0007\u001b[m\u001b[K]\n",
            "  702 |     float \u001b[01;35m\u001b[Ktot_ciou_loss\u001b[m\u001b[K = 0;\n",
            "      |           \u001b[01;35m\u001b[K^~~~~~~~~~~~~\u001b[m\u001b[K\n",
            "\u001b[01m\u001b[K./src/yolo_layer.c:701:11:\u001b[m\u001b[K \u001b[01;35m\u001b[Kwarning: \u001b[m\u001b[Kunused variable ‘\u001b[01m\u001b[Ktot_diou_loss\u001b[m\u001b[K’ [\u001b[01;35m\u001b[K\u001b]8;;https://gcc.gnu.org/onlinedocs/gcc/Warning-Options.html#index-Wunused-variable\u0007-Wunused-variable\u001b]8;;\u0007\u001b[m\u001b[K]\n",
            "  701 |     float \u001b[01;35m\u001b[Ktot_diou_loss\u001b[m\u001b[K = 0;\n",
            "      |           \u001b[01;35m\u001b[K^~~~~~~~~~~~~\u001b[m\u001b[K\n",
            "\u001b[01m\u001b[K./src/yolo_layer.c:698:11:\u001b[m\u001b[K \u001b[01;35m\u001b[Kwarning: \u001b[m\u001b[Kunused variable ‘\u001b[01m\u001b[Ktot_ciou\u001b[m\u001b[K’ [\u001b[01;35m\u001b[K\u001b]8;;https://gcc.gnu.org/onlinedocs/gcc/Warning-Options.html#index-Wunused-variable\u0007-Wunused-variable\u001b]8;;\u0007\u001b[m\u001b[K]\n",
            "  698 |     float \u001b[01;35m\u001b[Ktot_ciou\u001b[m\u001b[K = 0;\n",
            "      |           \u001b[01;35m\u001b[K^~~~~~~~\u001b[m\u001b[K\n",
            "\u001b[01m\u001b[K./src/yolo_layer.c:697:11:\u001b[m\u001b[K \u001b[01;35m\u001b[Kwarning: \u001b[m\u001b[Kunused variable ‘\u001b[01m\u001b[Ktot_diou\u001b[m\u001b[K’ [\u001b[01;35m\u001b[K\u001b]8;;https://gcc.gnu.org/onlinedocs/gcc/Warning-Options.html#index-Wunused-variable\u0007-Wunused-variable\u001b]8;;\u0007\u001b[m\u001b[K]\n",
            "  697 |     float \u001b[01;35m\u001b[Ktot_diou\u001b[m\u001b[K = 0;\n",
            "      |           \u001b[01;35m\u001b[K^~~~~~~~\u001b[m\u001b[K\n",
            "\u001b[01m\u001b[K./src/yolo_layer.c:696:11:\u001b[m\u001b[K \u001b[01;35m\u001b[Kwarning: \u001b[m\u001b[Kunused variable ‘\u001b[01m\u001b[Ktot_giou\u001b[m\u001b[K’ [\u001b[01;35m\u001b[K\u001b]8;;https://gcc.gnu.org/onlinedocs/gcc/Warning-Options.html#index-Wunused-variable\u0007-Wunused-variable\u001b]8;;\u0007\u001b[m\u001b[K]\n",
            "  696 |     float \u001b[01;35m\u001b[Ktot_giou\u001b[m\u001b[K = 0;\n",
            "      |           \u001b[01;35m\u001b[K^~~~~~~~\u001b[m\u001b[K\n",
            "gcc -Iinclude/ -I3rdparty/stb/include -Wall -Wfatal-errors -Wno-unused-result -Wno-unknown-pragmas -fPIC -rdynamic -Ofast -c ./src/gaussian_yolo_layer.c -o obj/gaussian_yolo_layer.o\n",
            "gcc -Iinclude/ -I3rdparty/stb/include -Wall -Wfatal-errors -Wno-unused-result -Wno-unknown-pragmas -fPIC -rdynamic -Ofast -c ./src/upsample_layer.c -o obj/upsample_layer.o\n",
            "gcc -Iinclude/ -I3rdparty/stb/include -Wall -Wfatal-errors -Wno-unused-result -Wno-unknown-pragmas -fPIC -rdynamic -Ofast -c ./src/lstm_layer.c -o obj/lstm_layer.o\n",
            "gcc -Iinclude/ -I3rdparty/stb/include -Wall -Wfatal-errors -Wno-unused-result -Wno-unknown-pragmas -fPIC -rdynamic -Ofast -c ./src/conv_lstm_layer.c -o obj/conv_lstm_layer.o\n",
            "gcc -Iinclude/ -I3rdparty/stb/include -Wall -Wfatal-errors -Wno-unused-result -Wno-unknown-pragmas -fPIC -rdynamic -Ofast -c ./src/scale_channels_layer.c -o obj/scale_channels_layer.o\n",
            "gcc -Iinclude/ -I3rdparty/stb/include -Wall -Wfatal-errors -Wno-unused-result -Wno-unknown-pragmas -fPIC -rdynamic -Ofast -c ./src/sam_layer.c -o obj/sam_layer.o\n",
            "g++ -std=c++11 -std=c++11 -Iinclude/ -I3rdparty/stb/include -Wall -Wfatal-errors -Wno-unused-result -Wno-unknown-pragmas -fPIC -rdynamic -Ofast obj/image_opencv.o obj/http_stream.o obj/gemm.o obj/utils.o obj/dark_cuda.o obj/convolutional_layer.o obj/list.o obj/image.o obj/activations.o obj/im2col.o obj/col2im.o obj/blas.o obj/crop_layer.o obj/dropout_layer.o obj/maxpool_layer.o obj/softmax_layer.o obj/data.o obj/matrix.o obj/network.o obj/connected_layer.o obj/cost_layer.o obj/parser.o obj/option_list.o obj/darknet.o obj/detection_layer.o obj/captcha.o obj/route_layer.o obj/writing.o obj/box.o obj/nightmare.o obj/normalization_layer.o obj/avgpool_layer.o obj/coco.o obj/dice.o obj/yolo.o obj/detector.o obj/layer.o obj/compare.o obj/classifier.o obj/local_layer.o obj/swag.o obj/shortcut_layer.o obj/representation_layer.o obj/activation_layer.o obj/rnn_layer.o obj/gru_layer.o obj/rnn.o obj/rnn_vid.o obj/crnn_layer.o obj/demo.o obj/tag.o obj/cifar.o obj/go.o obj/batchnorm_layer.o obj/art.o obj/region_layer.o obj/reorg_layer.o obj/reorg_old_layer.o obj/super.o obj/voxel.o obj/tree.o obj/yolo_layer.o obj/gaussian_yolo_layer.o obj/upsample_layer.o obj/lstm_layer.o obj/conv_lstm_layer.o obj/scale_channels_layer.o obj/sam_layer.o -o darknet -lm -pthread\n"
          ]
        }
      ]
    },
    {
      "cell_type": "markdown",
      "source": [
        "\n",
        "\n",
        "# **Training a YOLO Model:**\n",
        "\n",
        "*   Clone Darknet, a popular framework for YOLO.\n",
        "*   Create a file containing the names of your classes.\n",
        "*   Create a backup file that saves the model's weights and progress during training.\n",
        "*   Create a data file that specifies paths for training, validation, and test data.\n",
        "*   Prepare configuration files for your YOLO model.\n",
        "*   Modify the Darknet configuration file to match your dataset and training preferences.\n",
        "*   Train the YOLO model using the configured Darknet framework.\n",
        "*   Monitor the training process and adjust parameters as needed.\n"
      ],
      "metadata": {
        "id": "4hYsZsXcsklY"
      }
    },
    {
      "cell_type": "markdown",
      "source": [
        "### **Class file**"
      ],
      "metadata": {
        "id": "rdnJjAmhwVIe"
      }
    },
    {
      "cell_type": "code",
      "source": [
        "class_names = [\n",
        "    \"cheetah\",\n",
        "    \"buffalo\",\n",
        "    \"panda\",\n",
        "    \"elephant\",\n",
        "    \"zebra\",\n",
        "    \"leopard\",\n",
        "    \"jaguar\",\n",
        "    \"lion\",\n",
        "    \"rhino\",\n",
        "    \"fox\"\n",
        "]\n",
        "\n",
        "# Write the class names to the obj.names file\n",
        "with open('/content/obj.names', 'w') as names_file:\n",
        "    for class_name in class_names:\n",
        "        names_file.write(class_name + '\\n')\n",
        "\n",
        "print(\"obj.names file created successfully.\")\n"
      ],
      "metadata": {
        "colab": {
          "base_uri": "https://localhost:8080/"
        },
        "id": "tkGFIyvQBmUI",
        "outputId": "aa1dd88e-72e6-41db-bac0-5ff0e92d6d38"
      },
      "execution_count": 13,
      "outputs": [
        {
          "output_type": "stream",
          "name": "stdout",
          "text": [
            "obj.names file created successfully.\n"
          ]
        }
      ]
    },
    {
      "cell_type": "markdown",
      "source": [
        "### **Backup file**"
      ],
      "metadata": {
        "id": "-m35FYm8ydv-"
      }
    },
    {
      "cell_type": "code",
      "source": [
        "# Specify the backup directory path\n",
        "backup_directory = '/content/backup/'\n",
        "\n",
        "# Create the backup directory if it doesn't exist\n",
        "os.makedirs(backup_directory, exist_ok=True)\n",
        "\n",
        "print(\"Backup directory created successfully.\")"
      ],
      "metadata": {
        "colab": {
          "base_uri": "https://localhost:8080/"
        },
        "id": "CspH4n22FpSQ",
        "outputId": "d2cc9fe8-0915-4d80-978f-9047153a3c23"
      },
      "execution_count": 14,
      "outputs": [
        {
          "output_type": "stream",
          "name": "stdout",
          "text": [
            "Backup directory created successfully.\n"
          ]
        }
      ]
    },
    {
      "cell_type": "markdown",
      "source": [
        "### **Data file**"
      ],
      "metadata": {
        "id": "8ZFFKwdHyka-"
      }
    },
    {
      "cell_type": "code",
      "source": [
        "data_content = \"\"\"\n",
        "classes = 10  # Number of classes\n",
        "train = /content/train_set/train.txt  # Path to the text file containing paths to training images\n",
        "valid = /content/validation_set/valid.txt  # Path to the text file containing paths to validation images\n",
        "names = /content/obj.names  # Path to the text file containing class names\n",
        "backup = /content/backup/  # Directory to save trained weights\n",
        "\"\"\"\n",
        "\n",
        "# Write the content to a .data file\n",
        "with open('/content/data_content.file', 'w') as data_file:\n",
        "    data_file.write(data_content)\n",
        "\n",
        "print(\".data file created successfully.\")\n"
      ],
      "metadata": {
        "colab": {
          "base_uri": "https://localhost:8080/"
        },
        "id": "90jgVl8R-Lj2",
        "outputId": "93c09bfd-006f-4fc5-8dbf-a5db460b4dbd"
      },
      "execution_count": 15,
      "outputs": [
        {
          "output_type": "stream",
          "name": "stdout",
          "text": [
            ".data file created successfully.\n"
          ]
        }
      ]
    },
    {
      "cell_type": "markdown",
      "source": [
        "### **Configuration Files- yolov3.cfg**"
      ],
      "metadata": {
        "id": "52kI3m1c9hBW"
      }
    },
    {
      "cell_type": "code",
      "source": [
        "config_content = \"\"\"\n",
        "[net]\n",
        "batch=32\n",
        "subdivisions=8\n",
        "width=416\n",
        "height=416\n",
        "channels=3\n",
        "momentum=0.9\n",
        "decay=0.0005\n",
        "\n",
        "[convolutional]\n",
        "size=1\n",
        "stride=1\n",
        "pad=1\n",
        "filters=80\n",
        "activation=leaky\n",
        "\n",
        "[yolo]\n",
        "mask = 0,1,2\n",
        "anchors = 10,13, 16,30, 33,23, 30,61, 62,45, 59,119, 116,90, 156,198, 373,326\n",
        "classes=10\n",
        "num=9\n",
        "jitter=.3\n",
        "ignore_thresh = .7\n",
        "truth_thresh = 1\n",
        "random=1\n",
        "\"\"\"\n",
        "\n",
        "print(config_content)\n"
      ],
      "metadata": {
        "colab": {
          "base_uri": "https://localhost:8080/"
        },
        "id": "zu7Bi3fJNXwX",
        "outputId": "3808b4ca-efad-4b89-a001-92f55b5ab1bc"
      },
      "execution_count": 16,
      "outputs": [
        {
          "output_type": "stream",
          "name": "stdout",
          "text": [
            "\n",
            "[net]\n",
            "batch=32\n",
            "subdivisions=8\n",
            "width=416\n",
            "height=416\n",
            "channels=3\n",
            "momentum=0.9\n",
            "decay=0.0005\n",
            "\n",
            "[convolutional]\n",
            "size=1\n",
            "stride=1\n",
            "pad=1\n",
            "filters=80\n",
            "activation=leaky\n",
            "\n",
            "[yolo]\n",
            "mask = 0,1,2\n",
            "anchors = 10,13, 16,30, 33,23, 30,61, 62,45, 59,119, 116,90, 156,198, 373,326\n",
            "classes=10\n",
            "num=9\n",
            "jitter=.3\n",
            "ignore_thresh = .7\n",
            "truth_thresh = 1\n",
            "random=1\n",
            "\n"
          ]
        }
      ]
    },
    {
      "cell_type": "markdown",
      "source": [
        "### **Train YOLO**\n",
        "\n",
        "\n",
        "This algorithm combines the paths to data, configuration and backup files."
      ],
      "metadata": {
        "id": "m1EJWpipy3v3"
      }
    },
    {
      "cell_type": "code",
      "source": [
        "!./darknet detector train '/content/data_content.file' '/content/drive/MyDrive/yolov3.cfg' '/content/backup'"
      ],
      "metadata": {
        "colab": {
          "base_uri": "https://localhost:8080/"
        },
        "id": "pdKe1zO5OGBN",
        "outputId": "b8ac39e5-d977-46e2-de2a-e33e1ab69fac"
      },
      "execution_count": 17,
      "outputs": [
        {
          "output_type": "stream",
          "name": "stdout",
          "text": [
            " GPU isn't used \n",
            " OpenCV isn't used - data augmentation will be slow \n",
            "yolov3\n",
            "max_batches: Using default '0'\n",
            "learning_rate: Using default '0.001000'\n",
            "policy: Using default 'constant'\n",
            "mini_batch = 4, batch = 32, time_steps = 1, train = 1 \n",
            "   layer   filters  size/strd(dil)      input                output\n",
            "   0 conv     80       1 x 1/ 1    416 x 416 x   3 ->  416 x 416 x  80 0.083 BF\n",
            "   1 yolo\n",
            "Error: l.outputs == params.inputs \n",
            "filters= in the [convolutional]-layer doesn't correspond to classes= or mask= in [yolo]-layer \n"
          ]
        }
      ]
    }
  ]
}